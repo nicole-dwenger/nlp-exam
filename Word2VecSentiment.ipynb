{
 "cells": [
  {
   "cell_type": "code",
   "execution_count": 1,
   "id": "60e051ba-7473-407c-9b0d-09c40eff4a7b",
   "metadata": {
    "execution": {
     "iopub.execute_input": "2021-12-16T09:29:19.247118Z",
     "iopub.status.busy": "2021-12-16T09:29:19.246614Z",
     "iopub.status.idle": "2021-12-16T09:29:19.852094Z",
     "shell.execute_reply": "2021-12-16T09:29:19.850794Z",
     "shell.execute_reply.started": "2021-12-16T09:29:19.247067Z"
    },
    "tags": []
   },
   "outputs": [],
   "source": [
    "import numpy as np\n",
    "import re\n",
    "from gensim.models import KeyedVectors\n",
    "import pandas as pd\n",
    "from sklearn.model_selection import train_test_split"
   ]
  },
  {
   "cell_type": "markdown",
   "id": "2c024116-f4b9-45ab-8d89-146dcfb44b6b",
   "metadata": {},
   "source": [
    "## Sentiments"
   ]
  },
  {
   "cell_type": "code",
   "execution_count": 17,
   "id": "a471cbf0-5b24-40ca-9f3e-95e610b5ee20",
   "metadata": {
    "execution": {
     "iopub.execute_input": "2021-12-10T17:20:28.785425Z",
     "iopub.status.busy": "2021-12-10T17:20:28.785273Z",
     "iopub.status.idle": "2021-12-10T17:20:29.124787Z",
     "shell.execute_reply": "2021-12-10T17:20:29.123992Z",
     "shell.execute_reply.started": "2021-12-10T17:20:28.785408Z"
    }
   },
   "outputs": [],
   "source": [
    "sentiments = pd.read_csv(\"asent/asent/lexicons/da_lexicon_v1.csv\")"
   ]
  },
  {
   "cell_type": "code",
   "execution_count": 18,
   "id": "b7f93c79-f008-4cfd-8825-e8f3d2b788a1",
   "metadata": {
    "execution": {
     "iopub.execute_input": "2021-12-10T17:20:29.126267Z",
     "iopub.status.busy": "2021-12-10T17:20:29.125990Z",
     "iopub.status.idle": "2021-12-10T17:20:29.276880Z",
     "shell.execute_reply": "2021-12-10T17:20:29.276300Z",
     "shell.execute_reply.started": "2021-12-10T17:20:29.126242Z"
    }
   },
   "outputs": [
    {
     "data": {
      "text/html": [
       "<div>\n",
       "<style scoped>\n",
       "    .dataframe tbody tr th:only-of-type {\n",
       "        vertical-align: middle;\n",
       "    }\n",
       "\n",
       "    .dataframe tbody tr th {\n",
       "        vertical-align: top;\n",
       "    }\n",
       "\n",
       "    .dataframe thead th {\n",
       "        text-align: right;\n",
       "    }\n",
       "</style>\n",
       "<table border=\"1\" class=\"dataframe\">\n",
       "  <thead>\n",
       "    <tr style=\"text-align: right;\">\n",
       "      <th></th>\n",
       "      <th>word</th>\n",
       "      <th>score</th>\n",
       "    </tr>\n",
       "  </thead>\n",
       "  <tbody>\n",
       "    <tr>\n",
       "      <th>0</th>\n",
       "      <td>abe</td>\n",
       "      <td>-1.000000</td>\n",
       "    </tr>\n",
       "    <tr>\n",
       "      <th>1</th>\n",
       "      <td>abort</td>\n",
       "      <td>-0.333333</td>\n",
       "    </tr>\n",
       "    <tr>\n",
       "      <th>2</th>\n",
       "      <td>absolut</td>\n",
       "      <td>0.333333</td>\n",
       "    </tr>\n",
       "    <tr>\n",
       "      <th>3</th>\n",
       "      <td>abstrakt</td>\n",
       "      <td>0.666667</td>\n",
       "    </tr>\n",
       "    <tr>\n",
       "      <th>4</th>\n",
       "      <td>absurd</td>\n",
       "      <td>-2.333333</td>\n",
       "    </tr>\n",
       "  </tbody>\n",
       "</table>\n",
       "</div>"
      ],
      "text/plain": [
       "       word     score\n",
       "0       abe -1.000000\n",
       "1     abort -0.333333\n",
       "2   absolut  0.333333\n",
       "3  abstrakt  0.666667\n",
       "4    absurd -2.333333"
      ]
     },
     "execution_count": 18,
     "metadata": {},
     "output_type": "execute_result"
    }
   ],
   "source": [
    "sentiments[:5]"
   ]
  },
  {
   "cell_type": "markdown",
   "id": "aacdd0e1-6eab-43d4-bf27-6d824001a458",
   "metadata": {
    "execution": {
     "iopub.execute_input": "2021-12-10T17:17:22.149542Z",
     "iopub.status.busy": "2021-12-10T17:17:22.149028Z",
     "iopub.status.idle": "2021-12-10T17:17:22.156194Z",
     "shell.execute_reply": "2021-12-10T17:17:22.154550Z",
     "shell.execute_reply.started": "2021-12-10T17:17:22.149491Z"
    }
   },
   "source": [
    "## WORD2VEC"
   ]
  },
  {
   "cell_type": "markdown",
   "id": "c8061256-d0a0-4c83-9f21-c1a48e679d3e",
   "metadata": {},
   "source": [
    "### Loading embeddings and sentiments"
   ]
  },
  {
   "cell_type": "code",
   "execution_count": 11,
   "id": "f0d9abf8-5687-47af-b52c-ca4fe93dd759",
   "metadata": {
    "execution": {
     "iopub.execute_input": "2021-12-16T09:45:06.901271Z",
     "iopub.status.busy": "2021-12-16T09:45:06.900707Z",
     "iopub.status.idle": "2021-12-16T09:45:19.501069Z",
     "shell.execute_reply": "2021-12-16T09:45:19.498266Z",
     "shell.execute_reply.started": "2021-12-16T09:45:06.901215Z"
    },
    "tags": []
   },
   "outputs": [],
   "source": [
    "word2vec = KeyedVectors.load_word2vec_format('embeddings/semantic_model_DAGW_cbow.wv.bin', binary=True)"
   ]
  },
  {
   "cell_type": "code",
   "execution_count": 12,
   "id": "8023ffe1-ad76-41dd-a19d-fedd0fd4b7e8",
   "metadata": {
    "execution": {
     "iopub.execute_input": "2021-12-16T09:45:21.019549Z",
     "iopub.status.busy": "2021-12-16T09:45:21.018947Z",
     "iopub.status.idle": "2021-12-16T09:45:22.476013Z",
     "shell.execute_reply": "2021-12-16T09:45:22.474767Z",
     "shell.execute_reply.started": "2021-12-16T09:45:21.019498Z"
    },
    "tags": []
   },
   "outputs": [],
   "source": [
    "my_dict = dict({})\n",
    "for idx, key in enumerate(word2vec.key_to_index):\n",
    "    my_dict[key] = word2vec[key]"
   ]
  },
  {
   "cell_type": "code",
   "execution_count": 14,
   "id": "c3213099-c035-4bc9-a401-ed30dbb73b63",
   "metadata": {
    "execution": {
     "iopub.execute_input": "2021-12-16T10:08:39.959424Z",
     "iopub.status.busy": "2021-12-16T10:08:39.959245Z",
     "iopub.status.idle": "2021-12-16T10:08:39.966942Z",
     "shell.execute_reply": "2021-12-16T10:08:39.966488Z",
     "shell.execute_reply.started": "2021-12-16T10:08:39.959403Z"
    },
    "tags": []
   },
   "outputs": [
    {
     "data": {
      "text/plain": [
       "array([-5.44577390e-02, -1.95206292e-02, -5.21334074e-02, -3.63027714e-02,\n",
       "        3.16028632e-02, -4.82380986e-02, -2.97096968e-02,  5.71238063e-02,\n",
       "       -8.20544083e-03,  1.41782770e-02, -2.00094413e-02,  2.07450497e-03,\n",
       "        5.30896522e-02, -3.18971500e-02,  5.52097224e-02, -1.45272305e-02,\n",
       "       -2.79464107e-02, -7.88782090e-02, -8.78869146e-02,  2.97148898e-02,\n",
       "       -6.26806915e-02, -6.75774515e-02, -1.64186843e-02,  2.36200634e-03,\n",
       "       -6.16080016e-02,  1.70091186e-02,  2.11043395e-02, -1.25539757e-03,\n",
       "       -3.77942692e-03,  2.05034167e-02, -3.28624691e-03, -3.09932865e-02,\n",
       "       -5.50933294e-02,  8.24128240e-02,  6.55494183e-02,  2.80603599e-02,\n",
       "        1.18187163e-02,  2.51543950e-02,  1.99077446e-02, -6.44484302e-03,\n",
       "       -6.17770851e-02,  5.34106158e-02, -5.26156500e-02,  5.00716530e-02,\n",
       "       -8.78605247e-02,  3.96079272e-02,  4.51625548e-02,  5.23860045e-02,\n",
       "       -7.07231611e-02,  5.22112995e-02, -5.58102131e-02,  5.78433312e-02,\n",
       "        6.42338991e-02, -1.72407757e-02,  1.66077744e-02, -1.45552242e-02,\n",
       "       -5.79276606e-02,  6.65858947e-03, -1.03388214e-02, -8.00699741e-02,\n",
       "       -6.66255355e-02, -1.04978587e-03,  8.60716999e-02,  2.02322509e-02,\n",
       "        4.42762636e-02,  6.12321170e-03, -6.23102486e-02, -2.74510607e-02,\n",
       "       -1.15069062e-01,  4.67768013e-02,  3.61333089e-03, -9.80862603e-02,\n",
       "        4.41307127e-02,  2.51755621e-02,  1.71705261e-02, -1.53217753e-02,\n",
       "        4.07479927e-02,  4.99292240e-02,  9.72911417e-02,  1.25173451e-02,\n",
       "       -6.61757365e-02,  3.34940925e-02, -8.48855302e-02,  2.38833800e-02,\n",
       "        9.95766222e-02, -5.55679388e-02, -3.37916724e-02,  5.31920083e-02,\n",
       "        1.20736714e-02,  5.49438223e-02,  1.49421189e-02, -1.81305222e-02,\n",
       "        1.29671097e-02, -7.68992933e-04, -4.23218347e-02,  2.58214436e-02,\n",
       "       -4.04107086e-02,  1.29751703e-02,  3.74644957e-02,  4.13145982e-02,\n",
       "        2.05203891e-02,  6.64266273e-02, -3.98740126e-03, -6.67638704e-02,\n",
       "       -2.19017500e-04,  9.60968342e-03,  2.28000265e-02,  6.21897839e-02,\n",
       "        3.63919064e-02,  3.61530557e-02, -3.61581966e-02,  2.76939105e-02,\n",
       "       -8.96314159e-03,  3.44268046e-02,  4.11675423e-02,  3.71895693e-02,\n",
       "        3.33207324e-02,  5.08283302e-02, -9.34155509e-02, -9.21206847e-02,\n",
       "       -3.38655636e-02, -1.13880087e-03,  6.63606729e-03,  9.84794809e-04,\n",
       "        7.82238171e-02, -1.44128382e-01, -7.50269070e-02,  7.98573077e-04,\n",
       "       -1.08160414e-02, -6.63878545e-02, -3.84448692e-02,  1.33832376e-02,\n",
       "        1.69123504e-02, -6.22650236e-02,  9.30099050e-04,  1.71485804e-02,\n",
       "       -5.67279980e-02, -2.66257208e-02, -1.06370160e-02,  9.24858153e-02,\n",
       "       -3.42523754e-02,  9.24375933e-03,  4.73824479e-02,  3.64111923e-03,\n",
       "       -6.10285699e-02, -2.87346542e-02, -1.44049162e-02, -5.77706434e-02,\n",
       "        6.09196723e-03,  6.89772144e-02,  2.64383182e-02, -9.96144339e-02,\n",
       "       -4.53183353e-02,  1.58827344e-03, -1.24581363e-02, -1.13186585e-02,\n",
       "        7.26812780e-02, -1.61537584e-02,  2.11552791e-02,  7.90809095e-03,\n",
       "       -1.09031508e-02,  4.83169965e-02,  9.57274958e-02,  1.89200020e-03,\n",
       "        2.91201118e-02,  1.57478508e-02,  4.57037846e-03, -6.82981834e-02,\n",
       "        8.54976848e-02,  6.01690598e-02, -1.40512297e-02, -3.02047580e-02,\n",
       "       -7.31723607e-02,  2.16038488e-02,  2.01110039e-02, -1.30752344e-02,\n",
       "        4.52907756e-03, -4.26263548e-02, -1.89360045e-02, -3.19723003e-02,\n",
       "        4.70310710e-02, -4.60473262e-02,  9.08762068e-02,  2.48285756e-02,\n",
       "        5.34301549e-02,  2.87681930e-02,  7.40368962e-02, -7.44399428e-02,\n",
       "        1.08119454e-02,  5.13691269e-02, -1.00132460e-02,  1.24812368e-02,\n",
       "       -2.33003590e-02, -2.48352066e-02,  2.95979362e-02,  2.20818203e-02,\n",
       "        8.54951665e-02, -5.07187694e-02, -7.74684921e-02,  4.37477641e-02,\n",
       "        2.91223302e-02, -6.06652983e-02,  1.94116533e-02,  8.54402035e-03,\n",
       "       -2.90226042e-02,  7.47539103e-02, -4.02541496e-02, -1.95869822e-02,\n",
       "        1.75435888e-03, -4.55167537e-05,  6.29459918e-02,  1.62151605e-02,\n",
       "        6.21507838e-02,  4.77323756e-02,  1.02668172e-02, -1.29444310e-02,\n",
       "        6.30604103e-02,  1.86219753e-03,  6.06358610e-02, -5.99684678e-02,\n",
       "       -1.08488664e-01,  2.39258315e-02, -4.68309224e-02, -6.65683439e-03,\n",
       "       -7.86637887e-03, -6.98543265e-02,  1.30153388e-01,  2.55951006e-02,\n",
       "        8.56214017e-02, -1.75472181e-02, -2.37922613e-02,  1.78326312e-02,\n",
       "        2.42647212e-02,  1.34320725e-02,  3.49371582e-02, -1.62975118e-02,\n",
       "       -8.36455896e-02, -2.01734528e-02, -2.22301148e-02,  2.70953286e-03,\n",
       "        1.22119794e-02, -1.99398529e-02,  1.00789999e-03, -7.49391690e-02,\n",
       "       -3.45013626e-02,  4.63399999e-02, -5.12991697e-02, -3.87718529e-02,\n",
       "       -9.61200893e-02, -4.01985347e-02,  2.88735256e-02,  6.60750922e-03,\n",
       "        9.06690732e-02,  3.50217484e-02, -6.70402916e-03,  3.63072120e-02,\n",
       "        5.35345934e-02,  1.96130816e-02, -1.04010612e-01,  9.05998144e-03,\n",
       "       -2.25169137e-02, -7.09587634e-02, -1.03451207e-01,  7.38115534e-02,\n",
       "        2.08418760e-02,  8.98965150e-02,  2.42985087e-03,  4.55933399e-02,\n",
       "        8.12407807e-02,  1.69302560e-02, -6.81862608e-02, -2.80597783e-03,\n",
       "       -1.80340875e-02, -2.02852562e-02,  7.67724290e-02,  3.43498848e-02,\n",
       "        2.38651056e-02, -1.38577828e-02, -4.93189767e-02, -2.60906201e-02,\n",
       "        1.41906962e-02,  1.32102601e-03, -7.73312598e-02,  7.10057188e-03,\n",
       "        2.82921072e-04,  1.84276737e-02,  2.72013787e-02, -2.50291470e-02,\n",
       "        5.86793497e-02, -6.64911866e-02, -1.10736318e-01, -6.17593490e-02,\n",
       "        4.23071906e-02,  1.72418579e-02,  1.76902674e-02,  3.85605134e-02,\n",
       "        4.07161424e-03,  4.21808027e-02, -9.55034047e-02, -2.33048648e-02],\n",
       "      dtype=float32)"
      ]
     },
     "execution_count": 14,
     "metadata": {},
     "output_type": "execute_result"
    }
   ],
   "source": [
    "my_dict[\"glemte\"]"
   ]
  },
  {
   "cell_type": "markdown",
   "id": "d247e1fd-f3c3-48e8-847b-318c783582ef",
   "metadata": {},
   "source": [
    "### Combining embeddings and sentiments"
   ]
  },
  {
   "cell_type": "code",
   "execution_count": 61,
   "id": "a8f50b77-e3b1-4979-8906-7ad72aa734a8",
   "metadata": {
    "execution": {
     "iopub.execute_input": "2021-12-10T11:01:51.370969Z",
     "iopub.status.busy": "2021-12-10T11:01:51.370814Z",
     "iopub.status.idle": "2021-12-10T11:01:51.592219Z",
     "shell.execute_reply": "2021-12-10T11:01:51.591033Z",
     "shell.execute_reply.started": "2021-12-10T11:01:51.370952Z"
    },
    "tags": []
   },
   "outputs": [],
   "source": [
    "y = []\n",
    "X = []\n",
    "not_found = []\n",
    "\n",
    "for index, row in sentiments.iterrows():\n",
    "    raw_word = row[\"word\"]\n",
    "    word = raw_word.lower()\n",
    "    sent = row[\"score\"]\n",
    "    if word in my_dict: \n",
    "        embed = my_dict[word]\n",
    "        y.append(sent)\n",
    "        X.append(embed)\n",
    "    else:\n",
    "        not_found.append(word)"
   ]
  },
  {
   "cell_type": "code",
   "execution_count": 63,
   "id": "15e5b663-70c5-4258-8902-e7171fe762ec",
   "metadata": {
    "execution": {
     "iopub.execute_input": "2021-12-10T11:14:36.127417Z",
     "iopub.status.busy": "2021-12-10T11:14:36.127275Z",
     "iopub.status.idle": "2021-12-10T11:14:36.132154Z",
     "shell.execute_reply": "2021-12-10T11:14:36.131637Z",
     "shell.execute_reply.started": "2021-12-10T11:14:36.127400Z"
    },
    "tags": []
   },
   "outputs": [
    {
     "name": "stdout",
     "output_type": "stream",
     "text": [
      "embeddings: 6420 ; sentiment labels: 6420 ; not embedding found: 172\n"
     ]
    }
   ],
   "source": [
    "print(\"embeddings:\", len(X), \"; sentiment labels:\", len(y), \"; not embedding found:\", len(not_found))"
   ]
  },
  {
   "cell_type": "code",
   "execution_count": 64,
   "id": "dcdce464-529f-40cf-8a7a-d0c99f61a528",
   "metadata": {
    "execution": {
     "iopub.execute_input": "2021-12-10T11:15:31.220910Z",
     "iopub.status.busy": "2021-12-10T11:15:31.220769Z",
     "iopub.status.idle": "2021-12-10T11:15:31.226598Z",
     "shell.execute_reply": "2021-12-10T11:15:31.226086Z",
     "shell.execute_reply.started": "2021-12-10T11:15:31.220895Z"
    },
    "tags": []
   },
   "outputs": [],
   "source": [
    "# save non found\n",
    "textfile = open(\"appendix/not_found_words.txt\", \"w\")\n",
    "for element in not_found:\n",
    "    textfile.write(element + \"\\n\")\n",
    "textfile.close()"
   ]
  },
  {
   "cell_type": "code",
   "execution_count": 65,
   "id": "7f30a990-2427-4e32-b53b-977fe11472e6",
   "metadata": {
    "execution": {
     "iopub.execute_input": "2021-12-10T11:18:05.868099Z",
     "iopub.status.busy": "2021-12-10T11:18:05.867952Z",
     "iopub.status.idle": "2021-12-10T11:18:06.114395Z",
     "shell.execute_reply": "2021-12-10T11:18:06.113239Z",
     "shell.execute_reply.started": "2021-12-10T11:18:05.868082Z"
    },
    "tags": []
   },
   "outputs": [
    {
     "name": "stdout",
     "output_type": "stream",
     "text": [
      "Shape of X: (6420, 300) ; Shape of y: (6420,)\n"
     ]
    }
   ],
   "source": [
    "# save X and y arrays\n",
    "X_array = np.array(X)\n",
    "y_array = np.array(y)\n",
    "\n",
    "print(\"Shape of X:\", X_array.shape, \"; Shape of y:\", y_array.shape)\n",
    "\n",
    "np.save(\"output/X_array.npy\", X_array)\n",
    "np.save(\"output/y_array.npy\", y_array)"
   ]
  },
  {
   "cell_type": "code",
   "execution_count": 58,
   "id": "9c99353f-cb84-4ee7-81f6-40b8aed2de7c",
   "metadata": {
    "execution": {
     "iopub.execute_input": "2021-12-10T10:52:46.087033Z",
     "iopub.status.busy": "2021-12-10T10:52:46.086889Z",
     "iopub.status.idle": "2021-12-10T10:52:46.115498Z",
     "shell.execute_reply": "2021-12-10T10:52:46.114933Z",
     "shell.execute_reply.started": "2021-12-10T10:52:46.087017Z"
    },
    "tags": []
   },
   "outputs": [
    {
     "data": {
      "text/plain": [
       "{-5.0,\n",
       " -4.66666666666667,\n",
       " -4.33333333333333,\n",
       " -4.16666666666667,\n",
       " -4.0,\n",
       " -3.66666666666667,\n",
       " -3.6666666666666665,\n",
       " -3.5,\n",
       " -3.33333333333333,\n",
       " -3.16666666666667,\n",
       " -3.0,\n",
       " -2.83333333333333,\n",
       " -2.66666666666667,\n",
       " -2.5,\n",
       " -2.33333333333333,\n",
       " -2.16666666666667,\n",
       " -2.0,\n",
       " -1.66666666666667,\n",
       " -1.5,\n",
       " -1.33333333333333,\n",
       " -1.16666666666667,\n",
       " -1.0,\n",
       " -0.833333333333333,\n",
       " -0.666666666666667,\n",
       " -0.5,\n",
       " -0.444444444444444,\n",
       " -0.333333333333333,\n",
       " -0.166666666666667,\n",
       " 0.0,\n",
       " 0.111111111111111,\n",
       " 0.166666666666667,\n",
       " 0.333333333333333,\n",
       " 0.444444444444444,\n",
       " 0.5,\n",
       " 0.666666666666667,\n",
       " 0.777777777777778,\n",
       " 0.833333333333333,\n",
       " 1.0,\n",
       " 1.11111111111111,\n",
       " 1.16666666666667,\n",
       " 1.33333333333333,\n",
       " 1.5,\n",
       " 1.66666666666667,\n",
       " 1.83333333333333,\n",
       " 2.0,\n",
       " 2.33333333333333,\n",
       " 2.333333333333333,\n",
       " 2.5,\n",
       " 2.66666666666667,\n",
       " 2.83333333333333,\n",
       " 3.0,\n",
       " 3.16666666666667,\n",
       " 3.33333333333333,\n",
       " 3.66666666666667,\n",
       " 4.0,\n",
       " 4.33333333333333,\n",
       " 4.66666666666667,\n",
       " 5.0}"
      ]
     },
     "execution_count": 58,
     "metadata": {},
     "output_type": "execute_result"
    }
   ],
   "source": [
    "set(y)"
   ]
  },
  {
   "cell_type": "code",
   "execution_count": null,
   "id": "9a5e7ab7-8e7d-413e-ab64-972379fe9474",
   "metadata": {},
   "outputs": [],
   "source": [
    "# split test train\n",
    "X_train, X_test, y_train, y_test = train_test_split(X, y, test_size=0.2, train_size=0.8, \n",
    "                                                    random_state=3, shuffle=True, stratify=y)\n",
    "\n",
    "X_train, X_val, y_train, y_val =  train_test_split(X_train, y_train, test_size=0.2, train_size=0.8, \n",
    "                                                    random_state=3, shuffle=True, stratify=y_train)"
   ]
  },
  {
   "cell_type": "markdown",
   "id": "a96000f6-ada3-4fd3-be4c-b58a88d9d973",
   "metadata": {},
   "source": [
    "## Model"
   ]
  },
  {
   "cell_type": "code",
   "execution_count": 1,
   "id": "2f4942bd-8c0e-4ede-aefa-5297f43ffb7d",
   "metadata": {
    "execution": {
     "iopub.execute_input": "2021-12-10T13:49:22.680461Z",
     "iopub.status.busy": "2021-12-10T13:49:22.679426Z",
     "iopub.status.idle": "2021-12-10T13:49:24.507183Z",
     "shell.execute_reply": "2021-12-10T13:49:24.506159Z",
     "shell.execute_reply.started": "2021-12-10T13:49:22.680412Z"
    },
    "tags": []
   },
   "outputs": [
    {
     "name": "stderr",
     "output_type": "stream",
     "text": [
      "2021-12-10 14:49:23.135094: W tensorflow/stream_executor/platform/default/dso_loader.cc:64] Could not load dynamic library 'libcudart.so.11.0'; dlerror: libcudart.so.11.0: cannot open shared object file: No such file or directory\n",
      "2021-12-10 14:49:23.135134: I tensorflow/stream_executor/cuda/cudart_stub.cc:29] Ignore above cudart dlerror if you do not have a GPU set up on your machine.\n"
     ]
    }
   ],
   "source": [
    "import numpy as np\n",
    "from sklearn import datasets\n",
    "from sklearn.model_selection import train_test_split, GridSearchCV\n",
    "from sklearn.metrics import classification_report\n",
    "from sklearn.linear_model import LogisticRegression\n",
    "from sklearn.pipeline import Pipeline\n",
    "\n",
    "from tensorflow.keras.models import Sequential\n",
    "from tensorflow.keras.layers import Dense\n",
    "from tensorflow.keras.optimizers import SGD, Adam\n",
    "from tensorflow.keras.wrappers.scikit_learn import KerasClassifier\n",
    "from tensorflow.keras.utils import plot_model\n",
    "\n",
    "import pydot, graphviz"
   ]
  },
  {
   "cell_type": "code",
   "execution_count": 14,
   "id": "948c48ca-14b9-45d7-b6c5-2a616dc82ca5",
   "metadata": {
    "execution": {
     "iopub.execute_input": "2021-12-10T13:53:13.056834Z",
     "iopub.status.busy": "2021-12-10T13:53:13.056259Z",
     "iopub.status.idle": "2021-12-10T13:53:13.067283Z",
     "shell.execute_reply": "2021-12-10T13:53:13.065682Z",
     "shell.execute_reply.started": "2021-12-10T13:53:13.056779Z"
    },
    "tags": []
   },
   "outputs": [],
   "source": [
    "def nn_model(optimizer, loss=\"mse\", metrics=\"accuracy\"):\n",
    "    \n",
    "    # create a sequential model\n",
    "    model = Sequential()\n",
    "    \n",
    "    model.add(Dense(100, input_shape=(300,), activation=\"relu\"), )\n",
    "    model.add(Dense(1))\n",
    "\n",
    "    # categorical cross-entropy, optimizer defined in function call\n",
    "    model.compile(loss=loss, \n",
    "                  optimizer=optimizer, \n",
    "                  metrics=metrics)\n",
    "\n",
    "    # return the compiled model\n",
    "    return model"
   ]
  },
  {
   "cell_type": "code",
   "execution_count": 15,
   "id": "ea435938-4325-4c20-b1cc-4c012bb5a508",
   "metadata": {
    "execution": {
     "iopub.execute_input": "2021-12-10T13:53:13.537083Z",
     "iopub.status.busy": "2021-12-10T13:53:13.536468Z",
     "iopub.status.idle": "2021-12-10T13:53:13.570702Z",
     "shell.execute_reply": "2021-12-10T13:53:13.569836Z",
     "shell.execute_reply.started": "2021-12-10T13:53:13.537035Z"
    },
    "tags": []
   },
   "outputs": [],
   "source": [
    "model = nn_model(optimizer=\"adam\")"
   ]
  },
  {
   "cell_type": "code",
   "execution_count": 16,
   "id": "23ea5d1e-3bdb-44cf-b067-36bd4f23bb47",
   "metadata": {
    "execution": {
     "iopub.execute_input": "2021-12-10T13:53:13.818591Z",
     "iopub.status.busy": "2021-12-10T13:53:13.818124Z",
     "iopub.status.idle": "2021-12-10T13:53:13.958208Z",
     "shell.execute_reply": "2021-12-10T13:53:13.956699Z",
     "shell.execute_reply.started": "2021-12-10T13:53:13.818543Z"
    },
    "tags": []
   },
   "outputs": [
    {
     "name": "stdout",
     "output_type": "stream",
     "text": [
      "Model: \"sequential_3\"\n",
      "_________________________________________________________________\n",
      " Layer (type)                Output Shape              Param #   \n",
      "=================================================================\n",
      " dense_7 (Dense)             (None, 100)               30100     \n",
      "                                                                 \n",
      " dense_8 (Dense)             (None, 1)                 101       \n",
      "                                                                 \n",
      "=================================================================\n",
      "Total params: 30,201\n",
      "Trainable params: 30,201\n",
      "Non-trainable params: 0\n",
      "_________________________________________________________________\n"
     ]
    }
   ],
   "source": [
    "model.summary()"
   ]
  },
  {
   "cell_type": "code",
   "execution_count": 10,
   "id": "82c7885c-d23d-4e4d-a31e-7e9c79170df6",
   "metadata": {
    "execution": {
     "iopub.execute_input": "2021-12-10T13:52:33.638139Z",
     "iopub.status.busy": "2021-12-10T13:52:33.637573Z",
     "iopub.status.idle": "2021-12-10T13:52:33.687516Z",
     "shell.execute_reply": "2021-12-10T13:52:33.686154Z",
     "shell.execute_reply.started": "2021-12-10T13:52:33.638087Z"
    },
    "tags": []
   },
   "outputs": [
    {
     "name": "stdout",
     "output_type": "stream",
     "text": [
      "('You must install pydot (`pip install pydot`) and install graphviz (see instructions at https://graphviz.gitlab.io/download/) ', 'for plot_model/model_to_dot to work.')\n"
     ]
    }
   ],
   "source": [
    "plot_model(model)"
   ]
  },
  {
   "cell_type": "code",
   "execution_count": 19,
   "id": "3eb3011c-1498-4bcc-9c16-09071774f2c6",
   "metadata": {
    "execution": {
     "iopub.execute_input": "2021-12-10T14:17:06.685818Z",
     "iopub.status.busy": "2021-12-10T14:17:06.685298Z",
     "iopub.status.idle": "2021-12-10T14:17:06.694182Z",
     "shell.execute_reply": "2021-12-10T14:17:06.693291Z",
     "shell.execute_reply.started": "2021-12-10T14:17:06.685768Z"
    },
    "tags": []
   },
   "outputs": [],
   "source": [
    "y = np.load(\"output/y_array.npy\")"
   ]
  },
  {
   "cell_type": "code",
   "execution_count": 20,
   "id": "2bb25903-89f9-40ad-bc26-40ce685d4b49",
   "metadata": {
    "execution": {
     "iopub.execute_input": "2021-12-10T14:17:08.269552Z",
     "iopub.status.busy": "2021-12-10T14:17:08.269086Z",
     "iopub.status.idle": "2021-12-10T14:17:08.279426Z",
     "shell.execute_reply": "2021-12-10T14:17:08.278243Z",
     "shell.execute_reply.started": "2021-12-10T14:17:08.269504Z"
    }
   },
   "outputs": [
    {
     "data": {
      "text/plain": [
       "array([-1.        , -0.33333333,  0.33333333, ..., -1.        ,\n",
       "       -2.        , -3.        ])"
      ]
     },
     "execution_count": 20,
     "metadata": {},
     "output_type": "execute_result"
    }
   ],
   "source": [
    "y"
   ]
  },
  {
   "cell_type": "code",
   "execution_count": 21,
   "id": "6efc4b0e-8343-449f-b568-b7cd4d50c9be",
   "metadata": {
    "execution": {
     "iopub.execute_input": "2021-12-10T14:17:13.760289Z",
     "iopub.status.busy": "2021-12-10T14:17:13.759782Z",
     "iopub.status.idle": "2021-12-10T14:17:13.770632Z",
     "shell.execute_reply": "2021-12-10T14:17:13.769484Z",
     "shell.execute_reply.started": "2021-12-10T14:17:13.760239Z"
    }
   },
   "outputs": [
    {
     "data": {
      "text/plain": [
       "-5.0"
      ]
     },
     "execution_count": 21,
     "metadata": {},
     "output_type": "execute_result"
    }
   ],
   "source": [
    "min(y)"
   ]
  },
  {
   "cell_type": "code",
   "execution_count": 22,
   "id": "262b116f-9a56-4ada-86bf-7289e394b402",
   "metadata": {
    "execution": {
     "iopub.execute_input": "2021-12-10T14:17:16.822570Z",
     "iopub.status.busy": "2021-12-10T14:17:16.822071Z",
     "iopub.status.idle": "2021-12-10T14:17:16.832781Z",
     "shell.execute_reply": "2021-12-10T14:17:16.831581Z",
     "shell.execute_reply.started": "2021-12-10T14:17:16.822520Z"
    }
   },
   "outputs": [
    {
     "data": {
      "text/plain": [
       "5.0"
      ]
     },
     "execution_count": 22,
     "metadata": {},
     "output_type": "execute_result"
    }
   ],
   "source": [
    "max(y)"
   ]
  },
  {
   "cell_type": "code",
   "execution_count": 24,
   "id": "ce48f5f6-6685-40d8-a677-79f59b7f8635",
   "metadata": {
    "execution": {
     "iopub.execute_input": "2021-12-10T14:17:24.639454Z",
     "iopub.status.busy": "2021-12-10T14:17:24.638973Z",
     "iopub.status.idle": "2021-12-10T14:17:24.649406Z",
     "shell.execute_reply": "2021-12-10T14:17:24.648332Z",
     "shell.execute_reply.started": "2021-12-10T14:17:24.639405Z"
    },
    "tags": []
   },
   "outputs": [
    {
     "data": {
      "text/plain": [
       "-0.19286085150571133"
      ]
     },
     "execution_count": 24,
     "metadata": {},
     "output_type": "execute_result"
    }
   ],
   "source": [
    "y.mean()"
   ]
  },
  {
   "cell_type": "code",
   "execution_count": 27,
   "id": "7e40fc13-3b31-4542-8fe5-3a2c5b42aa8d",
   "metadata": {
    "execution": {
     "iopub.execute_input": "2021-12-10T14:18:24.401194Z",
     "iopub.status.busy": "2021-12-10T14:18:24.400668Z",
     "iopub.status.idle": "2021-12-10T14:18:24.411637Z",
     "shell.execute_reply": "2021-12-10T14:18:24.410235Z",
     "shell.execute_reply.started": "2021-12-10T14:18:24.401142Z"
    },
    "tags": []
   },
   "outputs": [
    {
     "data": {
      "text/plain": [
       "0.333333333333333"
      ]
     },
     "execution_count": 27,
     "metadata": {},
     "output_type": "execute_result"
    }
   ],
   "source": [
    "np.median(y)"
   ]
  },
  {
   "cell_type": "markdown",
   "id": "ade918ee-0366-4742-a55d-652b2547fd4f",
   "metadata": {},
   "source": [
    "## FASTTEXT"
   ]
  },
  {
   "cell_type": "code",
   "execution_count": 19,
   "id": "57c61cee-9182-4da9-95ff-7dd52911dc1e",
   "metadata": {
    "execution": {
     "iopub.execute_input": "2021-12-10T17:20:29.277789Z",
     "iopub.status.busy": "2021-12-10T17:20:29.277620Z",
     "iopub.status.idle": "2021-12-10T17:20:29.406166Z",
     "shell.execute_reply": "2021-12-10T17:20:29.404842Z",
     "shell.execute_reply.started": "2021-12-10T17:20:29.277771Z"
    },
    "tags": []
   },
   "outputs": [],
   "source": [
    "# pip install gensim==4.1.2\n",
    "from gensim.models import FastText\n",
    "import os"
   ]
  },
  {
   "cell_type": "code",
   "execution_count": 20,
   "id": "cac3dc40-5c58-46dc-b512-31ac4adfe55d",
   "metadata": {
    "execution": {
     "iopub.execute_input": "2021-12-10T17:21:31.283639Z",
     "iopub.status.busy": "2021-12-10T17:21:31.283131Z",
     "iopub.status.idle": "2021-12-10T17:23:56.777359Z",
     "shell.execute_reply": "2021-12-10T17:23:56.776439Z",
     "shell.execute_reply.started": "2021-12-10T17:21:31.283591Z"
    },
    "tags": []
   },
   "outputs": [],
   "source": [
    "ft_model = FastText.load(\"../../dagw_fasttext_embeddings/fasttext_model/fasttext.model\")"
   ]
  },
  {
   "cell_type": "code",
   "execution_count": 22,
   "id": "0e155042-3437-4a86-ada6-f1eab49cb93b",
   "metadata": {
    "execution": {
     "iopub.execute_input": "2021-12-10T17:29:07.947257Z",
     "iopub.status.busy": "2021-12-10T17:29:07.946737Z",
     "iopub.status.idle": "2021-12-10T17:29:08.211644Z",
     "shell.execute_reply": "2021-12-10T17:29:08.210908Z",
     "shell.execute_reply.started": "2021-12-10T17:29:07.947207Z"
    }
   },
   "outputs": [],
   "source": [
    "ft_y = []\n",
    "ft_X = []\n",
    "ft_notfound = []\n",
    "\n",
    "for index, row in sentiments.iterrows():\n",
    "    raw_word = row[\"word\"]\n",
    "    word = raw_word.lower()\n",
    "    sent = row[\"score\"]\n",
    "    if word in ft_model.wv:\n",
    "        embed = ft_model.wv[word]\n",
    "        ft_y.append(sent)\n",
    "        ft_X.append(embed)\n",
    "    else:\n",
    "        ft_notfound.append(word)"
   ]
  },
  {
   "cell_type": "code",
   "execution_count": 24,
   "id": "19adbe78-18ed-4d0f-8c07-72776667d260",
   "metadata": {
    "execution": {
     "iopub.execute_input": "2021-12-10T17:30:20.295738Z",
     "iopub.status.busy": "2021-12-10T17:30:20.295277Z",
     "iopub.status.idle": "2021-12-10T17:30:20.301694Z",
     "shell.execute_reply": "2021-12-10T17:30:20.301064Z",
     "shell.execute_reply.started": "2021-12-10T17:30:20.295697Z"
    },
    "tags": []
   },
   "outputs": [
    {
     "name": "stdout",
     "output_type": "stream",
     "text": [
      "y: 6592\n",
      "X: 6592\n",
      "not found: 0\n"
     ]
    }
   ],
   "source": [
    "print(\"y:\", len(ft_y))\n",
    "print(\"X:\", len(ft_X))\n",
    "print(\"not found:\", len(ft_notfound))"
   ]
  },
  {
   "cell_type": "code",
   "execution_count": 25,
   "id": "24b86b86-3f66-4fb2-84ec-a7a3f1369150",
   "metadata": {
    "execution": {
     "iopub.execute_input": "2021-12-10T17:31:50.299644Z",
     "iopub.status.busy": "2021-12-10T17:31:50.299099Z",
     "iopub.status.idle": "2021-12-10T17:31:50.376201Z",
     "shell.execute_reply": "2021-12-10T17:31:50.375240Z",
     "shell.execute_reply.started": "2021-12-10T17:31:50.299581Z"
    }
   },
   "outputs": [
    {
     "name": "stdout",
     "output_type": "stream",
     "text": [
      "Shape of X: (6592, 300) ; Shape of y: (6592,)\n"
     ]
    }
   ],
   "source": [
    "# save X and y arrays\n",
    "X_ft_array = np.array(ft_X)\n",
    "y_ft_array = np.array(ft_y)\n",
    "\n",
    "print(\"Shape of X:\", X_ft_array.shape, \"; Shape of y:\", y_ft_array.shape)\n",
    "\n",
    "np.save(\"output/X_ft_array.npy\", X_ft_array)\n",
    "np.save(\"output/y_ft_array.npy\", y_ft_array)"
   ]
  },
  {
   "cell_type": "code",
   "execution_count": 2,
   "id": "1df24f6f-508b-45a8-aa47-c66f606fcd71",
   "metadata": {
    "execution": {
     "iopub.execute_input": "2021-12-16T09:29:51.360229Z",
     "iopub.status.busy": "2021-12-16T09:29:51.359640Z",
     "iopub.status.idle": "2021-12-16T09:29:51.431111Z",
     "shell.execute_reply": "2021-12-16T09:29:51.429667Z",
     "shell.execute_reply.started": "2021-12-16T09:29:51.360173Z"
    },
    "tags": []
   },
   "outputs": [],
   "source": [
    "X_fast = np.load(\"output/X_ft_array.npy\")"
   ]
  },
  {
   "cell_type": "code",
   "execution_count": 3,
   "id": "987b1962-8414-4c06-9bc3-7add66bcdb55",
   "metadata": {
    "execution": {
     "iopub.execute_input": "2021-12-16T09:29:55.273096Z",
     "iopub.status.busy": "2021-12-16T09:29:55.272242Z",
     "iopub.status.idle": "2021-12-16T09:29:55.282891Z",
     "shell.execute_reply": "2021-12-16T09:29:55.281612Z",
     "shell.execute_reply.started": "2021-12-16T09:29:55.273031Z"
    }
   },
   "outputs": [
    {
     "data": {
      "text/plain": [
       "(6592, 300)"
      ]
     },
     "execution_count": 3,
     "metadata": {},
     "output_type": "execute_result"
    }
   ],
   "source": [
    "X_fast.shape"
   ]
  },
  {
   "cell_type": "code",
   "execution_count": 4,
   "id": "f9469c63-259c-4b21-a8c0-00d2b12ec82c",
   "metadata": {
    "execution": {
     "iopub.execute_input": "2021-12-16T09:30:02.030705Z",
     "iopub.status.busy": "2021-12-16T09:30:02.030142Z",
     "iopub.status.idle": "2021-12-16T09:30:02.042319Z",
     "shell.execute_reply": "2021-12-16T09:30:02.041232Z",
     "shell.execute_reply.started": "2021-12-16T09:30:02.030648Z"
    }
   },
   "outputs": [
    {
     "data": {
      "text/plain": [
       "array([[ 9.0589165e-06, -5.4946134e-04, -1.0366088e-03, ...,\n",
       "         6.6615443e-04, -6.1250117e-04, -9.8689939e-05],\n",
       "       [-4.1444917e-04, -4.5197987e-04, -7.7520940e-04, ...,\n",
       "        -3.5094662e-04,  5.7898625e-04,  3.0868297e-04],\n",
       "       [-3.8131647e-04, -2.1416892e-05,  2.0031886e-04, ...,\n",
       "        -2.5782618e-04,  9.4951414e-05,  4.1081013e-05],\n",
       "       ...,\n",
       "       [ 6.8663503e-04, -2.5554580e-04,  2.8461125e-04, ...,\n",
       "         1.6999872e-04,  2.7255900e-04, -2.2275893e-04],\n",
       "       [ 8.8844029e-04, -3.2385800e-04,  4.2867288e-04, ...,\n",
       "        -2.5822101e-05,  9.4575505e-04,  3.8522884e-04],\n",
       "       [ 6.3543417e-04,  4.4755335e-04,  5.5332790e-04, ...,\n",
       "        -3.3969097e-04, -5.0948677e-04,  1.1221757e-04]], dtype=float32)"
      ]
     },
     "execution_count": 4,
     "metadata": {},
     "output_type": "execute_result"
    }
   ],
   "source": [
    "X_fast[:10]"
   ]
  },
  {
   "cell_type": "code",
   "execution_count": 5,
   "id": "50eb476a-69d9-43ad-8bb6-3d8af1eb8254",
   "metadata": {
    "execution": {
     "iopub.execute_input": "2021-12-16T09:30:14.380529Z",
     "iopub.status.busy": "2021-12-16T09:30:14.379956Z",
     "iopub.status.idle": "2021-12-16T09:30:14.415051Z",
     "shell.execute_reply": "2021-12-16T09:30:14.413658Z",
     "shell.execute_reply.started": "2021-12-16T09:30:14.380472Z"
    }
   },
   "outputs": [],
   "source": [
    "y_fast = np.load(\"output/y_ft_array.npy\")"
   ]
  },
  {
   "cell_type": "code",
   "execution_count": 6,
   "id": "b02fec2d-f66b-4642-81e2-8faa187ec3ee",
   "metadata": {
    "execution": {
     "iopub.execute_input": "2021-12-16T09:30:18.969474Z",
     "iopub.status.busy": "2021-12-16T09:30:18.968919Z",
     "iopub.status.idle": "2021-12-16T09:30:18.980272Z",
     "shell.execute_reply": "2021-12-16T09:30:18.978910Z",
     "shell.execute_reply.started": "2021-12-16T09:30:18.969418Z"
    }
   },
   "outputs": [
    {
     "data": {
      "text/plain": [
       "array([-1.        , -0.33333333,  0.33333333,  0.66666667, -2.33333333,\n",
       "        1.33333333,  1.33333333,  1.66666667,  1.66666667,  0.66666667])"
      ]
     },
     "execution_count": 6,
     "metadata": {},
     "output_type": "execute_result"
    }
   ],
   "source": [
    "y_fast[:10]"
   ]
  },
  {
   "cell_type": "code",
   "execution_count": 7,
   "id": "4554c930-ad48-4255-a7bf-164a6e53a167",
   "metadata": {
    "execution": {
     "iopub.execute_input": "2021-12-16T09:30:34.875377Z",
     "iopub.status.busy": "2021-12-16T09:30:34.874561Z",
     "iopub.status.idle": "2021-12-16T09:30:34.886275Z",
     "shell.execute_reply": "2021-12-16T09:30:34.884986Z",
     "shell.execute_reply.started": "2021-12-16T09:30:34.875317Z"
    }
   },
   "outputs": [
    {
     "data": {
      "text/plain": [
       "5.0"
      ]
     },
     "execution_count": 7,
     "metadata": {},
     "output_type": "execute_result"
    }
   ],
   "source": [
    "max(y_fast)"
   ]
  },
  {
   "cell_type": "code",
   "execution_count": 8,
   "id": "b796ab21-05b0-461a-90fc-14311c4adc2e",
   "metadata": {
    "execution": {
     "iopub.execute_input": "2021-12-16T09:30:44.211993Z",
     "iopub.status.busy": "2021-12-16T09:30:44.211423Z",
     "iopub.status.idle": "2021-12-16T09:30:44.222381Z",
     "shell.execute_reply": "2021-12-16T09:30:44.221270Z",
     "shell.execute_reply.started": "2021-12-16T09:30:44.211936Z"
    }
   },
   "outputs": [
    {
     "data": {
      "text/plain": [
       "-5.0"
      ]
     },
     "execution_count": 8,
     "metadata": {},
     "output_type": "execute_result"
    }
   ],
   "source": [
    "min(y_fast)"
   ]
  },
  {
   "cell_type": "code",
   "execution_count": 10,
   "id": "7c00a42a-f082-4661-8752-a9c5779b804a",
   "metadata": {
    "execution": {
     "iopub.execute_input": "2021-12-16T09:30:57.637820Z",
     "iopub.status.busy": "2021-12-16T09:30:57.637248Z",
     "iopub.status.idle": "2021-12-16T09:30:57.647754Z",
     "shell.execute_reply": "2021-12-16T09:30:57.646508Z",
     "shell.execute_reply.started": "2021-12-16T09:30:57.637748Z"
    },
    "tags": []
   },
   "outputs": [
    {
     "data": {
      "text/plain": [
       "-0.1989406351132686"
      ]
     },
     "execution_count": 10,
     "metadata": {},
     "output_type": "execute_result"
    }
   ],
   "source": [
    "y_fast.mean()"
   ]
  },
  {
   "cell_type": "code",
   "execution_count": 16,
   "id": "a972ea66-f15c-4bce-9b40-eb92bdc46410",
   "metadata": {
    "execution": {
     "iopub.execute_input": "2021-12-16T10:08:59.791932Z",
     "iopub.status.busy": "2021-12-16T10:08:59.791405Z",
     "iopub.status.idle": "2021-12-16T10:08:59.807138Z",
     "shell.execute_reply": "2021-12-16T10:08:59.806383Z",
     "shell.execute_reply.started": "2021-12-16T10:08:59.791882Z"
    },
    "tags": []
   },
   "outputs": [],
   "source": [
    "X = np.load(\"output/X_ft_array.npy\")\n",
    "y = np.load(\"output/y_ft_array.npy\")"
   ]
  },
  {
   "cell_type": "code",
   "execution_count": 17,
   "id": "584bb095-8580-4a0f-8849-b3b24a4b5b20",
   "metadata": {
    "execution": {
     "iopub.execute_input": "2021-12-16T10:09:12.645229Z",
     "iopub.status.busy": "2021-12-16T10:09:12.645059Z",
     "iopub.status.idle": "2021-12-16T10:09:12.652758Z",
     "shell.execute_reply": "2021-12-16T10:09:12.651467Z",
     "shell.execute_reply.started": "2021-12-16T10:09:12.645209Z"
    },
    "tags": []
   },
   "outputs": [],
   "source": [
    "y = np.where(y<=0, -1, y)\n",
    "y = np.where(y>0, 1, y)\n",
    "y = y.astype(int)"
   ]
  },
  {
   "cell_type": "code",
   "execution_count": 19,
   "id": "62f8ac1b-2aa7-467e-b1e4-03a9c54e61cc",
   "metadata": {
    "execution": {
     "iopub.execute_input": "2021-12-16T10:09:29.811985Z",
     "iopub.status.busy": "2021-12-16T10:09:29.811770Z",
     "iopub.status.idle": "2021-12-16T10:09:29.816922Z",
     "shell.execute_reply": "2021-12-16T10:09:29.816444Z",
     "shell.execute_reply.started": "2021-12-16T10:09:29.811967Z"
    },
    "tags": []
   },
   "outputs": [
    {
     "data": {
      "text/plain": [
       "array([-1, -1,  1,  1, -1,  1,  1,  1,  1,  1])"
      ]
     },
     "execution_count": 19,
     "metadata": {},
     "output_type": "execute_result"
    }
   ],
   "source": [
    "y[:10]"
   ]
  },
  {
   "cell_type": "code",
   "execution_count": 20,
   "id": "becd42b5-0f86-4de2-8bc5-0ec4c93fafa8",
   "metadata": {
    "execution": {
     "iopub.execute_input": "2021-12-16T10:09:36.444661Z",
     "iopub.status.busy": "2021-12-16T10:09:36.444499Z",
     "iopub.status.idle": "2021-12-16T10:09:36.451215Z",
     "shell.execute_reply": "2021-12-16T10:09:36.450690Z",
     "shell.execute_reply.started": "2021-12-16T10:09:36.444645Z"
    },
    "tags": []
   },
   "outputs": [],
   "source": [
    "from sklearn.preprocessing import LabelBinarizer\n",
    "lb = LabelBinarizer()\n",
    "y = lb.fit_transform(y)"
   ]
  },
  {
   "cell_type": "code",
   "execution_count": 21,
   "id": "964a90bb-8a52-465d-b2ba-31550461fa41",
   "metadata": {
    "execution": {
     "iopub.execute_input": "2021-12-16T10:09:46.967989Z",
     "iopub.status.busy": "2021-12-16T10:09:46.967772Z",
     "iopub.status.idle": "2021-12-16T10:09:46.975337Z",
     "shell.execute_reply": "2021-12-16T10:09:46.974169Z",
     "shell.execute_reply.started": "2021-12-16T10:09:46.967965Z"
    },
    "tags": []
   },
   "outputs": [
    {
     "data": {
      "text/plain": [
       "array([[0],\n",
       "       [0],\n",
       "       [1],\n",
       "       [1],\n",
       "       [0],\n",
       "       [1],\n",
       "       [1],\n",
       "       [1],\n",
       "       [1],\n",
       "       [1]])"
      ]
     },
     "execution_count": 21,
     "metadata": {},
     "output_type": "execute_result"
    }
   ],
   "source": [
    "y[:10]"
   ]
  },
  {
   "cell_type": "code",
   "execution_count": 24,
   "id": "214537a6-c265-4854-9710-41d4eea35b1c",
   "metadata": {
    "execution": {
     "iopub.execute_input": "2021-12-16T12:04:07.269899Z",
     "iopub.status.busy": "2021-12-16T12:04:07.269739Z",
     "iopub.status.idle": "2021-12-16T12:04:07.275286Z",
     "shell.execute_reply": "2021-12-16T12:04:07.274799Z",
     "shell.execute_reply.started": "2021-12-16T12:04:07.269881Z"
    },
    "tags": []
   },
   "outputs": [
    {
     "data": {
      "text/plain": [
       "['accuracy',\n",
       " 'adjusted_mutual_info_score',\n",
       " 'adjusted_rand_score',\n",
       " 'average_precision',\n",
       " 'balanced_accuracy',\n",
       " 'completeness_score',\n",
       " 'explained_variance',\n",
       " 'f1',\n",
       " 'f1_macro',\n",
       " 'f1_micro',\n",
       " 'f1_samples',\n",
       " 'f1_weighted',\n",
       " 'fowlkes_mallows_score',\n",
       " 'homogeneity_score',\n",
       " 'jaccard',\n",
       " 'jaccard_macro',\n",
       " 'jaccard_micro',\n",
       " 'jaccard_samples',\n",
       " 'jaccard_weighted',\n",
       " 'max_error',\n",
       " 'mutual_info_score',\n",
       " 'neg_brier_score',\n",
       " 'neg_log_loss',\n",
       " 'neg_mean_absolute_error',\n",
       " 'neg_mean_absolute_percentage_error',\n",
       " 'neg_mean_gamma_deviance',\n",
       " 'neg_mean_poisson_deviance',\n",
       " 'neg_mean_squared_error',\n",
       " 'neg_mean_squared_log_error',\n",
       " 'neg_median_absolute_error',\n",
       " 'neg_root_mean_squared_error',\n",
       " 'normalized_mutual_info_score',\n",
       " 'precision',\n",
       " 'precision_macro',\n",
       " 'precision_micro',\n",
       " 'precision_samples',\n",
       " 'precision_weighted',\n",
       " 'r2',\n",
       " 'rand_score',\n",
       " 'recall',\n",
       " 'recall_macro',\n",
       " 'recall_micro',\n",
       " 'recall_samples',\n",
       " 'recall_weighted',\n",
       " 'roc_auc',\n",
       " 'roc_auc_ovo',\n",
       " 'roc_auc_ovo_weighted',\n",
       " 'roc_auc_ovr',\n",
       " 'roc_auc_ovr_weighted',\n",
       " 'top_k_accuracy',\n",
       " 'v_measure_score']"
      ]
     },
     "execution_count": 24,
     "metadata": {},
     "output_type": "execute_result"
    }
   ],
   "source": [
    "import sklearn\n",
    "sorted(sklearn.metrics.SCORERS.keys())"
   ]
  },
  {
   "cell_type": "code",
   "execution_count": null,
   "id": "8afc535c-4fb5-4daf-9eea-e1d2290f520c",
   "metadata": {},
   "outputs": [],
   "source": []
  },
  {
   "cell_type": "code",
   "execution_count": null,
   "id": "945cc096-c9b2-40ee-94ce-1a3b6a41f6ea",
   "metadata": {},
   "outputs": [],
   "source": []
  }
 ],
 "metadata": {
  "kernelspec": {
   "display_name": "Python 3 ",
   "language": "python",
   "name": "python3"
  },
  "language_info": {
   "codemirror_mode": {
    "name": "ipython",
    "version": 3
   },
   "file_extension": ".py",
   "mimetype": "text/x-python",
   "name": "python",
   "nbconvert_exporter": "python",
   "pygments_lexer": "ipython3",
   "version": "3.9.6"
  }
 },
 "nbformat": 4,
 "nbformat_minor": 5
}
