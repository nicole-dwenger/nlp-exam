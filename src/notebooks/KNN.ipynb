{
 "cells": [
  {
   "cell_type": "markdown",
   "id": "959036be-55e7-477f-bf3b-a6556385e566",
   "metadata": {},
   "source": [
    "## Sentiment based on neighbours"
   ]
  },
  {
   "cell_type": "markdown",
   "id": "a2453ce5-34f2-49ee-aa9f-db22cfd85446",
   "metadata": {},
   "source": [
    "0. knn result:\n",
    "    - finding x nearest neighbours\n",
    "    - taking the ones that are above a similarity threshold\n",
    "    - taking the mean\n",
    "\n",
    "1. Internal evaluation:\n",
    "    - for each word (embedding) in sentida2:\n",
    "        - compare knn result to true sentiment score\n",
    "        \n",
    "2. Predict for jørg embeddings:\n",
    "    - lexicon evaluation"
   ]
  },
  {
   "cell_type": "code",
   "execution_count": 119,
   "id": "7ce75e45-4dcc-457b-9847-76133e18e965",
   "metadata": {
    "execution": {
     "iopub.execute_input": "2021-12-27T10:41:21.142690Z",
     "iopub.status.busy": "2021-12-27T10:41:21.142136Z",
     "iopub.status.idle": "2021-12-27T10:41:21.357781Z",
     "shell.execute_reply": "2021-12-27T10:41:21.356633Z",
     "shell.execute_reply.started": "2021-12-27T10:41:21.142641Z"
    },
    "tags": []
   },
   "outputs": [],
   "source": [
    "import numpy as np\n",
    "import pandas as pd\n",
    "from sklearn.neighbors import KNeighborsRegressor, NearestNeighbors\n",
    "from sklearn.metrics import mean_absolute_error"
   ]
  },
  {
   "cell_type": "code",
   "execution_count": 44,
   "id": "63e44fc5-ae7d-460f-b046-4f6d4934dafc",
   "metadata": {
    "execution": {
     "iopub.execute_input": "2021-12-27T10:09:47.837060Z",
     "iopub.status.busy": "2021-12-27T10:09:47.836418Z",
     "iopub.status.idle": "2021-12-27T10:09:47.855404Z",
     "shell.execute_reply": "2021-12-27T10:09:47.854875Z",
     "shell.execute_reply.started": "2021-12-27T10:09:47.837010Z"
    },
    "tags": []
   },
   "outputs": [
    {
     "data": {
      "text/plain": [
       "numpy.ndarray"
      ]
     },
     "execution_count": 44,
     "metadata": {},
     "output_type": "execute_result"
    }
   ],
   "source": [
    "X = np.load(\"../../data/training_data/X_w2v_asent.npy\")\n",
    "y = np.load(\"../../data/training_data/y_w2v_asent.npy\")\n",
    "y_reshaped= y.reshape([6420,1])"
   ]
  },
  {
   "cell_type": "code",
   "execution_count": 147,
   "id": "299805f5-06be-4313-a7b7-a78b90f5c10e",
   "metadata": {
    "execution": {
     "iopub.execute_input": "2021-12-27T11:09:34.731894Z",
     "iopub.status.busy": "2021-12-27T11:09:34.731243Z",
     "iopub.status.idle": "2021-12-27T11:09:34.769711Z",
     "shell.execute_reply": "2021-12-27T11:09:34.768718Z",
     "shell.execute_reply.started": "2021-12-27T11:09:34.731842Z"
    }
   },
   "outputs": [
    {
     "ename": "TypeError",
     "evalue": "unhashable type: 'numpy.ndarray'",
     "output_type": "error",
     "traceback": [
      "\u001b[0;31m---------------------------------------------------------------------------\u001b[0m",
      "\u001b[0;31mTypeError\u001b[0m                                 Traceback (most recent call last)",
      "\u001b[0;32m/tmp/ipykernel_1950/2043602674.py\u001b[0m in \u001b[0;36m<module>\u001b[0;34m\u001b[0m\n\u001b[0;32m----> 1\u001b[0;31m \u001b[0mset\u001b[0m\u001b[0;34m(\u001b[0m\u001b[0mX\u001b[0m\u001b[0;34m)\u001b[0m\u001b[0;34m\u001b[0m\u001b[0;34m\u001b[0m\u001b[0m\n\u001b[0m",
      "\u001b[0;31mTypeError\u001b[0m: unhashable type: 'numpy.ndarray'"
     ]
    }
   ],
   "source": []
  },
  {
   "cell_type": "code",
   "execution_count": 50,
   "id": "3eea26b9-ddc5-4b97-8f28-59cdf2e96e03",
   "metadata": {
    "execution": {
     "iopub.execute_input": "2021-12-27T10:11:55.916459Z",
     "iopub.status.busy": "2021-12-27T10:11:55.915907Z",
     "iopub.status.idle": "2021-12-27T10:11:55.926007Z",
     "shell.execute_reply": "2021-12-27T10:11:55.924914Z",
     "shell.execute_reply.started": "2021-12-27T10:11:55.916407Z"
    }
   },
   "outputs": [
    {
     "data": {
      "text/plain": [
       "array([[-1.        ],\n",
       "       [-0.33333333],\n",
       "       [ 0.33333333],\n",
       "       ...,\n",
       "       [-1.        ],\n",
       "       [-2.        ],\n",
       "       [-3.        ]])"
      ]
     },
     "execution_count": 50,
     "metadata": {},
     "output_type": "execute_result"
    }
   ],
   "source": [
    "y_reshaped"
   ]
  },
  {
   "cell_type": "code",
   "execution_count": 103,
   "id": "f26ecfa1-9d22-4c91-a15b-48aa13fec4b2",
   "metadata": {
    "execution": {
     "iopub.execute_input": "2021-12-27T10:33:47.110924Z",
     "iopub.status.busy": "2021-12-27T10:33:47.110429Z",
     "iopub.status.idle": "2021-12-27T10:33:48.508584Z",
     "shell.execute_reply": "2021-12-27T10:33:48.507973Z",
     "shell.execute_reply.started": "2021-12-27T10:33:47.110876Z"
    },
    "tags": []
   },
   "outputs": [
    {
     "name": "stdout",
     "output_type": "stream",
     "text": [
      "0.0\n"
     ]
    }
   ],
   "source": [
    "neigh = KNeighborsRegressor(n_neighbors=5, weights=\"distance\")\n",
    "neigh.fit(X, y_reshaped)\n",
    "y_predictions = neigh.predict(X)\n",
    "print(mean_absolute_error(y_reshaped, y_predictions))"
   ]
  },
  {
   "cell_type": "code",
   "execution_count": 108,
   "id": "c3faf0b2-9ebd-4d4a-830a-7806cf5f70a0",
   "metadata": {
    "execution": {
     "iopub.execute_input": "2021-12-27T10:39:01.156151Z",
     "iopub.status.busy": "2021-12-27T10:39:01.155622Z",
     "iopub.status.idle": "2021-12-27T10:39:01.226321Z",
     "shell.execute_reply": "2021-12-27T10:39:01.225030Z",
     "shell.execute_reply.started": "2021-12-27T10:39:01.156102Z"
    },
    "tags": []
   },
   "outputs": [],
   "source": [
    "X_to_predict = np.load(\"../../data/prediction_data/w2v_embeds_to_predict.npy\")\n",
    "words_to_predict =np.load(\"../../data/prediction_data/w2v_words_to_predict.npy\")"
   ]
  },
  {
   "cell_type": "code",
   "execution_count": 142,
   "id": "14355194-f779-48b1-8cef-a4e4801cf156",
   "metadata": {
    "execution": {
     "iopub.execute_input": "2021-12-27T10:51:59.078024Z",
     "iopub.status.busy": "2021-12-27T10:51:59.077358Z",
     "iopub.status.idle": "2021-12-27T10:52:01.309107Z",
     "shell.execute_reply": "2021-12-27T10:52:01.308272Z",
     "shell.execute_reply.started": "2021-12-27T10:51:59.077971Z"
    },
    "tags": []
   },
   "outputs": [],
   "source": [
    "neigh = KNeighborsRegressor(n_neighbors=20, weights=\"distance\")\n",
    "neigh.fit(X, y_reshaped)\n",
    "y_predictions = neigh.predict(X_to_predict)"
   ]
  },
  {
   "cell_type": "code",
   "execution_count": 143,
   "id": "faf5e968-7feb-4556-b0e8-508b150a8155",
   "metadata": {
    "execution": {
     "iopub.execute_input": "2021-12-27T10:52:02.890429Z",
     "iopub.status.busy": "2021-12-27T10:52:02.889944Z",
     "iopub.status.idle": "2021-12-27T10:52:02.901878Z",
     "shell.execute_reply": "2021-12-27T10:52:02.900638Z",
     "shell.execute_reply.started": "2021-12-27T10:52:02.890363Z"
    },
    "tags": []
   },
   "outputs": [],
   "source": [
    "y_preds = [y[0] for y in y_predictions]"
   ]
  },
  {
   "cell_type": "code",
   "execution_count": 144,
   "id": "333a3e99-ccb3-487e-bfef-1548538d8d2c",
   "metadata": {
    "execution": {
     "iopub.execute_input": "2021-12-27T10:52:03.926532Z",
     "iopub.status.busy": "2021-12-27T10:52:03.926406Z",
     "iopub.status.idle": "2021-12-27T10:52:03.994508Z",
     "shell.execute_reply": "2021-12-27T10:52:03.993891Z",
     "shell.execute_reply.started": "2021-12-27T10:52:03.926518Z"
    },
    "tags": []
   },
   "outputs": [],
   "source": [
    "df = pd.DataFrame(list(zip(words_to_predict, y_preds)), columns=[\"word\", \"score\"])"
   ]
  },
  {
   "cell_type": "code",
   "execution_count": 145,
   "id": "547d6450-b735-4441-9f63-d0a13087edba",
   "metadata": {
    "execution": {
     "iopub.execute_input": "2021-12-27T10:52:05.134214Z",
     "iopub.status.busy": "2021-12-27T10:52:05.134077Z",
     "iopub.status.idle": "2021-12-27T10:52:05.142817Z",
     "shell.execute_reply": "2021-12-27T10:52:05.142398Z",
     "shell.execute_reply.started": "2021-12-27T10:52:05.134199Z"
    },
    "tags": []
   },
   "outputs": [
    {
     "data": {
      "text/html": [
       "<div>\n",
       "<style scoped>\n",
       "    .dataframe tbody tr th:only-of-type {\n",
       "        vertical-align: middle;\n",
       "    }\n",
       "\n",
       "    .dataframe tbody tr th {\n",
       "        vertical-align: top;\n",
       "    }\n",
       "\n",
       "    .dataframe thead th {\n",
       "        text-align: right;\n",
       "    }\n",
       "</style>\n",
       "<table border=\"1\" class=\"dataframe\">\n",
       "  <thead>\n",
       "    <tr style=\"text-align: right;\">\n",
       "      <th></th>\n",
       "      <th>word</th>\n",
       "      <th>score</th>\n",
       "    </tr>\n",
       "  </thead>\n",
       "  <tbody>\n",
       "    <tr>\n",
       "      <th>0</th>\n",
       "      <td>slankekur</td>\n",
       "      <td>-0.986416</td>\n",
       "    </tr>\n",
       "    <tr>\n",
       "      <th>1</th>\n",
       "      <td>falme</td>\n",
       "      <td>0.199381</td>\n",
       "    </tr>\n",
       "    <tr>\n",
       "      <th>2</th>\n",
       "      <td>smørrebrød</td>\n",
       "      <td>0.894701</td>\n",
       "    </tr>\n",
       "    <tr>\n",
       "      <th>3</th>\n",
       "      <td>øjekast</td>\n",
       "      <td>-1.038895</td>\n",
       "    </tr>\n",
       "    <tr>\n",
       "      <th>4</th>\n",
       "      <td>vals</td>\n",
       "      <td>-0.554218</td>\n",
       "    </tr>\n",
       "    <tr>\n",
       "      <th>...</th>\n",
       "      <td>...</td>\n",
       "      <td>...</td>\n",
       "    </tr>\n",
       "    <tr>\n",
       "      <th>8634</th>\n",
       "      <td>klarinettist</td>\n",
       "      <td>0.356136</td>\n",
       "    </tr>\n",
       "    <tr>\n",
       "      <th>8635</th>\n",
       "      <td>jovist</td>\n",
       "      <td>-0.592078</td>\n",
       "    </tr>\n",
       "    <tr>\n",
       "      <th>8636</th>\n",
       "      <td>gennemprøve</td>\n",
       "      <td>-0.475519</td>\n",
       "    </tr>\n",
       "    <tr>\n",
       "      <th>8637</th>\n",
       "      <td>brændselscelle</td>\n",
       "      <td>-1.146147</td>\n",
       "    </tr>\n",
       "    <tr>\n",
       "      <th>8638</th>\n",
       "      <td>møbelarkitekt</td>\n",
       "      <td>-0.758248</td>\n",
       "    </tr>\n",
       "  </tbody>\n",
       "</table>\n",
       "<p>8639 rows × 2 columns</p>\n",
       "</div>"
      ],
      "text/plain": [
       "                word     score\n",
       "0          slankekur -0.986416\n",
       "1              falme  0.199381\n",
       "2         smørrebrød  0.894701\n",
       "3            øjekast -1.038895\n",
       "4               vals -0.554218\n",
       "...              ...       ...\n",
       "8634    klarinettist  0.356136\n",
       "8635          jovist -0.592078\n",
       "8636     gennemprøve -0.475519\n",
       "8637  brændselscelle -1.146147\n",
       "8638   møbelarkitekt -0.758248\n",
       "\n",
       "[8639 rows x 2 columns]"
      ]
     },
     "execution_count": 145,
     "metadata": {},
     "output_type": "execute_result"
    }
   ],
   "source": [
    "df"
   ]
  },
  {
   "cell_type": "code",
   "execution_count": 146,
   "id": "513e0847-d9c8-4e77-9c21-843e79492bb4",
   "metadata": {
    "execution": {
     "iopub.execute_input": "2021-12-27T10:52:06.192218Z",
     "iopub.status.busy": "2021-12-27T10:52:06.191839Z",
     "iopub.status.idle": "2021-12-27T10:52:06.390027Z",
     "shell.execute_reply": "2021-12-27T10:52:06.388888Z",
     "shell.execute_reply.started": "2021-12-27T10:52:06.192196Z"
    },
    "tags": []
   },
   "outputs": [],
   "source": [
    "df.to_csv(\"../../output/knn_predictions_word2vec.csv\")"
   ]
  },
  {
   "cell_type": "code",
   "execution_count": 95,
   "id": "40fd371b-80b5-4103-b49f-1a847d218bfd",
   "metadata": {
    "execution": {
     "iopub.execute_input": "2021-12-27T10:31:52.926067Z",
     "iopub.status.busy": "2021-12-27T10:31:52.925571Z",
     "iopub.status.idle": "2021-12-27T10:31:54.282641Z",
     "shell.execute_reply": "2021-12-27T10:31:54.281790Z",
     "shell.execute_reply.started": "2021-12-27T10:31:52.926019Z"
    },
    "tags": []
   },
   "outputs": [],
   "source": [
    "nbrs = NearestNeighbors(n_neighbors=8).fit(X)\n",
    "distances, indices = nbrs.kneighbors(X)\n",
    "\n",
    "predictions=[]\n",
    "for i in range(0,6420):\n",
    "    idxs = indices[i]   \n",
    "    score1=y_reshaped[idxs[1]]\n",
    "    score2=y_reshaped[idxs[2]]\n",
    "    score3=y_reshaped[idxs[3]]\n",
    "    score4=y_reshaped[idxs[4]]\n",
    "    score5=y_reshaped[idxs[5]]\n",
    "    score6=y_reshaped[idxs[6]]\n",
    "    score7=y_reshaped[idxs[7]]\n",
    "    predicted = (sum([score1, score2, score3, score4, score5, score6, score7])/7)\n",
    "    predictions.append(predicted)"
   ]
  },
  {
   "cell_type": "code",
   "execution_count": 96,
   "id": "4e3fb41d-8855-4b57-a150-a59eb9647a97",
   "metadata": {
    "execution": {
     "iopub.execute_input": "2021-12-27T10:31:55.999117Z",
     "iopub.status.busy": "2021-12-27T10:31:55.998670Z",
     "iopub.status.idle": "2021-12-27T10:31:56.007062Z",
     "shell.execute_reply": "2021-12-27T10:31:56.006162Z",
     "shell.execute_reply.started": "2021-12-27T10:31:55.999071Z"
    },
    "tags": []
   },
   "outputs": [
    {
     "data": {
      "text/plain": [
       "array([-4.0952381])"
      ]
     },
     "execution_count": 96,
     "metadata": {},
     "output_type": "execute_result"
    }
   ],
   "source": [
    "predictions[0]"
   ]
  },
  {
   "cell_type": "code",
   "execution_count": 97,
   "id": "ac420690-df80-4f3b-b6e3-f91a6664bd68",
   "metadata": {
    "execution": {
     "iopub.execute_input": "2021-12-27T10:31:57.829254Z",
     "iopub.status.busy": "2021-12-27T10:31:57.828813Z",
     "iopub.status.idle": "2021-12-27T10:31:57.836931Z",
     "shell.execute_reply": "2021-12-27T10:31:57.836066Z",
     "shell.execute_reply.started": "2021-12-27T10:31:57.829209Z"
    },
    "tags": []
   },
   "outputs": [
    {
     "data": {
      "text/plain": [
       "array([-1.])"
      ]
     },
     "execution_count": 97,
     "metadata": {},
     "output_type": "execute_result"
    }
   ],
   "source": [
    "y_reshaped[0]"
   ]
  },
  {
   "cell_type": "code",
   "execution_count": 98,
   "id": "d1b670a7-2902-4932-810e-d485066600fc",
   "metadata": {
    "execution": {
     "iopub.execute_input": "2021-12-27T10:31:59.064350Z",
     "iopub.status.busy": "2021-12-27T10:31:59.064189Z",
     "iopub.status.idle": "2021-12-27T10:31:59.072516Z",
     "shell.execute_reply": "2021-12-27T10:31:59.072007Z",
     "shell.execute_reply.started": "2021-12-27T10:31:59.064318Z"
    },
    "tags": []
   },
   "outputs": [
    {
     "data": {
      "text/plain": [
       "0.9591208030460369"
      ]
     },
     "execution_count": 98,
     "metadata": {},
     "output_type": "execute_result"
    }
   ],
   "source": [
    "mean_absolute_error(y_reshaped, predictions)"
   ]
  },
  {
   "cell_type": "code",
   "execution_count": null,
   "id": "f7c33ebe-9e72-4fd9-b2e2-30f1e3e8f9e2",
   "metadata": {},
   "outputs": [],
   "source": []
  }
 ],
 "metadata": {
  "kernelspec": {
   "display_name": "Python 3 ",
   "language": "python",
   "name": "python3"
  },
  "language_info": {
   "codemirror_mode": {
    "name": "ipython",
    "version": 3
   },
   "file_extension": ".py",
   "mimetype": "text/x-python",
   "name": "python",
   "nbconvert_exporter": "python",
   "pygments_lexer": "ipython3",
   "version": "3.9.6"
  }
 },
 "nbformat": 4,
 "nbformat_minor": 5
}
