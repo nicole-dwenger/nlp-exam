{
 "cells": [
  {
   "cell_type": "markdown",
   "id": "d8af803b-306b-4e2b-b3d1-80045aac2f2b",
   "metadata": {},
   "source": [
    "# Prepare Labelled Data\n",
    "\n",
    "This notebook prepares the labelled data to train the linear regression and neural network model to predict continuous sentiment scores based on word2vec and fasttext word embeddings. "
   ]
  },
  {
   "cell_type": "markdown",
   "id": "daf7ce97-1ada-469f-9233-1ca272f78442",
   "metadata": {
    "execution": {
     "iopub.execute_input": "2021-12-29T10:42:58.618767Z",
     "iopub.status.busy": "2021-12-29T10:42:58.618250Z",
     "iopub.status.idle": "2021-12-29T10:42:58.625659Z",
     "shell.execute_reply": "2021-12-29T10:42:58.624339Z",
     "shell.execute_reply.started": "2021-12-29T10:42:58.618717Z"
    }
   },
   "source": [
    "### Dependencies"
   ]
  },
  {
   "cell_type": "code",
   "execution_count": 1,
   "id": "6039032a-6d5e-4ae3-aa27-12ce8cb7688e",
   "metadata": {
    "execution": {
     "iopub.execute_input": "2022-01-01T15:16:19.006355Z",
     "iopub.status.busy": "2022-01-01T15:16:19.005694Z",
     "iopub.status.idle": "2022-01-01T15:16:19.496822Z",
     "shell.execute_reply": "2022-01-01T15:16:19.496079Z",
     "shell.execute_reply.started": "2022-01-01T15:16:19.006307Z"
    },
    "tags": []
   },
   "outputs": [],
   "source": [
    "import re, os\n",
    "import numpy as np\n",
    "import pandas as pd\n",
    "import itertools\n",
    "from gensim.models import KeyedVectors, FastText"
   ]
  },
  {
   "cell_type": "markdown",
   "id": "e71a1b53-f900-4770-b9b2-f4063143cb7e",
   "metadata": {},
   "source": [
    "### Sentiment Lexicon: Sentida2\n",
    "\n",
    "Below, the sentiment lexicon sentida2 is loaded and inspected. It was extracted from [Github](https://github.com/Guscode/Sentida2). "
   ]
  },
  {
   "cell_type": "code",
   "execution_count": 2,
   "id": "decc2d36-3a77-4c0f-b6f8-de34aeb181bb",
   "metadata": {
    "execution": {
     "iopub.execute_input": "2022-01-01T15:16:34.590769Z",
     "iopub.status.busy": "2022-01-01T15:16:34.589706Z",
     "iopub.status.idle": "2022-01-01T15:16:34.657699Z",
     "shell.execute_reply": "2022-01-01T15:16:34.657107Z",
     "shell.execute_reply.started": "2022-01-01T15:16:34.590718Z"
    },
    "tags": []
   },
   "outputs": [
    {
     "name": "stdout",
     "output_type": "stream",
     "text": [
      "6592\n"
     ]
    },
    {
     "data": {
      "text/html": [
       "<div>\n",
       "<style scoped>\n",
       "    .dataframe tbody tr th:only-of-type {\n",
       "        vertical-align: middle;\n",
       "    }\n",
       "\n",
       "    .dataframe tbody tr th {\n",
       "        vertical-align: top;\n",
       "    }\n",
       "\n",
       "    .dataframe thead th {\n",
       "        text-align: right;\n",
       "    }\n",
       "</style>\n",
       "<table border=\"1\" class=\"dataframe\">\n",
       "  <thead>\n",
       "    <tr style=\"text-align: right;\">\n",
       "      <th></th>\n",
       "      <th>word</th>\n",
       "      <th>score</th>\n",
       "    </tr>\n",
       "  </thead>\n",
       "  <tbody>\n",
       "    <tr>\n",
       "      <th>0</th>\n",
       "      <td>abe</td>\n",
       "      <td>-1.000000</td>\n",
       "    </tr>\n",
       "    <tr>\n",
       "      <th>1</th>\n",
       "      <td>abort</td>\n",
       "      <td>-0.333333</td>\n",
       "    </tr>\n",
       "    <tr>\n",
       "      <th>2</th>\n",
       "      <td>absolut</td>\n",
       "      <td>0.333333</td>\n",
       "    </tr>\n",
       "    <tr>\n",
       "      <th>3</th>\n",
       "      <td>abstrakt</td>\n",
       "      <td>0.666667</td>\n",
       "    </tr>\n",
       "    <tr>\n",
       "      <th>4</th>\n",
       "      <td>absurd</td>\n",
       "      <td>-2.333333</td>\n",
       "    </tr>\n",
       "  </tbody>\n",
       "</table>\n",
       "</div>"
      ],
      "text/plain": [
       "       word     score\n",
       "0       abe -1.000000\n",
       "1     abort -0.333333\n",
       "2   absolut  0.333333\n",
       "3  abstrakt  0.666667\n",
       "4    absurd -2.333333"
      ]
     },
     "execution_count": 2,
     "metadata": {},
     "output_type": "execute_result"
    }
   ],
   "source": [
    "# loading sentiment lexicon\n",
    "sentiments = pd.read_csv(\"../../lexicons/sentida2_lexicon.csv\")\n",
    "# print the how many scores\n",
    "print(len(sentiments))\n",
    "sentiments[:5]"
   ]
  },
  {
   "cell_type": "markdown",
   "id": "521da350-3bbf-4a4b-a66e-07112a91bddd",
   "metadata": {},
   "source": [
    "### Word Embeddings: Word2Vec"
   ]
  },
  {
   "cell_type": "code",
   "execution_count": 3,
   "id": "3476892b-281c-48b4-9ba9-43d74d2dbef7",
   "metadata": {
    "execution": {
     "iopub.execute_input": "2022-01-01T15:17:03.583062Z",
     "iopub.status.busy": "2022-01-01T15:17:03.582395Z",
     "iopub.status.idle": "2022-01-01T15:17:11.957170Z",
     "shell.execute_reply": "2022-01-01T15:17:11.956134Z",
     "shell.execute_reply.started": "2022-01-01T15:17:03.583012Z"
    },
    "tags": []
   },
   "outputs": [],
   "source": [
    "# load word2vec word embeddings\n",
    "word2vec = KeyedVectors.load_word2vec_format(\"../../embeddings/semantic_model_DAGW_cbow.wv.bin\", binary=True)\n",
    "# create emtpty dictionary\n",
    "w2v_dict = {}\n",
    "# put word2vec data into dictionary\n",
    "for idx, key in enumerate(word2vec.key_to_index):\n",
    "    w2v_dict[key] = word2vec[key]"
   ]
  },
  {
   "cell_type": "markdown",
   "id": "8f60ba98-3a17-401e-bebc-b623bd49268c",
   "metadata": {},
   "source": [
    "__Matching sentida2 sentiment scores with corresponding word embeddings__"
   ]
  },
  {
   "cell_type": "code",
   "execution_count": 4,
   "id": "3cf776bb-a101-4328-b383-8ff5d4c09d27",
   "metadata": {
    "execution": {
     "iopub.execute_input": "2022-01-01T15:21:54.189032Z",
     "iopub.status.busy": "2022-01-01T15:21:54.188864Z",
     "iopub.status.idle": "2022-01-01T15:21:54.434868Z",
     "shell.execute_reply": "2022-01-01T15:21:54.434208Z",
     "shell.execute_reply.started": "2022-01-01T15:21:54.189014Z"
    },
    "tags": []
   },
   "outputs": [],
   "source": [
    "y = [] # empty list for embeddings\n",
    "X = [] # empty list for labels (sentiment scores)\n",
    "not_found = [] # empty list for word in sentida2 for which no embeddings could be found\n",
    "\n",
    "for index, row in sentiments.iterrows():\n",
    "    raw_word = row[\"word\"] # take the word\n",
    "    word = raw_word.lower() # lowercase the word\n",
    "    sent = row[\"score\"] # get the score\n",
    "    # if the word exist in word2vec, append to lists\n",
    "    if word in w2v_dict: \n",
    "        embed = w2v_dict[word]\n",
    "        y.append(sent)\n",
    "        X.append(embed)\n",
    "    # otherwise append to not found\n",
    "    else:\n",
    "        not_found.append(word)"
   ]
  },
  {
   "cell_type": "code",
   "execution_count": 6,
   "id": "d00071de-9349-4952-b0c3-ff905dd0d97b",
   "metadata": {
    "execution": {
     "iopub.execute_input": "2022-01-01T15:28:03.297513Z",
     "iopub.status.busy": "2022-01-01T15:28:03.297375Z",
     "iopub.status.idle": "2022-01-01T15:28:03.301866Z",
     "shell.execute_reply": "2022-01-01T15:28:03.301310Z",
     "shell.execute_reply.started": "2022-01-01T15:28:03.297497Z"
    },
    "tags": []
   },
   "outputs": [],
   "source": [
    "# save not found words\n",
    "textfile = open(\"../../appendix/not_found_w2v_sentida2.txt\", \"w\")\n",
    "for element in not_found:\n",
    "    textfile.write(element + \"\\n\")\n",
    "textfile.close()"
   ]
  },
  {
   "cell_type": "code",
   "execution_count": 5,
   "id": "31c6f89e-715e-4cd3-b969-c2138ad27a7d",
   "metadata": {
    "execution": {
     "iopub.execute_input": "2022-01-01T15:27:25.304149Z",
     "iopub.status.busy": "2022-01-01T15:27:25.303997Z",
     "iopub.status.idle": "2022-01-01T15:27:25.308733Z",
     "shell.execute_reply": "2022-01-01T15:27:25.308195Z",
     "shell.execute_reply.started": "2022-01-01T15:27:25.304132Z"
    },
    "tags": []
   },
   "outputs": [
    {
     "name": "stdout",
     "output_type": "stream",
     "text": [
      "172\n"
     ]
    }
   ],
   "source": [
    "print(len(not_found))"
   ]
  },
  {
   "cell_type": "code",
   "execution_count": 7,
   "id": "aacbead4-4377-4da3-be8e-2ac6a0739fe0",
   "metadata": {
    "execution": {
     "iopub.execute_input": "2022-01-01T15:28:10.633382Z",
     "iopub.status.busy": "2022-01-01T15:28:10.633073Z",
     "iopub.status.idle": "2022-01-01T15:28:10.725153Z",
     "shell.execute_reply": "2022-01-01T15:28:10.723775Z",
     "shell.execute_reply.started": "2022-01-01T15:28:10.633366Z"
    },
    "tags": []
   },
   "outputs": [
    {
     "name": "stdout",
     "output_type": "stream",
     "text": [
      "Shape of X: (6420, 300) ; Shape of y: (6420,)\n"
     ]
    }
   ],
   "source": [
    "# save X and y arrays\n",
    "X_array = np.array(X)\n",
    "y_array = np.array(y)\n",
    "\n",
    "print(\"Shape of X:\", X_array.shape, \"; Shape of y:\", y_array.shape)\n",
    "\n",
    "np.save(\"../../data/labelled_data/X_w2v_asent.npy\", X_array)\n",
    "np.save(\"../../data/labelled_data/y_w2v_asent.npy\", y_array)"
   ]
  },
  {
   "cell_type": "markdown",
   "id": "321f2cbe-47dc-468f-9cce-5d8f63faf51b",
   "metadata": {},
   "source": [
    "### FastText"
   ]
  },
  {
   "cell_type": "code",
   "execution_count": 11,
   "id": "f1445a84-3d68-4227-ba17-d6745289b235",
   "metadata": {
    "execution": {
     "iopub.execute_input": "2022-01-01T15:34:55.931029Z",
     "iopub.status.busy": "2022-01-01T15:34:55.930399Z",
     "iopub.status.idle": "2022-01-01T15:37:31.128611Z",
     "shell.execute_reply": "2022-01-01T15:37:31.127640Z",
     "shell.execute_reply.started": "2022-01-01T15:34:55.930962Z"
    },
    "tags": []
   },
   "outputs": [],
   "source": [
    "# load fasttext embedding model\n",
    "ft_model = FastText.load(\"../../../../dagw_fasttext_embeddings/fasttext_model/fasttext.model\")"
   ]
  },
  {
   "cell_type": "code",
   "execution_count": 16,
   "id": "bef2ffdd-c262-4d87-8013-35337be79475",
   "metadata": {
    "execution": {
     "iopub.execute_input": "2021-12-22T12:45:21.399935Z",
     "iopub.status.busy": "2021-12-22T12:45:21.399778Z",
     "iopub.status.idle": "2021-12-22T12:45:21.655959Z",
     "shell.execute_reply": "2021-12-22T12:45:21.655439Z",
     "shell.execute_reply.started": "2021-12-22T12:45:21.399914Z"
    },
    "tags": []
   },
   "outputs": [],
   "source": [
    "ft_y = [] # empty list for embeddings\n",
    "ft_X = [] # empty list for labels (sentiment scores)\n",
    "ft_not_found = [] # empty list of not founc\n",
    "\n",
    "for index, row in sentiments.iterrows():\n",
    "    raw_word = row[\"word\"]\n",
    "    word = raw_word.lower()\n",
    "    sent = row[\"score\"]\n",
    "    if word in ft_model.wv:\n",
    "        embed = ft_model.wv[word]\n",
    "        ft_y.append(sent)\n",
    "        ft_X.append(embed)\n",
    "    else:\n",
    "        ft_not_found.append(word)"
   ]
  },
  {
   "cell_type": "code",
   "execution_count": 18,
   "id": "960ae3fe-6827-446f-a833-9bb90db2b94a",
   "metadata": {
    "execution": {
     "iopub.execute_input": "2021-12-22T12:46:11.535444Z",
     "iopub.status.busy": "2021-12-22T12:46:11.534931Z",
     "iopub.status.idle": "2021-12-22T12:46:11.543316Z",
     "shell.execute_reply": "2021-12-22T12:46:11.542464Z",
     "shell.execute_reply.started": "2021-12-22T12:46:11.535395Z"
    },
    "tags": []
   },
   "outputs": [
    {
     "data": {
      "text/plain": [
       "0"
      ]
     },
     "execution_count": 18,
     "metadata": {},
     "output_type": "execute_result"
    }
   ],
   "source": [
    "len(ft_not_found)"
   ]
  },
  {
   "cell_type": "code",
   "execution_count": 20,
   "id": "5bf8956f-dd02-4f10-970e-59df2c8017b6",
   "metadata": {
    "execution": {
     "iopub.execute_input": "2021-12-22T12:46:40.332329Z",
     "iopub.status.busy": "2021-12-22T12:46:40.332175Z",
     "iopub.status.idle": "2021-12-22T12:46:40.529181Z",
     "shell.execute_reply": "2021-12-22T12:46:40.528231Z",
     "shell.execute_reply.started": "2021-12-22T12:46:40.332308Z"
    },
    "tags": []
   },
   "outputs": [
    {
     "name": "stdout",
     "output_type": "stream",
     "text": [
      "Shape of X: (6592, 300) ; Shape of y: (6592,)\n"
     ]
    }
   ],
   "source": [
    "# save X and y arrays\n",
    "X_ft_array = np.array(ft_X)\n",
    "y_ft_array = np.array(ft_y)\n",
    "\n",
    "print(\"Shape of X:\", X_ft_array.shape, \"; Shape of y:\", y_ft_array.shape)\n",
    "\n",
    "np.save(\"../../data/labelled_data/X_ft_asent.npy\", X_ft_array)\n",
    "np.save(\"../../data/labelled_data/y_ft_asent.npy\", y_ft_array)"
   ]
  },
  {
   "cell_type": "code",
   "execution_count": 13,
   "id": "5259820e-2e0c-41f6-9845-203c4bd83c8a",
   "metadata": {
    "execution": {
     "iopub.execute_input": "2022-01-01T15:54:32.996177Z",
     "iopub.status.busy": "2022-01-01T15:54:32.995833Z",
     "iopub.status.idle": "2022-01-01T15:54:33.213138Z",
     "shell.execute_reply": "2022-01-01T15:54:33.212555Z",
     "shell.execute_reply.started": "2022-01-01T15:54:32.996155Z"
    },
    "tags": []
   },
   "outputs": [
    {
     "name": "stdout",
     "output_type": "stream",
     "text": [
      "6500\n",
      "452\n"
     ]
    }
   ],
   "source": [
    "# extra: some lemmas are not in the vocabulary of fasttext, but estimated using the trained-subwords, here we find them\n",
    "in_ft_voc=[]\n",
    "\n",
    "for index, row in sentiments.iterrows():\n",
    "    raw_word = row[\"word\"]\n",
    "    word = raw_word.lower()\n",
    "    if word in ft_model.wv.key_to_index:\n",
    "        in_ft_voc.append(index)\n",
    "        \n",
    "print(len(in_ft_voc)) # are in fasttext vocabulary\n",
    "print(6952-len(in_ft_voc)) # are estimated from subwords"
   ]
  },
  {
   "cell_type": "markdown",
   "id": "9c50f317-525f-467c-89cc-afd926004561",
   "metadata": {},
   "source": [
    "**Loading 10k Lemmas**"
   ]
  },
  {
   "cell_type": "code",
   "execution_count": 2,
   "id": "1043c62a-0db9-4beb-ac40-d021a4c59f11",
   "metadata": {
    "execution": {
     "iopub.execute_input": "2021-12-22T11:46:37.983953Z",
     "iopub.status.busy": "2021-12-22T11:46:37.983426Z",
     "iopub.status.idle": "2021-12-22T11:46:38.009075Z",
     "shell.execute_reply": "2021-12-22T11:46:38.008507Z",
     "shell.execute_reply.started": "2021-12-22T11:46:37.983905Z"
    },
    "tags": []
   },
   "outputs": [
    {
     "name": "stdout",
     "output_type": "stream",
     "text": [
      "10000 9828\n"
     ]
    }
   ],
   "source": [
    "# load 10k word list\n",
    "lemmas10 = pd.read_csv('../../lemmas/lemma-10k-2017-ex.txt', sep = \"\\t\", header = None)\n",
    "lemmas10 = lemmas10.rename(columns={0: \"POS\", 1: \"word\", 2: \"freq\"})\n",
    "# Remove irrelevant POS \n",
    "pos_tags = [\"A\", \"D\", \"NC\", \"V\", \"I\"]\n",
    "lemmas_relevant = lemmas10[lemmas10['POS'].isin(pos_tags)]\n",
    "print(len(lemmas10), len(lemmas_relevant))"
   ]
  },
  {
   "cell_type": "markdown",
   "id": "023ca035-f3f6-49c1-82de-8ff2596f1919",
   "metadata": {},
   "source": [
    "**Loading Sentiments of Asent == Sentida2**"
   ]
  },
  {
   "cell_type": "code",
   "execution_count": 20,
   "id": "258bc59d-31f1-4bb5-8898-593c266a48c3",
   "metadata": {
    "execution": {
     "iopub.execute_input": "2021-12-22T11:50:06.983288Z",
     "iopub.status.busy": "2021-12-22T11:50:06.982769Z",
     "iopub.status.idle": "2021-12-22T11:50:07.007915Z",
     "shell.execute_reply": "2021-12-22T11:50:07.007401Z",
     "shell.execute_reply.started": "2021-12-22T11:50:06.983241Z"
    },
    "tags": []
   },
   "outputs": [
    {
     "name": "stdout",
     "output_type": "stream",
     "text": [
      "5263\n"
     ]
    },
    {
     "data": {
      "text/html": [
       "<div>\n",
       "<style scoped>\n",
       "    .dataframe tbody tr th:only-of-type {\n",
       "        vertical-align: middle;\n",
       "    }\n",
       "\n",
       "    .dataframe tbody tr th {\n",
       "        vertical-align: top;\n",
       "    }\n",
       "\n",
       "    .dataframe thead th {\n",
       "        text-align: right;\n",
       "    }\n",
       "</style>\n",
       "<table border=\"1\" class=\"dataframe\">\n",
       "  <thead>\n",
       "    <tr style=\"text-align: right;\">\n",
       "      <th></th>\n",
       "      <th>Unnamed: 0</th>\n",
       "      <th>X</th>\n",
       "      <th>stem</th>\n",
       "      <th>score</th>\n",
       "    </tr>\n",
       "  </thead>\n",
       "  <tbody>\n",
       "    <tr>\n",
       "      <th>0</th>\n",
       "      <td>1</td>\n",
       "      <td>1</td>\n",
       "      <td>abe</td>\n",
       "      <td>-1.000000</td>\n",
       "    </tr>\n",
       "    <tr>\n",
       "      <th>1</th>\n",
       "      <td>2</td>\n",
       "      <td>2</td>\n",
       "      <td>abort</td>\n",
       "      <td>-0.333333</td>\n",
       "    </tr>\n",
       "    <tr>\n",
       "      <th>2</th>\n",
       "      <td>3</td>\n",
       "      <td>3</td>\n",
       "      <td>absolut</td>\n",
       "      <td>0.333333</td>\n",
       "    </tr>\n",
       "    <tr>\n",
       "      <th>3</th>\n",
       "      <td>4</td>\n",
       "      <td>4</td>\n",
       "      <td>abstrak</td>\n",
       "      <td>0.666667</td>\n",
       "    </tr>\n",
       "    <tr>\n",
       "      <th>4</th>\n",
       "      <td>5</td>\n",
       "      <td>5</td>\n",
       "      <td>absurd</td>\n",
       "      <td>-2.333333</td>\n",
       "    </tr>\n",
       "    <tr>\n",
       "      <th>...</th>\n",
       "      <td>...</td>\n",
       "      <td>...</td>\n",
       "      <td>...</td>\n",
       "      <td>...</td>\n",
       "    </tr>\n",
       "    <tr>\n",
       "      <th>5258</th>\n",
       "      <td>5259</td>\n",
       "      <td>5259</td>\n",
       "      <td>årsdag</td>\n",
       "      <td>0.666667</td>\n",
       "    </tr>\n",
       "    <tr>\n",
       "      <th>5259</th>\n",
       "      <td>5260</td>\n",
       "      <td>5260</td>\n",
       "      <td>årsregnskab</td>\n",
       "      <td>-0.333333</td>\n",
       "    </tr>\n",
       "    <tr>\n",
       "      <th>5260</th>\n",
       "      <td>5261</td>\n",
       "      <td>5261</td>\n",
       "      <td>årvåg</td>\n",
       "      <td>3.000000</td>\n",
       "    </tr>\n",
       "    <tr>\n",
       "      <th>5261</th>\n",
       "      <td>5262</td>\n",
       "      <td>5262</td>\n",
       "      <td>årvågent</td>\n",
       "      <td>3.000000</td>\n",
       "    </tr>\n",
       "    <tr>\n",
       "      <th>5262</th>\n",
       "      <td>5263</td>\n",
       "      <td>5263</td>\n",
       "      <td>årvågn</td>\n",
       "      <td>3.000000</td>\n",
       "    </tr>\n",
       "  </tbody>\n",
       "</table>\n",
       "<p>5263 rows × 4 columns</p>\n",
       "</div>"
      ],
      "text/plain": [
       "      Unnamed: 0     X         stem     score\n",
       "0              1     1          abe -1.000000\n",
       "1              2     2        abort -0.333333\n",
       "2              3     3      absolut  0.333333\n",
       "3              4     4      abstrak  0.666667\n",
       "4              5     5       absurd -2.333333\n",
       "...          ...   ...          ...       ...\n",
       "5258        5259  5259       årsdag  0.666667\n",
       "5259        5260  5260  årsregnskab -0.333333\n",
       "5260        5261  5261        årvåg  3.000000\n",
       "5261        5262  5262     årvågent  3.000000\n",
       "5262        5263  5263       årvågn  3.000000\n",
       "\n",
       "[5263 rows x 4 columns]"
      ]
     },
     "execution_count": 20,
     "metadata": {},
     "output_type": "execute_result"
    }
   ],
   "source": [
    "# sentiments\n",
    "sentiments = pd.read_csv(\"../../lexicons/sentida2_lexicon.csv\", encoding='ISO-8859-1')\n",
    "print(len(sentiments))\n",
    "sentiments"
   ]
  },
  {
   "cell_type": "markdown",
   "id": "2c85ddd8-2c39-4c2d-9b28-dac1e8b8d323",
   "metadata": {},
   "source": [
    "**Remove the ones that are in lemmas but not in asent == neutral?!**"
   ]
  },
  {
   "cell_type": "code",
   "execution_count": 4,
   "id": "eee07ade-aebd-4ce1-8963-9b57168efdfb",
   "metadata": {
    "execution": {
     "iopub.execute_input": "2021-12-22T11:16:54.612417Z",
     "iopub.status.busy": "2021-12-22T11:16:54.611966Z",
     "iopub.status.idle": "2021-12-22T11:16:54.629316Z",
     "shell.execute_reply": "2021-12-22T11:16:54.628619Z",
     "shell.execute_reply.started": "2021-12-22T11:16:54.612373Z"
    },
    "tags": []
   },
   "outputs": [],
   "source": [
    "# add neutral words that are not in asent, assuming they are the ones that were excluded\n",
    "lemmas_noasent = lemmas_relevant[~lemmas_relevant['word'].isin(sentiments[\"word\"].tolist())]\n",
    "lemmas_asent = lemmas_relevant[lemmas_relevant['word'].isin(sentiments[\"word\"].tolist())]"
   ]
  },
  {
   "cell_type": "code",
   "execution_count": 5,
   "id": "649b4b18-c884-4658-88da-9e78bc519bef",
   "metadata": {
    "execution": {
     "iopub.execute_input": "2021-12-22T11:16:55.050315Z",
     "iopub.status.busy": "2021-12-22T11:16:55.049768Z",
     "iopub.status.idle": "2021-12-22T11:16:55.075778Z",
     "shell.execute_reply": "2021-12-22T11:16:55.074547Z",
     "shell.execute_reply.started": "2021-12-22T11:16:55.050268Z"
    },
    "tags": []
   },
   "outputs": [
    {
     "name": "stdout",
     "output_type": "stream",
     "text": [
      "4150 5678\n"
     ]
    }
   ],
   "source": [
    "print(len(lemmas_noasent), len(lemmas_asent))"
   ]
  },
  {
   "cell_type": "code",
   "execution_count": 6,
   "id": "cc3306c6-0029-4a47-9e45-827ee070c470",
   "metadata": {
    "execution": {
     "iopub.execute_input": "2021-12-22T11:16:55.920148Z",
     "iopub.status.busy": "2021-12-22T11:16:55.919562Z",
     "iopub.status.idle": "2021-12-22T11:16:55.929492Z",
     "shell.execute_reply": "2021-12-22T11:16:55.928367Z",
     "shell.execute_reply.started": "2021-12-22T11:16:55.920101Z"
    },
    "tags": []
   },
   "outputs": [
    {
     "data": {
      "text/plain": [
       "{'A', 'D', 'I', 'NC', 'V'}"
      ]
     },
     "execution_count": 6,
     "metadata": {},
     "output_type": "execute_result"
    }
   ],
   "source": [
    "set(lemmas_noasent[\"POS\"])"
   ]
  },
  {
   "cell_type": "code",
   "execution_count": 7,
   "id": "5faebfdd-2574-4999-a738-614b9012135e",
   "metadata": {
    "execution": {
     "iopub.execute_input": "2021-12-22T11:16:57.975933Z",
     "iopub.status.busy": "2021-12-22T11:16:57.975425Z",
     "iopub.status.idle": "2021-12-22T11:16:57.992898Z",
     "shell.execute_reply": "2021-12-22T11:16:57.992103Z",
     "shell.execute_reply.started": "2021-12-22T11:16:57.975886Z"
    },
    "tags": []
   },
   "outputs": [
    {
     "data": {
      "text/html": [
       "<div>\n",
       "<style scoped>\n",
       "    .dataframe tbody tr th:only-of-type {\n",
       "        vertical-align: middle;\n",
       "    }\n",
       "\n",
       "    .dataframe tbody tr th {\n",
       "        vertical-align: top;\n",
       "    }\n",
       "\n",
       "    .dataframe thead th {\n",
       "        text-align: right;\n",
       "    }\n",
       "</style>\n",
       "<table border=\"1\" class=\"dataframe\">\n",
       "  <thead>\n",
       "    <tr style=\"text-align: right;\">\n",
       "      <th></th>\n",
       "      <th>POS</th>\n",
       "      <th>word</th>\n",
       "      <th>freq</th>\n",
       "    </tr>\n",
       "  </thead>\n",
       "  <tbody>\n",
       "    <tr>\n",
       "      <th>1</th>\n",
       "      <td>V</td>\n",
       "      <td>være</td>\n",
       "      <td>0.030902</td>\n",
       "    </tr>\n",
       "    <tr>\n",
       "      <th>10</th>\n",
       "      <td>V</td>\n",
       "      <td>have</td>\n",
       "      <td>0.014093</td>\n",
       "    </tr>\n",
       "    <tr>\n",
       "      <th>16</th>\n",
       "      <td>D</td>\n",
       "      <td>ikke</td>\n",
       "      <td>0.009249</td>\n",
       "    </tr>\n",
       "    <tr>\n",
       "      <th>17</th>\n",
       "      <td>V</td>\n",
       "      <td>kunne</td>\n",
       "      <td>0.006831</td>\n",
       "    </tr>\n",
       "    <tr>\n",
       "      <th>18</th>\n",
       "      <td>V</td>\n",
       "      <td>blive</td>\n",
       "      <td>0.006398</td>\n",
       "    </tr>\n",
       "    <tr>\n",
       "      <th>26</th>\n",
       "      <td>V</td>\n",
       "      <td>skulle</td>\n",
       "      <td>0.004602</td>\n",
       "    </tr>\n",
       "    <tr>\n",
       "      <th>27</th>\n",
       "      <td>D</td>\n",
       "      <td>så</td>\n",
       "      <td>0.004213</td>\n",
       "    </tr>\n",
       "    <tr>\n",
       "      <th>29</th>\n",
       "      <td>V</td>\n",
       "      <td>ville</td>\n",
       "      <td>0.004152</td>\n",
       "    </tr>\n",
       "    <tr>\n",
       "      <th>33</th>\n",
       "      <td>V</td>\n",
       "      <td>sige</td>\n",
       "      <td>0.003713</td>\n",
       "    </tr>\n",
       "    <tr>\n",
       "      <th>34</th>\n",
       "      <td>NC</td>\n",
       "      <td>år</td>\n",
       "      <td>0.003562</td>\n",
       "    </tr>\n",
       "  </tbody>\n",
       "</table>\n",
       "</div>"
      ],
      "text/plain": [
       "   POS    word      freq\n",
       "1    V    være  0.030902\n",
       "10   V    have  0.014093\n",
       "16   D    ikke  0.009249\n",
       "17   V   kunne  0.006831\n",
       "18   V   blive  0.006398\n",
       "26   V  skulle  0.004602\n",
       "27   D      så  0.004213\n",
       "29   V   ville  0.004152\n",
       "33   V    sige  0.003713\n",
       "34  NC      år  0.003562"
      ]
     },
     "execution_count": 7,
     "metadata": {},
     "output_type": "execute_result"
    }
   ],
   "source": [
    "lemmas_noasent[:10]"
   ]
  },
  {
   "cell_type": "code",
   "execution_count": 10,
   "id": "a78ca9fb-1886-4ff7-8336-0335255860ef",
   "metadata": {
    "execution": {
     "iopub.execute_input": "2021-12-20T20:13:10.748943Z",
     "iopub.status.busy": "2021-12-20T20:13:10.747886Z",
     "iopub.status.idle": "2021-12-20T20:13:10.762723Z",
     "shell.execute_reply": "2021-12-20T20:13:10.761564Z",
     "shell.execute_reply.started": "2021-12-20T20:13:10.748892Z"
    },
    "tags": []
   },
   "outputs": [],
   "source": [
    "# save neutral\n",
    "textfile = open(\"../appendix/neutral_words.txt\", \"w\")\n",
    "for element in lemmas_noasent[\"word\"]:\n",
    "    textfile.write(element + \"\\n\")\n",
    "textfile.close()"
   ]
  },
  {
   "cell_type": "markdown",
   "id": "9f269445-9b31-447d-9f9d-d869b0dfc839",
   "metadata": {},
   "source": [
    "**Add not in asent as neutral to all sentiments**"
   ]
  },
  {
   "cell_type": "code",
   "execution_count": 8,
   "id": "f4d2bed3-1299-44b5-b61b-23a0351ddcd4",
   "metadata": {
    "execution": {
     "iopub.execute_input": "2021-12-22T11:17:01.010001Z",
     "iopub.status.busy": "2021-12-22T11:17:01.008406Z",
     "iopub.status.idle": "2021-12-22T11:17:01.025910Z",
     "shell.execute_reply": "2021-12-22T11:17:01.024741Z",
     "shell.execute_reply.started": "2021-12-22T11:17:01.009921Z"
    },
    "tags": []
   },
   "outputs": [
    {
     "data": {
      "text/html": [
       "<div>\n",
       "<style scoped>\n",
       "    .dataframe tbody tr th:only-of-type {\n",
       "        vertical-align: middle;\n",
       "    }\n",
       "\n",
       "    .dataframe tbody tr th {\n",
       "        vertical-align: top;\n",
       "    }\n",
       "\n",
       "    .dataframe thead th {\n",
       "        text-align: right;\n",
       "    }\n",
       "</style>\n",
       "<table border=\"1\" class=\"dataframe\">\n",
       "  <thead>\n",
       "    <tr style=\"text-align: right;\">\n",
       "      <th></th>\n",
       "      <th>word</th>\n",
       "      <th>score</th>\n",
       "    </tr>\n",
       "  </thead>\n",
       "  <tbody>\n",
       "    <tr>\n",
       "      <th>1</th>\n",
       "      <td>være</td>\n",
       "      <td>0</td>\n",
       "    </tr>\n",
       "    <tr>\n",
       "      <th>10</th>\n",
       "      <td>have</td>\n",
       "      <td>0</td>\n",
       "    </tr>\n",
       "    <tr>\n",
       "      <th>16</th>\n",
       "      <td>ikke</td>\n",
       "      <td>0</td>\n",
       "    </tr>\n",
       "    <tr>\n",
       "      <th>17</th>\n",
       "      <td>kunne</td>\n",
       "      <td>0</td>\n",
       "    </tr>\n",
       "    <tr>\n",
       "      <th>18</th>\n",
       "      <td>blive</td>\n",
       "      <td>0</td>\n",
       "    </tr>\n",
       "    <tr>\n",
       "      <th>26</th>\n",
       "      <td>skulle</td>\n",
       "      <td>0</td>\n",
       "    </tr>\n",
       "    <tr>\n",
       "      <th>27</th>\n",
       "      <td>så</td>\n",
       "      <td>0</td>\n",
       "    </tr>\n",
       "    <tr>\n",
       "      <th>29</th>\n",
       "      <td>ville</td>\n",
       "      <td>0</td>\n",
       "    </tr>\n",
       "    <tr>\n",
       "      <th>33</th>\n",
       "      <td>sige</td>\n",
       "      <td>0</td>\n",
       "    </tr>\n",
       "    <tr>\n",
       "      <th>34</th>\n",
       "      <td>år</td>\n",
       "      <td>0</td>\n",
       "    </tr>\n",
       "  </tbody>\n",
       "</table>\n",
       "</div>"
      ],
      "text/plain": [
       "      word  score\n",
       "1     være      0\n",
       "10    have      0\n",
       "16    ikke      0\n",
       "17   kunne      0\n",
       "18   blive      0\n",
       "26  skulle      0\n",
       "27      så      0\n",
       "29   ville      0\n",
       "33    sige      0\n",
       "34      år      0"
      ]
     },
     "execution_count": 8,
     "metadata": {},
     "output_type": "execute_result"
    }
   ],
   "source": [
    "neutral_words = pd.DataFrame({\"word\": lemmas_noasent[\"word\"], \"score\": 0})\n",
    "neutral_words[:10]"
   ]
  },
  {
   "cell_type": "code",
   "execution_count": 9,
   "id": "6530649c-294f-4eff-a4c2-54179f2dd032",
   "metadata": {
    "execution": {
     "iopub.execute_input": "2021-12-22T11:17:05.339671Z",
     "iopub.status.busy": "2021-12-22T11:17:05.339153Z",
     "iopub.status.idle": "2021-12-22T11:17:05.347492Z",
     "shell.execute_reply": "2021-12-22T11:17:05.346277Z",
     "shell.execute_reply.started": "2021-12-22T11:17:05.339607Z"
    },
    "tags": []
   },
   "outputs": [],
   "source": [
    "neutral_sample = neutral_words.sample(1069)"
   ]
  },
  {
   "cell_type": "code",
   "execution_count": 10,
   "id": "294a8039-3a06-40d0-800a-50ec25eaf06f",
   "metadata": {
    "execution": {
     "iopub.execute_input": "2021-12-22T11:17:07.294258Z",
     "iopub.status.busy": "2021-12-22T11:17:07.293793Z",
     "iopub.status.idle": "2021-12-22T11:17:07.304699Z",
     "shell.execute_reply": "2021-12-22T11:17:07.303439Z",
     "shell.execute_reply.started": "2021-12-22T11:17:07.294213Z"
    },
    "tags": []
   },
   "outputs": [
    {
     "name": "stdout",
     "output_type": "stream",
     "text": [
      "7661\n"
     ]
    }
   ],
   "source": [
    "all_sentiments = pd.concat([sentiments, neutral_sample])\n",
    "print(len(all_sentiments))"
   ]
  },
  {
   "cell_type": "code",
   "execution_count": 11,
   "id": "2e0af4e9-243e-4d90-8f8a-0dbd02e318f4",
   "metadata": {
    "execution": {
     "iopub.execute_input": "2021-12-22T11:17:07.455764Z",
     "iopub.status.busy": "2021-12-22T11:17:07.454835Z",
     "iopub.status.idle": "2021-12-22T11:17:07.707748Z",
     "shell.execute_reply": "2021-12-22T11:17:07.706924Z",
     "shell.execute_reply.started": "2021-12-22T11:17:07.455716Z"
    },
    "tags": []
   },
   "outputs": [
    {
     "data": {
      "text/html": [
       "<div>\n",
       "<style scoped>\n",
       "    .dataframe tbody tr th:only-of-type {\n",
       "        vertical-align: middle;\n",
       "    }\n",
       "\n",
       "    .dataframe tbody tr th {\n",
       "        vertical-align: top;\n",
       "    }\n",
       "\n",
       "    .dataframe thead th {\n",
       "        text-align: right;\n",
       "    }\n",
       "</style>\n",
       "<table border=\"1\" class=\"dataframe\">\n",
       "  <thead>\n",
       "    <tr style=\"text-align: right;\">\n",
       "      <th></th>\n",
       "      <th>word</th>\n",
       "      <th>score</th>\n",
       "    </tr>\n",
       "  </thead>\n",
       "  <tbody>\n",
       "    <tr>\n",
       "      <th>0</th>\n",
       "      <td>abe</td>\n",
       "      <td>-1.000000</td>\n",
       "    </tr>\n",
       "    <tr>\n",
       "      <th>1</th>\n",
       "      <td>abort</td>\n",
       "      <td>-0.333333</td>\n",
       "    </tr>\n",
       "    <tr>\n",
       "      <th>2</th>\n",
       "      <td>absolut</td>\n",
       "      <td>0.333333</td>\n",
       "    </tr>\n",
       "    <tr>\n",
       "      <th>3</th>\n",
       "      <td>abstrakt</td>\n",
       "      <td>0.666667</td>\n",
       "    </tr>\n",
       "    <tr>\n",
       "      <th>4</th>\n",
       "      <td>absurd</td>\n",
       "      <td>-2.333333</td>\n",
       "    </tr>\n",
       "    <tr>\n",
       "      <th>5</th>\n",
       "      <td>accelerere</td>\n",
       "      <td>1.333333</td>\n",
       "    </tr>\n",
       "    <tr>\n",
       "      <th>6</th>\n",
       "      <td>accept</td>\n",
       "      <td>1.333333</td>\n",
       "    </tr>\n",
       "    <tr>\n",
       "      <th>7</th>\n",
       "      <td>acceptabel</td>\n",
       "      <td>1.666667</td>\n",
       "    </tr>\n",
       "    <tr>\n",
       "      <th>8</th>\n",
       "      <td>acceptere</td>\n",
       "      <td>1.666667</td>\n",
       "    </tr>\n",
       "    <tr>\n",
       "      <th>9</th>\n",
       "      <td>action</td>\n",
       "      <td>0.666667</td>\n",
       "    </tr>\n",
       "  </tbody>\n",
       "</table>\n",
       "</div>"
      ],
      "text/plain": [
       "         word     score\n",
       "0         abe -1.000000\n",
       "1       abort -0.333333\n",
       "2     absolut  0.333333\n",
       "3    abstrakt  0.666667\n",
       "4      absurd -2.333333\n",
       "5  accelerere  1.333333\n",
       "6      accept  1.333333\n",
       "7  acceptabel  1.666667\n",
       "8   acceptere  1.666667\n",
       "9      action  0.666667"
      ]
     },
     "execution_count": 11,
     "metadata": {},
     "output_type": "execute_result"
    }
   ],
   "source": [
    "all_sentiments[:10]"
   ]
  },
  {
   "cell_type": "code",
   "execution_count": 14,
   "id": "d790b6e8-7f3e-49b0-92e7-45e1f9785882",
   "metadata": {
    "execution": {
     "iopub.execute_input": "2021-12-20T20:13:22.665443Z",
     "iopub.status.busy": "2021-12-20T20:13:22.664845Z",
     "iopub.status.idle": "2021-12-20T20:13:22.702334Z",
     "shell.execute_reply": "2021-12-20T20:13:22.701517Z",
     "shell.execute_reply.started": "2021-12-20T20:13:22.665392Z"
    },
    "tags": []
   },
   "outputs": [],
   "source": [
    "# save all sentiments\n",
    "all_sentiments.to_csv(\"../data/all_sentiments.csv\")"
   ]
  },
  {
   "cell_type": "markdown",
   "id": "71ad8de7-26e9-4ccb-9cca-47225bfe2d04",
   "metadata": {},
   "source": [
    "## Word2Vec"
   ]
  },
  {
   "cell_type": "code",
   "execution_count": 21,
   "id": "d9a69b7c-feec-4aa8-883b-135b0586f0c6",
   "metadata": {
    "execution": {
     "iopub.execute_input": "2021-12-22T11:51:31.249876Z",
     "iopub.status.busy": "2021-12-22T11:51:31.249343Z",
     "iopub.status.idle": "2021-12-22T11:51:38.889590Z",
     "shell.execute_reply": "2021-12-22T11:51:38.888469Z",
     "shell.execute_reply.started": "2021-12-22T11:51:31.249828Z"
    },
    "tags": []
   },
   "outputs": [],
   "source": [
    "word2vec = KeyedVectors.load_word2vec_format(\"../../embeddings/semantic_model_DAGW_cbow.wv.bin\", binary=True)\n",
    "w2v_dict = dict({})\n",
    "for idx, key in enumerate(word2vec.key_to_index):\n",
    "    w2v_dict[key] = word2vec[key]"
   ]
  },
  {
   "cell_type": "code",
   "execution_count": 42,
   "id": "d5455d9b-061f-46c8-b9ed-974349eb771a",
   "metadata": {
    "collapsed": true,
    "execution": {
     "iopub.execute_input": "2021-12-20T09:51:52.988061Z",
     "iopub.status.busy": "2021-12-20T09:51:52.987919Z",
     "iopub.status.idle": "2021-12-20T09:51:52.994207Z",
     "shell.execute_reply": "2021-12-20T09:51:52.993743Z",
     "shell.execute_reply.started": "2021-12-20T09:51:52.988046Z"
    },
    "jupyter": {
     "outputs_hidden": true
    },
    "tags": []
   },
   "outputs": [
    {
     "data": {
      "text/plain": [
       "array([-5.44577390e-02, -1.95206292e-02, -5.21334074e-02, -3.63027714e-02,\n",
       "        3.16028632e-02, -4.82380986e-02, -2.97096968e-02,  5.71238063e-02,\n",
       "       -8.20544083e-03,  1.41782770e-02, -2.00094413e-02,  2.07450497e-03,\n",
       "        5.30896522e-02, -3.18971500e-02,  5.52097224e-02, -1.45272305e-02,\n",
       "       -2.79464107e-02, -7.88782090e-02, -8.78869146e-02,  2.97148898e-02,\n",
       "       -6.26806915e-02, -6.75774515e-02, -1.64186843e-02,  2.36200634e-03,\n",
       "       -6.16080016e-02,  1.70091186e-02,  2.11043395e-02, -1.25539757e-03,\n",
       "       -3.77942692e-03,  2.05034167e-02, -3.28624691e-03, -3.09932865e-02,\n",
       "       -5.50933294e-02,  8.24128240e-02,  6.55494183e-02,  2.80603599e-02,\n",
       "        1.18187163e-02,  2.51543950e-02,  1.99077446e-02, -6.44484302e-03,\n",
       "       -6.17770851e-02,  5.34106158e-02, -5.26156500e-02,  5.00716530e-02,\n",
       "       -8.78605247e-02,  3.96079272e-02,  4.51625548e-02,  5.23860045e-02,\n",
       "       -7.07231611e-02,  5.22112995e-02, -5.58102131e-02,  5.78433312e-02,\n",
       "        6.42338991e-02, -1.72407757e-02,  1.66077744e-02, -1.45552242e-02,\n",
       "       -5.79276606e-02,  6.65858947e-03, -1.03388214e-02, -8.00699741e-02,\n",
       "       -6.66255355e-02, -1.04978587e-03,  8.60716999e-02,  2.02322509e-02,\n",
       "        4.42762636e-02,  6.12321170e-03, -6.23102486e-02, -2.74510607e-02,\n",
       "       -1.15069062e-01,  4.67768013e-02,  3.61333089e-03, -9.80862603e-02,\n",
       "        4.41307127e-02,  2.51755621e-02,  1.71705261e-02, -1.53217753e-02,\n",
       "        4.07479927e-02,  4.99292240e-02,  9.72911417e-02,  1.25173451e-02,\n",
       "       -6.61757365e-02,  3.34940925e-02, -8.48855302e-02,  2.38833800e-02,\n",
       "        9.95766222e-02, -5.55679388e-02, -3.37916724e-02,  5.31920083e-02,\n",
       "        1.20736714e-02,  5.49438223e-02,  1.49421189e-02, -1.81305222e-02,\n",
       "        1.29671097e-02, -7.68992933e-04, -4.23218347e-02,  2.58214436e-02,\n",
       "       -4.04107086e-02,  1.29751703e-02,  3.74644957e-02,  4.13145982e-02,\n",
       "        2.05203891e-02,  6.64266273e-02, -3.98740126e-03, -6.67638704e-02,\n",
       "       -2.19017500e-04,  9.60968342e-03,  2.28000265e-02,  6.21897839e-02,\n",
       "        3.63919064e-02,  3.61530557e-02, -3.61581966e-02,  2.76939105e-02,\n",
       "       -8.96314159e-03,  3.44268046e-02,  4.11675423e-02,  3.71895693e-02,\n",
       "        3.33207324e-02,  5.08283302e-02, -9.34155509e-02, -9.21206847e-02,\n",
       "       -3.38655636e-02, -1.13880087e-03,  6.63606729e-03,  9.84794809e-04,\n",
       "        7.82238171e-02, -1.44128382e-01, -7.50269070e-02,  7.98573077e-04,\n",
       "       -1.08160414e-02, -6.63878545e-02, -3.84448692e-02,  1.33832376e-02,\n",
       "        1.69123504e-02, -6.22650236e-02,  9.30099050e-04,  1.71485804e-02,\n",
       "       -5.67279980e-02, -2.66257208e-02, -1.06370160e-02,  9.24858153e-02,\n",
       "       -3.42523754e-02,  9.24375933e-03,  4.73824479e-02,  3.64111923e-03,\n",
       "       -6.10285699e-02, -2.87346542e-02, -1.44049162e-02, -5.77706434e-02,\n",
       "        6.09196723e-03,  6.89772144e-02,  2.64383182e-02, -9.96144339e-02,\n",
       "       -4.53183353e-02,  1.58827344e-03, -1.24581363e-02, -1.13186585e-02,\n",
       "        7.26812780e-02, -1.61537584e-02,  2.11552791e-02,  7.90809095e-03,\n",
       "       -1.09031508e-02,  4.83169965e-02,  9.57274958e-02,  1.89200020e-03,\n",
       "        2.91201118e-02,  1.57478508e-02,  4.57037846e-03, -6.82981834e-02,\n",
       "        8.54976848e-02,  6.01690598e-02, -1.40512297e-02, -3.02047580e-02,\n",
       "       -7.31723607e-02,  2.16038488e-02,  2.01110039e-02, -1.30752344e-02,\n",
       "        4.52907756e-03, -4.26263548e-02, -1.89360045e-02, -3.19723003e-02,\n",
       "        4.70310710e-02, -4.60473262e-02,  9.08762068e-02,  2.48285756e-02,\n",
       "        5.34301549e-02,  2.87681930e-02,  7.40368962e-02, -7.44399428e-02,\n",
       "        1.08119454e-02,  5.13691269e-02, -1.00132460e-02,  1.24812368e-02,\n",
       "       -2.33003590e-02, -2.48352066e-02,  2.95979362e-02,  2.20818203e-02,\n",
       "        8.54951665e-02, -5.07187694e-02, -7.74684921e-02,  4.37477641e-02,\n",
       "        2.91223302e-02, -6.06652983e-02,  1.94116533e-02,  8.54402035e-03,\n",
       "       -2.90226042e-02,  7.47539103e-02, -4.02541496e-02, -1.95869822e-02,\n",
       "        1.75435888e-03, -4.55167537e-05,  6.29459918e-02,  1.62151605e-02,\n",
       "        6.21507838e-02,  4.77323756e-02,  1.02668172e-02, -1.29444310e-02,\n",
       "        6.30604103e-02,  1.86219753e-03,  6.06358610e-02, -5.99684678e-02,\n",
       "       -1.08488664e-01,  2.39258315e-02, -4.68309224e-02, -6.65683439e-03,\n",
       "       -7.86637887e-03, -6.98543265e-02,  1.30153388e-01,  2.55951006e-02,\n",
       "        8.56214017e-02, -1.75472181e-02, -2.37922613e-02,  1.78326312e-02,\n",
       "        2.42647212e-02,  1.34320725e-02,  3.49371582e-02, -1.62975118e-02,\n",
       "       -8.36455896e-02, -2.01734528e-02, -2.22301148e-02,  2.70953286e-03,\n",
       "        1.22119794e-02, -1.99398529e-02,  1.00789999e-03, -7.49391690e-02,\n",
       "       -3.45013626e-02,  4.63399999e-02, -5.12991697e-02, -3.87718529e-02,\n",
       "       -9.61200893e-02, -4.01985347e-02,  2.88735256e-02,  6.60750922e-03,\n",
       "        9.06690732e-02,  3.50217484e-02, -6.70402916e-03,  3.63072120e-02,\n",
       "        5.35345934e-02,  1.96130816e-02, -1.04010612e-01,  9.05998144e-03,\n",
       "       -2.25169137e-02, -7.09587634e-02, -1.03451207e-01,  7.38115534e-02,\n",
       "        2.08418760e-02,  8.98965150e-02,  2.42985087e-03,  4.55933399e-02,\n",
       "        8.12407807e-02,  1.69302560e-02, -6.81862608e-02, -2.80597783e-03,\n",
       "       -1.80340875e-02, -2.02852562e-02,  7.67724290e-02,  3.43498848e-02,\n",
       "        2.38651056e-02, -1.38577828e-02, -4.93189767e-02, -2.60906201e-02,\n",
       "        1.41906962e-02,  1.32102601e-03, -7.73312598e-02,  7.10057188e-03,\n",
       "        2.82921072e-04,  1.84276737e-02,  2.72013787e-02, -2.50291470e-02,\n",
       "        5.86793497e-02, -6.64911866e-02, -1.10736318e-01, -6.17593490e-02,\n",
       "        4.23071906e-02,  1.72418579e-02,  1.76902674e-02,  3.85605134e-02,\n",
       "        4.07161424e-03,  4.21808027e-02, -9.55034047e-02, -2.33048648e-02],\n",
       "      dtype=float32)"
      ]
     },
     "execution_count": 42,
     "metadata": {},
     "output_type": "execute_result"
    }
   ],
   "source": [
    "w2v_dict[\"glemte\"]"
   ]
  },
  {
   "cell_type": "code",
   "execution_count": 22,
   "id": "3cabc4bd-3962-4fd5-841e-ee45376b4ca2",
   "metadata": {
    "execution": {
     "iopub.execute_input": "2021-12-22T11:52:08.963688Z",
     "iopub.status.busy": "2021-12-22T11:52:08.963518Z",
     "iopub.status.idle": "2021-12-22T11:52:09.153441Z",
     "shell.execute_reply": "2021-12-22T11:52:09.152740Z",
     "shell.execute_reply.started": "2021-12-22T11:52:08.963662Z"
    },
    "tags": []
   },
   "outputs": [],
   "source": [
    "y = []\n",
    "X = []\n",
    "not_found = []\n",
    "\n",
    "for index, row in sentiments.iterrows():\n",
    "    raw_word = row[\"stem\"]\n",
    "    word = raw_word.lower()\n",
    "    sent = row[\"score\"]\n",
    "    if word in w2v_dict: \n",
    "        embed = w2v_dict[word]\n",
    "        y.append(sent)\n",
    "        X.append(embed)\n",
    "    else:\n",
    "        not_found.append(word)"
   ]
  },
  {
   "cell_type": "code",
   "execution_count": 23,
   "id": "cae3e7e8-9de2-441b-af4a-dd0773fa253d",
   "metadata": {
    "execution": {
     "iopub.execute_input": "2021-12-22T11:52:23.274800Z",
     "iopub.status.busy": "2021-12-22T11:52:23.274657Z",
     "iopub.status.idle": "2021-12-22T11:52:23.279189Z",
     "shell.execute_reply": "2021-12-22T11:52:23.278703Z",
     "shell.execute_reply.started": "2021-12-22T11:52:23.274785Z"
    },
    "tags": []
   },
   "outputs": [
    {
     "name": "stdout",
     "output_type": "stream",
     "text": [
      "embeddings: 4812 ; sentiment labels: 4812 ; not embedding found: 451\n"
     ]
    }
   ],
   "source": [
    "print(\"embeddings:\", len(X), \"; sentiment labels:\", len(y), \"; not embedding found:\", len(not_found))"
   ]
  },
  {
   "cell_type": "code",
   "execution_count": 31,
   "id": "19068654-5172-42e4-b0cb-8016ba3979e1",
   "metadata": {
    "execution": {
     "iopub.execute_input": "2021-12-22T12:23:22.385973Z",
     "iopub.status.busy": "2021-12-22T12:23:22.385806Z",
     "iopub.status.idle": "2021-12-22T12:23:22.399017Z",
     "shell.execute_reply": "2021-12-22T12:23:22.398328Z",
     "shell.execute_reply.started": "2021-12-22T12:23:22.385955Z"
    },
    "tags": []
   },
   "outputs": [
    {
     "ename": "FileNotFoundError",
     "evalue": "[Errno 2] No such file or directory: '../appendix/not_found_sentida.txt'",
     "output_type": "error",
     "traceback": [
      "\u001b[0;31m---------------------------------------------------------------------------\u001b[0m",
      "\u001b[0;31mFileNotFoundError\u001b[0m                         Traceback (most recent call last)",
      "\u001b[0;32m/tmp/ipykernel_38208/3727881422.py\u001b[0m in \u001b[0;36m<module>\u001b[0;34m\u001b[0m\n\u001b[0;32m----> 1\u001b[0;31m \u001b[0mtextfile\u001b[0m \u001b[0;34m=\u001b[0m \u001b[0mopen\u001b[0m\u001b[0;34m(\u001b[0m\u001b[0;34m\"../appendix/not_found_sentida.txt\"\u001b[0m\u001b[0;34m,\u001b[0m \u001b[0;34m\"w\"\u001b[0m\u001b[0;34m)\u001b[0m\u001b[0;34m\u001b[0m\u001b[0;34m\u001b[0m\u001b[0m\n\u001b[0m\u001b[1;32m      2\u001b[0m \u001b[0;32mfor\u001b[0m \u001b[0melement\u001b[0m \u001b[0;32min\u001b[0m \u001b[0mnot_found\u001b[0m\u001b[0;34m[\u001b[0m\u001b[0;34m\"stem\"\u001b[0m\u001b[0;34m]\u001b[0m\u001b[0;34m:\u001b[0m\u001b[0;34m\u001b[0m\u001b[0;34m\u001b[0m\u001b[0m\n\u001b[1;32m      3\u001b[0m     \u001b[0mtextfile\u001b[0m\u001b[0;34m.\u001b[0m\u001b[0mwrite\u001b[0m\u001b[0;34m(\u001b[0m\u001b[0melement\u001b[0m \u001b[0;34m+\u001b[0m \u001b[0;34m\"\\n\"\u001b[0m\u001b[0;34m)\u001b[0m\u001b[0;34m\u001b[0m\u001b[0;34m\u001b[0m\u001b[0m\n\u001b[1;32m      4\u001b[0m \u001b[0mtextfile\u001b[0m\u001b[0;34m.\u001b[0m\u001b[0mclose\u001b[0m\u001b[0;34m(\u001b[0m\u001b[0;34m)\u001b[0m\u001b[0;34m\u001b[0m\u001b[0;34m\u001b[0m\u001b[0m\n",
      "\u001b[0;31mFileNotFoundError\u001b[0m: [Errno 2] No such file or directory: '../appendix/not_found_sentida.txt'"
     ]
    }
   ],
   "source": [
    "textfile = open(\"../../appendix/not_found_sentida.txt\", \"w\")\n",
    "for element in not_found[\"stem\"]:\n",
    "    textfile.write(element + \"\\n\")\n",
    "textfile.close()"
   ]
  },
  {
   "cell_type": "code",
   "execution_count": 24,
   "id": "e428607f-edab-4635-b642-414edbcc62f7",
   "metadata": {
    "execution": {
     "iopub.execute_input": "2021-12-22T11:53:11.138773Z",
     "iopub.status.busy": "2021-12-22T11:53:11.138613Z",
     "iopub.status.idle": "2021-12-22T11:53:12.381609Z",
     "shell.execute_reply": "2021-12-22T11:53:12.380303Z",
     "shell.execute_reply.started": "2021-12-22T11:53:11.138753Z"
    },
    "tags": []
   },
   "outputs": [
    {
     "name": "stdout",
     "output_type": "stream",
     "text": [
      "Shape of X: (4812, 300) ; Shape of y: (4812,)\n"
     ]
    }
   ],
   "source": [
    "# save X and y arrays\n",
    "X_array = np.array(X)\n",
    "y_array = np.array(y)\n",
    "\n",
    "print(\"Shape of X:\", X_array.shape, \"; Shape of y:\", y_array.shape)\n",
    "\n",
    "np.save(\"../../data/training_data/X_w2v_sentida.npy\", X_array)\n",
    "np.save(\"../../data/training_data/y_w2v_sentida.npy\", y_array)"
   ]
  },
  {
   "cell_type": "markdown",
   "id": "dbd66834-7ee8-46eb-b3f6-551b0cc7602e",
   "metadata": {},
   "source": [
    "## FastText "
   ]
  },
  {
   "cell_type": "code",
   "execution_count": 28,
   "id": "53b37536-b395-4df6-8f69-c0fdac3787eb",
   "metadata": {
    "execution": {
     "iopub.execute_input": "2021-12-22T11:56:26.054443Z",
     "iopub.status.busy": "2021-12-22T11:56:26.053845Z",
     "iopub.status.idle": "2021-12-22T11:58:52.037763Z",
     "shell.execute_reply": "2021-12-22T11:58:52.036921Z",
     "shell.execute_reply.started": "2021-12-22T11:56:26.054394Z"
    },
    "tags": []
   },
   "outputs": [],
   "source": [
    "ft_model = FastText.load(\"../../../../dagw_fasttext_embeddings/fasttext_model/fasttext.model\")"
   ]
  },
  {
   "cell_type": "code",
   "execution_count": 29,
   "id": "536cb8d4-5fe9-44bb-a70f-d24d433e1f46",
   "metadata": {
    "execution": {
     "iopub.execute_input": "2021-12-22T12:00:24.991623Z",
     "iopub.status.busy": "2021-12-22T12:00:24.991478Z",
     "iopub.status.idle": "2021-12-22T12:00:25.292529Z",
     "shell.execute_reply": "2021-12-22T12:00:25.291935Z",
     "shell.execute_reply.started": "2021-12-22T12:00:24.991606Z"
    },
    "tags": []
   },
   "outputs": [],
   "source": [
    "ft_y = []\n",
    "ft_X = []\n",
    "ft_not_found = []\n",
    "\n",
    "for index, row in sentiments.iterrows():\n",
    "    raw_word = row[\"stem\"]\n",
    "    word = raw_word.lower()\n",
    "    sent = row[\"score\"]\n",
    "    if word in ft_model.wv:\n",
    "        embed = ft_model.wv[word]\n",
    "        ft_y.append(sent)\n",
    "        ft_X.append(embed)\n",
    "    else:\n",
    "        ft_not_found.append(word)"
   ]
  },
  {
   "cell_type": "code",
   "execution_count": 30,
   "id": "ede53903-9819-48a4-9d0d-62a98b4e5382",
   "metadata": {
    "execution": {
     "iopub.execute_input": "2021-12-22T12:07:54.484626Z",
     "iopub.status.busy": "2021-12-22T12:07:54.484477Z",
     "iopub.status.idle": "2021-12-22T12:07:54.489669Z",
     "shell.execute_reply": "2021-12-22T12:07:54.489150Z",
     "shell.execute_reply.started": "2021-12-22T12:07:54.484608Z"
    },
    "tags": []
   },
   "outputs": [
    {
     "name": "stdout",
     "output_type": "stream",
     "text": [
      "embeddings: 5263 ; sentiment labels: 5263 ; not embedding found: 0\n"
     ]
    }
   ],
   "source": [
    "print(\"embeddings:\", len(ft_X), \"; sentiment labels:\", len(ft_y), \"; not embedding found:\", len(ft_not_found))"
   ]
  },
  {
   "cell_type": "code",
   "execution_count": 65,
   "id": "086affb9-f83d-4183-90b1-ccdf0f2b11d0",
   "metadata": {
    "execution": {
     "iopub.execute_input": "2021-12-20T10:15:05.016813Z",
     "iopub.status.busy": "2021-12-20T10:15:05.016643Z",
     "iopub.status.idle": "2021-12-20T10:15:05.059688Z",
     "shell.execute_reply": "2021-12-20T10:15:05.058803Z",
     "shell.execute_reply.started": "2021-12-20T10:15:05.016792Z"
    },
    "tags": []
   },
   "outputs": [
    {
     "name": "stdout",
     "output_type": "stream",
     "text": [
      "Shape of X: (10742, 300) ; Shape of y: (10742,)\n"
     ]
    }
   ],
   "source": [
    "# save X and y arrays\n",
    "X_ft_array = np.array(ft_X)\n",
    "y_ft_array = np.array(ft_y)\n",
    "\n",
    "print(\"Shape of X:\", X_ft_array.shape, \"; Shape of y:\", y_ft_array.shape)\n",
    "\n",
    "np.save(\"../data/training_data/X_ft_array_neutral.npy\", X_ft_array)\n",
    "np.save(\"../data/training_data/y_ft_array_neutral.npy\", y_ft_array)"
   ]
  },
  {
   "cell_type": "code",
   "execution_count": 4,
   "id": "a7f85f2d-450a-4a11-900b-09ec7f6a029c",
   "metadata": {
    "execution": {
     "iopub.execute_input": "2021-12-22T10:46:21.681076Z",
     "iopub.status.busy": "2021-12-22T10:46:21.680480Z",
     "iopub.status.idle": "2021-12-22T10:46:21.690250Z",
     "shell.execute_reply": "2021-12-22T10:46:21.688694Z",
     "shell.execute_reply.started": "2021-12-22T10:46:21.681021Z"
    },
    "tags": []
   },
   "outputs": [],
   "source": [
    "y = np.load(\"../../data/training_data/y_w2v_neutral.npy\")\n",
    "y = "
   ]
  },
  {
   "cell_type": "code",
   "execution_count": 9,
   "id": "fc1e1df3-bd2e-4a15-82b8-206382e0685c",
   "metadata": {
    "execution": {
     "iopub.execute_input": "2021-12-22T10:46:58.970149Z",
     "iopub.status.busy": "2021-12-22T10:46:58.969554Z",
     "iopub.status.idle": "2021-12-22T10:46:59.225156Z",
     "shell.execute_reply": "2021-12-22T10:46:59.224284Z",
     "shell.execute_reply.started": "2021-12-22T10:46:58.970093Z"
    },
    "tags": []
   },
   "outputs": [
    {
     "data": {
      "image/png": "[encoded data removed]",
      "text/plain": [
       "<Figure size 432x288 with 1 Axes>"
      ]
     },
     "metadata": {
      "needs_background": "light"
     },
     "output_type": "display_data"
    }
   ],
   "source": [
    "import matplotlib.pyplot as plt\n",
    "plt.hist(y, bins=66);"
   ]
  },
  {
   "cell_type": "code",
   "execution_count": 12,
   "id": "6d130d56-6435-4a80-ae6d-c4b497fa33a0",
   "metadata": {
    "execution": {
     "iopub.execute_input": "2021-12-22T11:03:38.677893Z",
     "iopub.status.busy": "2021-12-22T11:03:38.677363Z",
     "iopub.status.idle": "2021-12-22T11:03:38.684628Z",
     "shell.execute_reply": "2021-12-22T11:03:38.683248Z",
     "shell.execute_reply.started": "2021-12-22T11:03:38.677842Z"
    },
    "tags": []
   },
   "outputs": [],
   "source": [
    "y_no = y[y != 0]"
   ]
  },
  {
   "cell_type": "code",
   "execution_count": 13,
   "id": "6d085479-92e2-4863-9a03-cf42b7d054c8",
   "metadata": {
    "execution": {
     "iopub.execute_input": "2021-12-22T11:03:38.968834Z",
     "iopub.status.busy": "2021-12-22T11:03:38.968361Z",
     "iopub.status.idle": "2021-12-22T11:03:39.118400Z",
     "shell.execute_reply": "2021-12-22T11:03:39.117828Z",
     "shell.execute_reply.started": "2021-12-22T11:03:38.968786Z"
    },
    "tags": []
   },
   "outputs": [
    {
     "data": {
      "image/png": "[encoded data removed]",
      "text/plain": [
       "<Figure size 432x288 with 1 Axes>"
      ]
     },
     "metadata": {
      "needs_background": "light"
     },
     "output_type": "display_data"
    }
   ],
   "source": [
    "plt.hist(y_no, bins=66);"
   ]
  },
  {
   "cell_type": "code",
   "execution_count": 15,
   "id": "27feae8c-899d-46bd-81ec-d90a574859d2",
   "metadata": {
    "execution": {
     "iopub.execute_input": "2021-12-22T11:04:59.871163Z",
     "iopub.status.busy": "2021-12-22T11:04:59.870405Z",
     "iopub.status.idle": "2021-12-22T11:04:59.883514Z",
     "shell.execute_reply": "2021-12-22T11:04:59.882453Z",
     "shell.execute_reply.started": "2021-12-22T11:04:59.871106Z"
    },
    "tags": []
   },
   "outputs": [
    {
     "data": {
      "text/plain": [
       "array([[-5.00000000e+00,  1.50000000e+01],\n",
       "       [-4.66666667e+00,  1.60000000e+01],\n",
       "       [-4.33333333e+00,  2.80000000e+01],\n",
       "       [-4.16666667e+00,  1.00000000e+00],\n",
       "       [-4.00000000e+00,  5.60000000e+01],\n",
       "       [-3.66666667e+00,  6.90000000e+01],\n",
       "       [-3.66666667e+00,  2.00000000e+00],\n",
       "       [-3.50000000e+00,  1.00000000e+00],\n",
       "       [-3.33333333e+00,  9.70000000e+01],\n",
       "       [-3.16666667e+00,  2.00000000e+00],\n",
       "       [-3.00000000e+00,  2.56000000e+02],\n",
       "       [-2.83333333e+00,  2.00000000e+00],\n",
       "       [-2.66666667e+00,  1.38000000e+02],\n",
       "       [-2.50000000e+00,  6.00000000e+00],\n",
       "       [-2.33333333e+00,  1.46000000e+02],\n",
       "       [-2.16666667e+00,  2.00000000e+00],\n",
       "       [-2.00000000e+00,  6.44000000e+02],\n",
       "       [-1.66666667e+00,  1.64000000e+02],\n",
       "       [-1.50000000e+00,  6.00000000e+00],\n",
       "       [-1.33333333e+00,  2.07000000e+02],\n",
       "       [-1.16666667e+00,  4.00000000e+00],\n",
       "       [-1.00000000e+00,  2.70000000e+02],\n",
       "       [-8.33333333e-01,  3.00000000e+00],\n",
       "       [-6.66666667e-01,  3.90000000e+02],\n",
       "       [-5.00000000e-01,  3.00000000e+00],\n",
       "       [-4.44444444e-01,  1.00000000e+00],\n",
       "       [-3.33333333e-01,  4.83000000e+02],\n",
       "       [-1.66666667e-01,  1.60000000e+01],\n",
       "       [ 1.11111111e-01,  1.00000000e+00],\n",
       "       [ 1.66666667e-01,  3.00000000e+01],\n",
       "       [ 3.33333333e-01,  1.06900000e+03],\n",
       "       [ 4.44444444e-01,  1.00000000e+00],\n",
       "       [ 5.00000000e-01,  1.90000000e+01],\n",
       "       [ 6.66666667e-01,  7.26000000e+02],\n",
       "       [ 7.77777778e-01,  1.00000000e+00],\n",
       "       [ 8.33333333e-01,  5.00000000e+00],\n",
       "       [ 1.00000000e+00,  3.45000000e+02],\n",
       "       [ 1.11111111e+00,  1.00000000e+00],\n",
       "       [ 1.16666667e+00,  8.00000000e+00],\n",
       "       [ 1.33333333e+00,  1.93000000e+02],\n",
       "       [ 1.50000000e+00,  4.00000000e+00],\n",
       "       [ 1.66666667e+00,  1.66000000e+02],\n",
       "       [ 1.83333333e+00,  5.00000000e+00],\n",
       "       [ 2.00000000e+00,  3.22000000e+02],\n",
       "       [ 2.33333333e+00,  1.06000000e+02],\n",
       "       [ 2.33333333e+00,  1.00000000e+00],\n",
       "       [ 2.50000000e+00,  1.00000000e+00],\n",
       "       [ 2.66666667e+00,  9.20000000e+01],\n",
       "       [ 2.83333333e+00,  2.00000000e+00],\n",
       "       [ 3.00000000e+00,  1.55000000e+02],\n",
       "       [ 3.16666667e+00,  1.00000000e+00],\n",
       "       [ 3.33333333e+00,  4.50000000e+01],\n",
       "       [ 3.66666667e+00,  2.80000000e+01],\n",
       "       [ 4.00000000e+00,  3.70000000e+01],\n",
       "       [ 4.33333333e+00,  1.10000000e+01],\n",
       "       [ 4.66666667e+00,  1.00000000e+01],\n",
       "       [ 5.00000000e+00,  6.00000000e+00]])"
      ]
     },
     "execution_count": 15,
     "metadata": {},
     "output_type": "execute_result"
    }
   ],
   "source": [
    "unique, counts = np.unique(y_no, return_counts=True)\n",
    "np.asarray((unique, counts)).T"
   ]
  },
  {
   "cell_type": "code",
   "execution_count": 17,
   "id": "dddbe64a-a42f-4c09-8c22-f3d47fa1183d",
   "metadata": {
    "execution": {
     "iopub.execute_input": "2021-12-22T11:05:55.261175Z",
     "iopub.status.busy": "2021-12-22T11:05:55.260435Z",
     "iopub.status.idle": "2021-12-22T11:05:55.270428Z",
     "shell.execute_reply": "2021-12-22T11:05:55.269269Z",
     "shell.execute_reply.started": "2021-12-22T11:05:55.261119Z"
    },
    "tags": []
   },
   "outputs": [
    {
     "data": {
      "text/plain": [
       "array([  15,   16,   28,    1,   56,   69,    2,    1,   97,    2,  256,\n",
       "          2,  138,    6,  146,    2,  644,  164,    6,  207,    4,  270,\n",
       "          3,  390,    3,    1,  483,   16,    1,   30, 1069,    1,   19,\n",
       "        726,    1,    5,  345,    1,    8,  193,    4,  166,    5,  322,\n",
       "        106,    1,    1,   92,    2,  155,    1,   45,   28,   37,   11,\n",
       "         10,    6])"
      ]
     },
     "execution_count": 17,
     "metadata": {},
     "output_type": "execute_result"
    }
   ],
   "source": [
    "counts"
   ]
  }
 ],
 "metadata": {
  "kernelspec": {
   "display_name": "Python 3 ",
   "language": "python",
   "name": "python3"
  },
  "language_info": {
   "codemirror_mode": {
    "name": "ipython",
    "version": 3
   },
   "file_extension": ".py",
   "mimetype": "text/x-python",
   "name": "python",
   "nbconvert_exporter": "python",
   "pygments_lexer": "ipython3",
   "version": "3.9.6"
  }
 },
 "nbformat": 4,
 "nbformat_minor": 5
}
