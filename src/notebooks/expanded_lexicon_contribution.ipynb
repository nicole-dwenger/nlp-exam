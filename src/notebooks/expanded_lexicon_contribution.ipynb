{
 "cells": [
  {
   "cell_type": "markdown",
   "id": "f9670937-899d-43f7-9dc7-2e123ac76038",
   "metadata": {},
   "source": [
    "# Contibution of Lexicon Expansion to Datasets of Lexicon Evaluation"
   ]
  },
  {
   "cell_type": "markdown",
   "id": "c9ca637d-cefc-49a8-89c9-f04521c45acb",
   "metadata": {},
   "source": [
    "This notebook provides code to investigate whether and how many words which of the lexicon expansion are in fact present in the datasets used for evaluation. Thus, if no performance increase of the extended lexicon compared to the base Sentida2 is observed, this may be related to the fact that only few words of the expanded lexicon are actually in the datasets."
   ]
  },
  {
   "cell_type": "markdown",
   "id": "239a5fed-2278-4bb5-86d5-21a07eff9b65",
   "metadata": {},
   "source": [
    "### Dependencies"
   ]
  },
  {
   "cell_type": "code",
   "execution_count": 1,
   "id": "dc479cd1-8437-4a4a-84da-3dd4f8c1eab0",
   "metadata": {
    "execution": {
     "iopub.execute_input": "2022-01-02T11:13:04.267647Z",
     "iopub.status.busy": "2022-01-02T11:13:04.267168Z",
     "iopub.status.idle": "2022-01-02T11:13:08.802238Z",
     "shell.execute_reply": "2022-01-02T11:13:08.801153Z",
     "shell.execute_reply.started": "2022-01-02T11:13:04.267598Z"
    }
   },
   "outputs": [
    {
     "name": "stderr",
     "output_type": "stream",
     "text": [
      "2022-01-02 12:13:04.720259: W tensorflow/stream_executor/platform/default/dso_loader.cc:64] Could not load dynamic library 'libcudart.so.11.0'; dlerror: libcudart.so.11.0: cannot open shared object file: No such file or directory\n",
      "2022-01-02 12:13:04.720296: I tensorflow/stream_executor/cuda/cudart_stub.cc:29] Ignore above cudart dlerror if you do not have a GPU set up on your machine.\n"
     ]
    }
   ],
   "source": [
    "# basics\n",
    "import sys, os\n",
    "import argparse\n",
    "import pandas as pd\n",
    "\n",
    "# nlp\n",
    "import spacy\n",
    "nlp = spacy.load(\"da_core_news_lg\")\n",
    "from danlp.datasets import EuroparlSentiment1, LccSentiment, TwitterSent\n",
    "\n",
    "# utils\n",
    "sys.path.append(os.path.join(\"..\", \"..\"))\n",
    "from utils.twittertokens import setup_twitter"
   ]
  },
  {
   "cell_type": "markdown",
   "id": "d31a8498-f658-41b8-aff2-ffdbd347df7f",
   "metadata": {},
   "source": [
    "### Lexicons"
   ]
  },
  {
   "cell_type": "code",
   "execution_count": 3,
   "id": "b73437cc-31b9-46ca-a26f-bc848861957f",
   "metadata": {
    "execution": {
     "iopub.execute_input": "2022-01-02T11:14:23.379038Z",
     "iopub.status.busy": "2022-01-02T11:14:23.378414Z",
     "iopub.status.idle": "2022-01-02T11:14:23.405608Z",
     "shell.execute_reply": "2022-01-02T11:14:23.404970Z",
     "shell.execute_reply.started": "2022-01-02T11:14:23.378969Z"
    },
    "tags": []
   },
   "outputs": [],
   "source": [
    "# base sentida2\n",
    "sentida2 = pd.read_csv(\"../../lexicons/sentida2_lexicon.csv\")\n",
    "# expanded with neural network, word2vec\n",
    "expansion = pd.read_csv(f\"../../output/sentiment_prediction/neural_network/word2vec/sentiment_predictions.csv\")\n",
    "expansion = expansion.rename(columns={\"word\":\"word\", \"restricted_sentiments\":\"score\"})\n",
    "expansion = expansion.drop(columns =[\"predicted_sentiment\"])\n",
    "sentida2_expanded = pd.concat([sentida2, expansion])"
   ]
  },
  {
   "cell_type": "code",
   "execution_count": 41,
   "id": "85fa1daa-9fc0-4824-b38f-68728b285a68",
   "metadata": {
    "execution": {
     "iopub.execute_input": "2022-01-02T17:21:49.651545Z",
     "iopub.status.busy": "2022-01-02T17:21:49.650924Z",
     "iopub.status.idle": "2022-01-02T17:21:49.659611Z",
     "shell.execute_reply": "2022-01-02T17:21:49.658656Z",
     "shell.execute_reply.started": "2022-01-02T17:21:49.651496Z"
    }
   },
   "outputs": [
    {
     "data": {
      "text/plain": [
       "6592"
      ]
     },
     "execution_count": 41,
     "metadata": {},
     "output_type": "execute_result"
    }
   ],
   "source": [
    "len(sentida2)"
   ]
  },
  {
   "cell_type": "code",
   "execution_count": 4,
   "id": "0dfdf84a-950d-487f-b664-33cba8994be2",
   "metadata": {
    "execution": {
     "iopub.execute_input": "2022-01-02T11:14:41.901336Z",
     "iopub.status.busy": "2022-01-02T11:14:41.900833Z",
     "iopub.status.idle": "2022-01-02T11:14:41.908732Z",
     "shell.execute_reply": "2022-01-02T11:14:41.907382Z",
     "shell.execute_reply.started": "2022-01-02T11:14:41.901290Z"
    }
   },
   "outputs": [],
   "source": [
    "# get words of lexica\n",
    "sentida2_words = sentida2.word.tolist()\n",
    "sentida2_expanded_words = sentida2_expanded.word.tolist()"
   ]
  },
  {
   "cell_type": "markdown",
   "id": "0fca3f6e-41ce-4ef8-b1c4-d8bb3d1010d6",
   "metadata": {},
   "source": [
    "### Lexicon Evaluation Datasets"
   ]
  },
  {
   "cell_type": "code",
   "execution_count": 8,
   "id": "2821a4af-e53b-449b-88cc-7923588d8b16",
   "metadata": {
    "execution": {
     "iopub.execute_input": "2022-01-02T11:16:49.199803Z",
     "iopub.status.busy": "2022-01-02T11:16:49.199338Z",
     "iopub.status.idle": "2022-01-02T11:17:03.390059Z",
     "shell.execute_reply": "2022-01-02T11:17:03.388988Z",
     "shell.execute_reply.started": "2022-01-02T11:16:49.199757Z"
    },
    "tags": []
   },
   "outputs": [
    {
     "name": "stdout",
     "output_type": "stream",
     "text": [
      "Downloading file /tmp/tmpo3pdppez\n"
     ]
    },
    {
     "name": "stderr",
     "output_type": "stream",
     "text": [
      "100% |########################################################################|\n"
     ]
    }
   ],
   "source": [
    "# eurpal and lcc\n",
    "euro1 = EuroparlSentiment1().load_with_pandas()\n",
    "lcc = LccSentiment().load_with_pandas()\n",
    "\n",
    "# twitter\n",
    "setup_twitter()\n",
    "twitter_val, _ = TwitterSent().load_with_pandas()"
   ]
  },
  {
   "cell_type": "markdown",
   "id": "0ccd2423-0f81-4652-a7c1-4e54aba13440",
   "metadata": {},
   "source": [
    "### EuropalSentiment1"
   ]
  },
  {
   "cell_type": "code",
   "execution_count": 9,
   "id": "43b0bd49-ee2e-46e2-af11-6280e9bd3261",
   "metadata": {
    "execution": {
     "iopub.execute_input": "2022-01-02T11:17:50.416188Z",
     "iopub.status.busy": "2022-01-02T11:17:50.415113Z",
     "iopub.status.idle": "2022-01-02T11:17:51.463375Z",
     "shell.execute_reply": "2022-01-02T11:17:51.462505Z",
     "shell.execute_reply.started": "2022-01-02T11:17:50.416138Z"
    }
   },
   "outputs": [],
   "source": [
    "lemma_list=[]\n",
    "for index, row in euro1.iterrows():\n",
    "    doc = nlp(row.text)\n",
    "    tokens = [token.lemma_ for token in doc]\n",
    "    lemma_list = lemma_list+tokens"
   ]
  },
  {
   "cell_type": "code",
   "execution_count": 17,
   "id": "090b9935-cfd3-40c6-8357-9980b362e369",
   "metadata": {
    "execution": {
     "iopub.execute_input": "2022-01-02T11:19:00.100595Z",
     "iopub.status.busy": "2022-01-02T11:19:00.100125Z",
     "iopub.status.idle": "2022-01-02T11:19:00.108615Z",
     "shell.execute_reply": "2022-01-02T11:19:00.107593Z",
     "shell.execute_reply.started": "2022-01-02T11:19:00.100549Z"
    },
    "tags": []
   },
   "outputs": [
    {
     "name": "stdout",
     "output_type": "stream",
     "text": [
      "Total: 3359\n",
      "Unique: 945\n"
     ]
    }
   ],
   "source": [
    "# total number of lemmas in corpus\n",
    "print(\"Total:\", len(lemma_list))\n",
    "# unique number of lemmas in corpus\n",
    "print(\"Unique:\", len(set(lemma_list)))"
   ]
  },
  {
   "cell_type": "code",
   "execution_count": 23,
   "id": "8fa6aa2b-e714-445f-aad9-713a6ee472f3",
   "metadata": {
    "execution": {
     "iopub.execute_input": "2022-01-02T11:21:53.548324Z",
     "iopub.status.busy": "2022-01-02T11:21:53.547718Z",
     "iopub.status.idle": "2022-01-02T11:21:53.557200Z",
     "shell.execute_reply": "2022-01-02T11:21:53.556211Z",
     "shell.execute_reply.started": "2022-01-02T11:21:53.548276Z"
    },
    "tags": []
   },
   "outputs": [
    {
     "name": "stdout",
     "output_type": "stream",
     "text": [
      "Unique words in sentida2 and europal dataset: 413\n"
     ]
    }
   ],
   "source": [
    "# overlap with base sentida2\n",
    "in_sentida2 = (set(lemma_list) & set(sentida2_words))\n",
    "print(\"Unique words in sentida2 and europal dataset:\", len(in_sentida2))"
   ]
  },
  {
   "cell_type": "code",
   "execution_count": 25,
   "id": "d2b67ddd-112e-4075-a3f7-a0d42608c6ed",
   "metadata": {
    "execution": {
     "iopub.execute_input": "2022-01-02T11:22:17.038077Z",
     "iopub.status.busy": "2022-01-02T11:22:17.037608Z",
     "iopub.status.idle": "2022-01-02T11:22:17.046994Z",
     "shell.execute_reply": "2022-01-02T11:22:17.046113Z",
     "shell.execute_reply.started": "2022-01-02T11:22:17.038031Z"
    },
    "tags": []
   },
   "outputs": [
    {
     "name": "stdout",
     "output_type": "stream",
     "text": [
      "Unique words in sentida2 expanded and europal dataset: 451\n"
     ]
    }
   ],
   "source": [
    "# overlap with expanded sentida2\n",
    "in_sentida2_expanded = set(lemma_list) & set(sentida2_expanded_words)\n",
    "print(\"Unique words in sentida2 expanded and europal dataset:\", len(in_sentida2_expanded))"
   ]
  },
  {
   "cell_type": "code",
   "execution_count": 28,
   "id": "dcce483d-35d2-4561-bed2-149ef5d3fea7",
   "metadata": {
    "execution": {
     "iopub.execute_input": "2022-01-02T11:23:18.211015Z",
     "iopub.status.busy": "2022-01-02T11:23:18.210495Z",
     "iopub.status.idle": "2022-01-02T11:23:18.226848Z",
     "shell.execute_reply": "2022-01-02T11:23:18.225885Z",
     "shell.execute_reply.started": "2022-01-02T11:23:18.210951Z"
    },
    "tags": []
   },
   "outputs": [
    {
     "data": {
      "text/plain": [
       "38"
      ]
     },
     "execution_count": 28,
     "metadata": {},
     "output_type": "execute_result"
    }
   ],
   "source": [
    "# contribution of expansion\n",
    "len(list(set(in_sentida2_expanded) - set(in_sentida2)))"
   ]
  },
  {
   "cell_type": "markdown",
   "id": "b6ae36a2-0443-4656-b5e1-558e633d1829",
   "metadata": {},
   "source": [
    "### LccSentiment"
   ]
  },
  {
   "cell_type": "code",
   "execution_count": 29,
   "id": "65e1e675-4e49-4fe4-8555-10d504e36d10",
   "metadata": {
    "execution": {
     "iopub.execute_input": "2022-01-02T11:23:59.089874Z",
     "iopub.status.busy": "2022-01-02T11:23:59.089393Z",
     "iopub.status.idle": "2022-01-02T11:24:01.944599Z",
     "shell.execute_reply": "2022-01-02T11:24:01.943184Z",
     "shell.execute_reply.started": "2022-01-02T11:23:59.089826Z"
    }
   },
   "outputs": [],
   "source": [
    "lemma_list=[]\n",
    "for index, row in lcc.iterrows():\n",
    "    doc = nlp(row.text)\n",
    "    tokens = [token.lemma_ for token in doc]\n",
    "    lemma_list = lemma_list+tokens"
   ]
  },
  {
   "cell_type": "code",
   "execution_count": 30,
   "id": "3dd7ab90-0777-4c86-8dd5-1935a6b1a2a5",
   "metadata": {
    "execution": {
     "iopub.execute_input": "2022-01-02T11:24:08.915922Z",
     "iopub.status.busy": "2022-01-02T11:24:08.915443Z",
     "iopub.status.idle": "2022-01-02T11:24:08.925595Z",
     "shell.execute_reply": "2022-01-02T11:24:08.924666Z",
     "shell.execute_reply.started": "2022-01-02T11:24:08.915875Z"
    }
   },
   "outputs": [
    {
     "name": "stdout",
     "output_type": "stream",
     "text": [
      "Total: 10584\n",
      "Unique: 3530\n"
     ]
    }
   ],
   "source": [
    "# total number of lemmas in corpus\n",
    "print(\"Total:\", len(lemma_list))\n",
    "# unique number of lemmas in corpus\n",
    "print(\"Unique:\", len(set(lemma_list)))"
   ]
  },
  {
   "cell_type": "code",
   "execution_count": 31,
   "id": "66c017da-d4ef-43a1-9786-b278b218dec7",
   "metadata": {
    "execution": {
     "iopub.execute_input": "2022-01-02T11:24:22.414729Z",
     "iopub.status.busy": "2022-01-02T11:24:22.414246Z",
     "iopub.status.idle": "2022-01-02T11:24:22.425135Z",
     "shell.execute_reply": "2022-01-02T11:24:22.424462Z",
     "shell.execute_reply.started": "2022-01-02T11:24:22.414680Z"
    }
   },
   "outputs": [
    {
     "name": "stdout",
     "output_type": "stream",
     "text": [
      "Unique words in sentida2 and lcc dataset: 1016\n"
     ]
    }
   ],
   "source": [
    "# overlap with base sentida2\n",
    "in_sentida2 = (set(lemma_list) & set(sentida2_words))\n",
    "print(\"Unique words in sentida2 and lcc dataset:\", len(in_sentida2))"
   ]
  },
  {
   "cell_type": "code",
   "execution_count": 32,
   "id": "367d3b55-1927-4a1a-a93c-b460bf1b482e",
   "metadata": {
    "execution": {
     "iopub.execute_input": "2022-01-02T11:24:28.314528Z",
     "iopub.status.busy": "2022-01-02T11:24:28.314048Z",
     "iopub.status.idle": "2022-01-02T11:24:28.325015Z",
     "shell.execute_reply": "2022-01-02T11:24:28.324336Z",
     "shell.execute_reply.started": "2022-01-02T11:24:28.314480Z"
    }
   },
   "outputs": [
    {
     "name": "stdout",
     "output_type": "stream",
     "text": [
      "Unique words in sentida2 expanded and lcc dataset: 1192\n"
     ]
    }
   ],
   "source": [
    "# overlap with expanded sentida2\n",
    "in_sentida2_expanded = set(lemma_list) & set(sentida2_expanded_words)\n",
    "print(\"Unique words in sentida2 expanded and lcc dataset:\", len(in_sentida2_expanded))"
   ]
  },
  {
   "cell_type": "code",
   "execution_count": 33,
   "id": "3a71d38f-4ce4-4fb2-a86e-29839a29f425",
   "metadata": {
    "execution": {
     "iopub.execute_input": "2022-01-02T11:24:33.786418Z",
     "iopub.status.busy": "2022-01-02T11:24:33.785651Z",
     "iopub.status.idle": "2022-01-02T11:24:33.795714Z",
     "shell.execute_reply": "2022-01-02T11:24:33.794822Z",
     "shell.execute_reply.started": "2022-01-02T11:24:33.786366Z"
    }
   },
   "outputs": [
    {
     "data": {
      "text/plain": [
       "176"
      ]
     },
     "execution_count": 33,
     "metadata": {},
     "output_type": "execute_result"
    }
   ],
   "source": [
    "# contribution of expansion\n",
    "len(list(set(in_sentida2_expanded) - set(in_sentida2)))"
   ]
  },
  {
   "cell_type": "markdown",
   "id": "c1ffe131-7542-49ee-9fc9-f36a1c00c086",
   "metadata": {},
   "source": [
    "### Twitter Sentiment"
   ]
  },
  {
   "cell_type": "code",
   "execution_count": 35,
   "id": "d2c91bfa-7661-440d-b75c-ffe7211a7bb1",
   "metadata": {
    "execution": {
     "iopub.execute_input": "2022-01-02T11:24:56.522635Z",
     "iopub.status.busy": "2022-01-02T11:24:56.522150Z",
     "iopub.status.idle": "2022-01-02T11:24:59.744180Z",
     "shell.execute_reply": "2022-01-02T11:24:59.743133Z",
     "shell.execute_reply.started": "2022-01-02T11:24:56.522588Z"
    },
    "tags": []
   },
   "outputs": [],
   "source": [
    "lemma_list=[]\n",
    "for index, row in twitter_val.iterrows():\n",
    "    doc = nlp(row.text)\n",
    "    tokens = [token.lemma_ for token in doc]\n",
    "    lemma_list = lemma_list+tokens"
   ]
  },
  {
   "cell_type": "code",
   "execution_count": 36,
   "id": "21a7ecc2-8dca-4e0b-8a7c-d85d41deee60",
   "metadata": {
    "execution": {
     "iopub.execute_input": "2022-01-02T11:25:02.292885Z",
     "iopub.status.busy": "2022-01-02T11:25:02.292415Z",
     "iopub.status.idle": "2022-01-02T11:25:02.303816Z",
     "shell.execute_reply": "2022-01-02T11:25:02.303092Z",
     "shell.execute_reply.started": "2022-01-02T11:25:02.292839Z"
    }
   },
   "outputs": [
    {
     "name": "stdout",
     "output_type": "stream",
     "text": [
      "Total: 19001\n",
      "Unique: 4724\n"
     ]
    }
   ],
   "source": [
    "# total number of lemmas in corpus\n",
    "print(\"Total:\", len(lemma_list))\n",
    "# unique number of lemmas in corpus\n",
    "print(\"Unique:\", len(set(lemma_list)))"
   ]
  },
  {
   "cell_type": "code",
   "execution_count": 38,
   "id": "6289abe7-6e76-4958-9da1-a79f4a8b440d",
   "metadata": {
    "execution": {
     "iopub.execute_input": "2022-01-02T11:25:11.301524Z",
     "iopub.status.busy": "2022-01-02T11:25:11.301047Z",
     "iopub.status.idle": "2022-01-02T11:25:11.312114Z",
     "shell.execute_reply": "2022-01-02T11:25:11.311300Z",
     "shell.execute_reply.started": "2022-01-02T11:25:11.301475Z"
    },
    "tags": []
   },
   "outputs": [
    {
     "name": "stdout",
     "output_type": "stream",
     "text": [
      "Unique words in sentida2 and twitter dataset: 1354\n"
     ]
    }
   ],
   "source": [
    "# overlap with base sentida2\n",
    "in_sentida2 = (set(lemma_list) & set(sentida2_words))\n",
    "print(\"Unique words in sentida2 and twitter dataset:\", len(in_sentida2))"
   ]
  },
  {
   "cell_type": "code",
   "execution_count": 39,
   "id": "bdb9fb3b-c959-4ff9-9878-9955681367ab",
   "metadata": {
    "execution": {
     "iopub.execute_input": "2022-01-02T11:25:18.338922Z",
     "iopub.status.busy": "2022-01-02T11:25:18.338426Z",
     "iopub.status.idle": "2022-01-02T11:25:18.350551Z",
     "shell.execute_reply": "2022-01-02T11:25:18.349685Z",
     "shell.execute_reply.started": "2022-01-02T11:25:18.338873Z"
    }
   },
   "outputs": [
    {
     "name": "stdout",
     "output_type": "stream",
     "text": [
      "Unique words in sentida2 expanded and twitter dataset: 1557\n"
     ]
    }
   ],
   "source": [
    "# overlap with expanded sentida2\n",
    "in_sentida2_expanded = set(lemma_list) & set(sentida2_expanded_words)\n",
    "print(\"Unique words in sentida2 expanded and twitter dataset:\", len(in_sentida2_expanded))"
   ]
  },
  {
   "cell_type": "code",
   "execution_count": 40,
   "id": "39d81555-64d4-4796-aa5a-d5ac4f0507e3",
   "metadata": {
    "execution": {
     "iopub.execute_input": "2022-01-02T11:25:23.519246Z",
     "iopub.status.busy": "2022-01-02T11:25:23.518746Z",
     "iopub.status.idle": "2022-01-02T11:25:23.528149Z",
     "shell.execute_reply": "2022-01-02T11:25:23.527078Z",
     "shell.execute_reply.started": "2022-01-02T11:25:23.519198Z"
    }
   },
   "outputs": [
    {
     "data": {
      "text/plain": [
       "203"
      ]
     },
     "execution_count": 40,
     "metadata": {},
     "output_type": "execute_result"
    }
   ],
   "source": [
    "# contribution of expansion\n",
    "len(list(set(in_sentida2_expanded) - set(in_sentida2)))"
   ]
  },
  {
   "cell_type": "code",
   "execution_count": null,
   "id": "9d90d8eb-7439-4e2f-9b46-d41d1fa5ffb9",
   "metadata": {},
   "outputs": [],
   "source": []
  }
 ],
 "metadata": {
  "kernelspec": {
   "display_name": "Python 3 ",
   "language": "python",
   "name": "python3"
  },
  "language_info": {
   "codemirror_mode": {
    "name": "ipython",
    "version": 3
   },
   "file_extension": ".py",
   "mimetype": "text/x-python",
   "name": "python",
   "nbconvert_exporter": "python",
   "pygments_lexer": "ipython3",
   "version": "3.9.6"
  }
 },
 "nbformat": 4,
 "nbformat_minor": 5
}
