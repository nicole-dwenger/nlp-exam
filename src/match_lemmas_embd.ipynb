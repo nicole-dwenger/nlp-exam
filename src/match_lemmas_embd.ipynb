{
 "cells": [
  {
   "cell_type": "code",
   "execution_count": 198,
   "id": "61d776ac-5c35-4e7c-b5b3-aa204240aac8",
   "metadata": {
    "execution": {
     "iopub.execute_input": "2021-12-17T12:47:31.203273Z",
     "iopub.status.busy": "2021-12-17T12:47:31.203125Z",
     "iopub.status.idle": "2021-12-17T12:47:31.345553Z",
     "shell.execute_reply": "2021-12-17T12:47:31.344754Z",
     "shell.execute_reply.started": "2021-12-17T12:47:31.203257Z"
    },
    "tags": []
   },
   "outputs": [],
   "source": [
    "from gensim.models import KeyedVectors\n",
    "import pandas as pd\n",
    "import numpy as np\n",
    "import matplotlib.pyplot as plt"
   ]
  },
  {
   "cell_type": "markdown",
   "id": "b063ec46-8c2b-43b0-9e1a-c6ff71c61fc1",
   "metadata": {},
   "source": [
    "__Match lemmas with ASENT__"
   ]
  },
  {
   "cell_type": "code",
   "execution_count": 148,
   "id": "b01b81fa-056d-4672-b24f-f8078f0677d7",
   "metadata": {
    "execution": {
     "iopub.execute_input": "2021-12-17T11:13:23.974278Z",
     "iopub.status.busy": "2021-12-17T11:13:23.973773Z",
     "iopub.status.idle": "2021-12-17T11:13:24.194800Z",
     "shell.execute_reply": "2021-12-17T11:13:24.193825Z",
     "shell.execute_reply.started": "2021-12-17T11:13:23.974230Z"
    },
    "tags": []
   },
   "outputs": [],
   "source": [
    "lemmas = pd.read_csv('../lemmas/lemma-30k-2017.txt', sep = \"\\t\", header = None)"
   ]
  },
  {
   "cell_type": "code",
   "execution_count": 149,
   "id": "1781e87d-1e7b-4c39-abbe-c567fafbfba7",
   "metadata": {
    "execution": {
     "iopub.execute_input": "2021-12-17T11:13:46.902393Z",
     "iopub.status.busy": "2021-12-17T11:13:46.902239Z",
     "iopub.status.idle": "2021-12-17T11:13:46.919139Z",
     "shell.execute_reply": "2021-12-17T11:13:46.918360Z",
     "shell.execute_reply.started": "2021-12-17T11:13:46.902376Z"
    },
    "tags": []
   },
   "outputs": [],
   "source": [
    "lemmas = lemmas.rename(columns={0: \"POS\", 1: \"word\", 2: \"freq\"})"
   ]
  },
  {
   "cell_type": "code",
   "execution_count": 150,
   "id": "9a65bd21-e4a0-4707-ae6c-ddc922765307",
   "metadata": {
    "execution": {
     "iopub.execute_input": "2021-12-17T11:13:46.920392Z",
     "iopub.status.busy": "2021-12-17T11:13:46.920259Z",
     "iopub.status.idle": "2021-12-17T11:13:46.936869Z",
     "shell.execute_reply": "2021-12-17T11:13:46.936352Z",
     "shell.execute_reply.started": "2021-12-17T11:13:46.920378Z"
    },
    "tags": []
   },
   "outputs": [
    {
     "data": {
      "text/html": [
       "<div>\n",
       "<style scoped>\n",
       "    .dataframe tbody tr th:only-of-type {\n",
       "        vertical-align: middle;\n",
       "    }\n",
       "\n",
       "    .dataframe tbody tr th {\n",
       "        vertical-align: top;\n",
       "    }\n",
       "\n",
       "    .dataframe thead th {\n",
       "        text-align: right;\n",
       "    }\n",
       "</style>\n",
       "<table border=\"1\" class=\"dataframe\">\n",
       "  <thead>\n",
       "    <tr style=\"text-align: right;\">\n",
       "      <th></th>\n",
       "      <th>POS</th>\n",
       "      <th>word</th>\n",
       "      <th>freq</th>\n",
       "    </tr>\n",
       "  </thead>\n",
       "  <tbody>\n",
       "    <tr>\n",
       "      <th>0</th>\n",
       "      <td>T</td>\n",
       "      <td>i</td>\n",
       "      <td>3.224048e-02</td>\n",
       "    </tr>\n",
       "    <tr>\n",
       "      <th>1</th>\n",
       "      <td>V</td>\n",
       "      <td>være</td>\n",
       "      <td>3.093546e-02</td>\n",
       "    </tr>\n",
       "    <tr>\n",
       "      <th>2</th>\n",
       "      <td>C</td>\n",
       "      <td>og</td>\n",
       "      <td>2.960070e-02</td>\n",
       "    </tr>\n",
       "    <tr>\n",
       "      <th>3</th>\n",
       "      <td>P</td>\n",
       "      <td>en</td>\n",
       "      <td>2.535859e-02</td>\n",
       "    </tr>\n",
       "    <tr>\n",
       "      <th>4</th>\n",
       "      <td>P</td>\n",
       "      <td>den</td>\n",
       "      <td>2.485305e-02</td>\n",
       "    </tr>\n",
       "    <tr>\n",
       "      <th>...</th>\n",
       "      <td>...</td>\n",
       "      <td>...</td>\n",
       "      <td>...</td>\n",
       "    </tr>\n",
       "    <tr>\n",
       "      <th>299995</th>\n",
       "      <td>U</td>\n",
       "      <td>dader</td>\n",
       "      <td>5.558718e-09</td>\n",
       "    </tr>\n",
       "    <tr>\n",
       "      <th>299996</th>\n",
       "      <td>A</td>\n",
       "      <td>dadurchøjre</td>\n",
       "      <td>5.558718e-09</td>\n",
       "    </tr>\n",
       "    <tr>\n",
       "      <th>299997</th>\n",
       "      <td>NC</td>\n",
       "      <td>daekpris</td>\n",
       "      <td>5.558718e-09</td>\n",
       "    </tr>\n",
       "    <tr>\n",
       "      <th>299998</th>\n",
       "      <td>NC</td>\n",
       "      <td>dagangreb</td>\n",
       "      <td>5.558718e-09</td>\n",
       "    </tr>\n",
       "    <tr>\n",
       "      <th>299999</th>\n",
       "      <td>NC</td>\n",
       "      <td>dagberedskab</td>\n",
       "      <td>5.558718e-09</td>\n",
       "    </tr>\n",
       "  </tbody>\n",
       "</table>\n",
       "<p>300000 rows × 3 columns</p>\n",
       "</div>"
      ],
      "text/plain": [
       "       POS          word          freq\n",
       "0        T             i  3.224048e-02\n",
       "1        V          være  3.093546e-02\n",
       "2        C            og  2.960070e-02\n",
       "3        P            en  2.535859e-02\n",
       "4        P           den  2.485305e-02\n",
       "...     ..           ...           ...\n",
       "299995   U         dader  5.558718e-09\n",
       "299996   A   dadurchøjre  5.558718e-09\n",
       "299997  NC      daekpris  5.558718e-09\n",
       "299998  NC     dagangreb  5.558718e-09\n",
       "299999  NC  dagberedskab  5.558718e-09\n",
       "\n",
       "[300000 rows x 3 columns]"
      ]
     },
     "execution_count": 150,
     "metadata": {},
     "output_type": "execute_result"
    }
   ],
   "source": [
    "lemmas"
   ]
  },
  {
   "cell_type": "code",
   "execution_count": 151,
   "id": "38cb3472-54d8-4772-886d-ce23711bd8a6",
   "metadata": {
    "execution": {
     "iopub.execute_input": "2021-12-17T11:13:46.937541Z",
     "iopub.status.busy": "2021-12-17T11:13:46.937414Z",
     "iopub.status.idle": "2021-12-17T11:13:46.984215Z",
     "shell.execute_reply": "2021-12-17T11:13:46.983191Z",
     "shell.execute_reply.started": "2021-12-17T11:13:46.937527Z"
    },
    "tags": []
   },
   "outputs": [],
   "source": [
    "lemmas = lemmas.sort_values([\"freq\"], ascending = False)"
   ]
  },
  {
   "cell_type": "code",
   "execution_count": 152,
   "id": "94e2baf8-c6bf-4cad-b579-0bd78b4233c6",
   "metadata": {
    "execution": {
     "iopub.execute_input": "2021-12-17T11:13:46.985070Z",
     "iopub.status.busy": "2021-12-17T11:13:46.984936Z",
     "iopub.status.idle": "2021-12-17T11:13:46.990927Z",
     "shell.execute_reply": "2021-12-17T11:13:46.990104Z",
     "shell.execute_reply.started": "2021-12-17T11:13:46.985055Z"
    },
    "tags": []
   },
   "outputs": [],
   "source": [
    "lemmas = lemmas[:10000]"
   ]
  },
  {
   "cell_type": "code",
   "execution_count": 153,
   "id": "5aafe419-2bb1-48fa-8e13-6c647edd42cb",
   "metadata": {
    "execution": {
     "iopub.execute_input": "2021-12-17T11:13:46.992212Z",
     "iopub.status.busy": "2021-12-17T11:13:46.991867Z",
     "iopub.status.idle": "2021-12-17T11:13:47.019742Z",
     "shell.execute_reply": "2021-12-17T11:13:47.018717Z",
     "shell.execute_reply.started": "2021-12-17T11:13:46.992188Z"
    },
    "tags": []
   },
   "outputs": [],
   "source": [
    "# Remove irrelevant POS \n",
    "pos_tags = [\"A\", \"D\", \"NC\", \"V\", \"I\"]\n",
    "lemmas_relevant = lemmas[lemmas['POS'].isin(pos_tags)]"
   ]
  },
  {
   "cell_type": "code",
   "execution_count": 154,
   "id": "d7f6ab92-c129-4dc8-94b7-158345cf72c6",
   "metadata": {
    "execution": {
     "iopub.execute_input": "2021-12-17T11:14:17.729491Z",
     "iopub.status.busy": "2021-12-17T11:14:17.729339Z",
     "iopub.status.idle": "2021-12-17T11:14:17.739435Z",
     "shell.execute_reply": "2021-12-17T11:14:17.739020Z",
     "shell.execute_reply.started": "2021-12-17T11:14:17.729476Z"
    },
    "tags": []
   },
   "outputs": [
    {
     "data": {
      "text/html": [
       "<div>\n",
       "<style scoped>\n",
       "    .dataframe tbody tr th:only-of-type {\n",
       "        vertical-align: middle;\n",
       "    }\n",
       "\n",
       "    .dataframe tbody tr th {\n",
       "        vertical-align: top;\n",
       "    }\n",
       "\n",
       "    .dataframe thead th {\n",
       "        text-align: right;\n",
       "    }\n",
       "</style>\n",
       "<table border=\"1\" class=\"dataframe\">\n",
       "  <thead>\n",
       "    <tr style=\"text-align: right;\">\n",
       "      <th></th>\n",
       "      <th>POS</th>\n",
       "      <th>word</th>\n",
       "      <th>freq</th>\n",
       "    </tr>\n",
       "  </thead>\n",
       "  <tbody>\n",
       "    <tr>\n",
       "      <th>1</th>\n",
       "      <td>V</td>\n",
       "      <td>være</td>\n",
       "      <td>0.030935</td>\n",
       "    </tr>\n",
       "    <tr>\n",
       "      <th>10</th>\n",
       "      <td>V</td>\n",
       "      <td>have</td>\n",
       "      <td>0.014103</td>\n",
       "    </tr>\n",
       "    <tr>\n",
       "      <th>16</th>\n",
       "      <td>D</td>\n",
       "      <td>ikke</td>\n",
       "      <td>0.009251</td>\n",
       "    </tr>\n",
       "    <tr>\n",
       "      <th>17</th>\n",
       "      <td>V</td>\n",
       "      <td>kunne</td>\n",
       "      <td>0.006838</td>\n",
       "    </tr>\n",
       "    <tr>\n",
       "      <th>18</th>\n",
       "      <td>V</td>\n",
       "      <td>blive</td>\n",
       "      <td>0.006401</td>\n",
       "    </tr>\n",
       "    <tr>\n",
       "      <th>...</th>\n",
       "      <td>...</td>\n",
       "      <td>...</td>\n",
       "      <td>...</td>\n",
       "    </tr>\n",
       "    <tr>\n",
       "      <th>9995</th>\n",
       "      <td>NC</td>\n",
       "      <td>omløb</td>\n",
       "      <td>0.000004</td>\n",
       "    </tr>\n",
       "    <tr>\n",
       "      <th>9996</th>\n",
       "      <td>NC</td>\n",
       "      <td>regentpar</td>\n",
       "      <td>0.000004</td>\n",
       "    </tr>\n",
       "    <tr>\n",
       "      <th>9997</th>\n",
       "      <td>NC</td>\n",
       "      <td>agenda</td>\n",
       "      <td>0.000004</td>\n",
       "    </tr>\n",
       "    <tr>\n",
       "      <th>9998</th>\n",
       "      <td>NC</td>\n",
       "      <td>efterspil</td>\n",
       "      <td>0.000004</td>\n",
       "    </tr>\n",
       "    <tr>\n",
       "      <th>9999</th>\n",
       "      <td>NC</td>\n",
       "      <td>markedskræfter</td>\n",
       "      <td>0.000004</td>\n",
       "    </tr>\n",
       "  </tbody>\n",
       "</table>\n",
       "<p>9828 rows × 3 columns</p>\n",
       "</div>"
      ],
      "text/plain": [
       "     POS            word      freq\n",
       "1      V            være  0.030935\n",
       "10     V            have  0.014103\n",
       "16     D            ikke  0.009251\n",
       "17     V           kunne  0.006838\n",
       "18     V           blive  0.006401\n",
       "...   ..             ...       ...\n",
       "9995  NC           omløb  0.000004\n",
       "9996  NC       regentpar  0.000004\n",
       "9997  NC          agenda  0.000004\n",
       "9998  NC       efterspil  0.000004\n",
       "9999  NC  markedskræfter  0.000004\n",
       "\n",
       "[9828 rows x 3 columns]"
      ]
     },
     "execution_count": 154,
     "metadata": {},
     "output_type": "execute_result"
    }
   ],
   "source": [
    "lemmas_relevant"
   ]
  },
  {
   "cell_type": "markdown",
   "id": "000309b8-92f2-4cec-9ce7-585d9b81220d",
   "metadata": {},
   "source": [
    "__Match__"
   ]
  },
  {
   "cell_type": "code",
   "execution_count": 121,
   "id": "67aa0155-6540-4e02-a773-ec819a1c615a",
   "metadata": {
    "execution": {
     "iopub.execute_input": "2021-12-17T10:56:46.450293Z",
     "iopub.status.busy": "2021-12-17T10:56:46.450166Z",
     "iopub.status.idle": "2021-12-17T10:56:46.483634Z",
     "shell.execute_reply": "2021-12-17T10:56:46.482894Z",
     "shell.execute_reply.started": "2021-12-17T10:56:46.450280Z"
    },
    "tags": []
   },
   "outputs": [],
   "source": [
    "# read asent\n",
    "asent = pd.read_csv(\"../asent/da_lexicon.csv\")"
   ]
  },
  {
   "cell_type": "code",
   "execution_count": 123,
   "id": "1c8d5e8e-f59d-4aab-b923-cdadc8a692fd",
   "metadata": {
    "execution": {
     "iopub.execute_input": "2021-12-17T10:56:46.492279Z",
     "iopub.status.busy": "2021-12-17T10:56:46.492160Z",
     "iopub.status.idle": "2021-12-17T10:56:46.519653Z",
     "shell.execute_reply": "2021-12-17T10:56:46.518820Z",
     "shell.execute_reply.started": "2021-12-17T10:56:46.492266Z"
    },
    "tags": []
   },
   "outputs": [],
   "source": [
    "lemmas_noasent = lemmas_relevant[~lemmas_relevant['word'].isin(asent[\"word\"].tolist())]"
   ]
  },
  {
   "cell_type": "code",
   "execution_count": 124,
   "id": "72f38e25-d087-4379-9365-55e1b17b9ac8",
   "metadata": {
    "execution": {
     "iopub.execute_input": "2021-12-17T10:56:46.521606Z",
     "iopub.status.busy": "2021-12-17T10:56:46.521077Z",
     "iopub.status.idle": "2021-12-17T10:56:46.558228Z",
     "shell.execute_reply": "2021-12-17T10:56:46.557656Z",
     "shell.execute_reply.started": "2021-12-17T10:56:46.521571Z"
    },
    "tags": []
   },
   "outputs": [
    {
     "data": {
      "text/html": [
       "<div>\n",
       "<style scoped>\n",
       "    .dataframe tbody tr th:only-of-type {\n",
       "        vertical-align: middle;\n",
       "    }\n",
       "\n",
       "    .dataframe tbody tr th {\n",
       "        vertical-align: top;\n",
       "    }\n",
       "\n",
       "    .dataframe thead th {\n",
       "        text-align: right;\n",
       "    }\n",
       "</style>\n",
       "<table border=\"1\" class=\"dataframe\">\n",
       "  <thead>\n",
       "    <tr style=\"text-align: right;\">\n",
       "      <th></th>\n",
       "      <th>POS</th>\n",
       "      <th>word</th>\n",
       "      <th>freq</th>\n",
       "    </tr>\n",
       "  </thead>\n",
       "  <tbody>\n",
       "    <tr>\n",
       "      <th>0</th>\n",
       "      <td>T</td>\n",
       "      <td>i</td>\n",
       "      <td>0.032240</td>\n",
       "    </tr>\n",
       "    <tr>\n",
       "      <th>1</th>\n",
       "      <td>V</td>\n",
       "      <td>være</td>\n",
       "      <td>0.030935</td>\n",
       "    </tr>\n",
       "    <tr>\n",
       "      <th>2</th>\n",
       "      <td>C</td>\n",
       "      <td>og</td>\n",
       "      <td>0.029601</td>\n",
       "    </tr>\n",
       "    <tr>\n",
       "      <th>3</th>\n",
       "      <td>P</td>\n",
       "      <td>en</td>\n",
       "      <td>0.025359</td>\n",
       "    </tr>\n",
       "    <tr>\n",
       "      <th>4</th>\n",
       "      <td>P</td>\n",
       "      <td>den</td>\n",
       "      <td>0.024853</td>\n",
       "    </tr>\n",
       "    <tr>\n",
       "      <th>...</th>\n",
       "      <td>...</td>\n",
       "      <td>...</td>\n",
       "      <td>...</td>\n",
       "    </tr>\n",
       "    <tr>\n",
       "      <th>19993</th>\n",
       "      <td>I</td>\n",
       "      <td>jovist</td>\n",
       "      <td>0.000001</td>\n",
       "    </tr>\n",
       "    <tr>\n",
       "      <th>19992</th>\n",
       "      <td>V</td>\n",
       "      <td>gennemprøve</td>\n",
       "      <td>0.000001</td>\n",
       "    </tr>\n",
       "    <tr>\n",
       "      <th>19991</th>\n",
       "      <td>NC</td>\n",
       "      <td>erstatningsansvar</td>\n",
       "      <td>0.000001</td>\n",
       "    </tr>\n",
       "    <tr>\n",
       "      <th>19990</th>\n",
       "      <td>NC</td>\n",
       "      <td>brændselscelle</td>\n",
       "      <td>0.000001</td>\n",
       "    </tr>\n",
       "    <tr>\n",
       "      <th>20004</th>\n",
       "      <td>NC</td>\n",
       "      <td>møbelarkitekt</td>\n",
       "      <td>0.000001</td>\n",
       "    </tr>\n",
       "  </tbody>\n",
       "</table>\n",
       "<p>13705 rows × 3 columns</p>\n",
       "</div>"
      ],
      "text/plain": [
       "      POS               word      freq\n",
       "0       T                  i  0.032240\n",
       "1       V               være  0.030935\n",
       "2       C                 og  0.029601\n",
       "3       P                 en  0.025359\n",
       "4       P                den  0.024853\n",
       "...    ..                ...       ...\n",
       "19993   I             jovist  0.000001\n",
       "19992   V        gennemprøve  0.000001\n",
       "19991  NC  erstatningsansvar  0.000001\n",
       "19990  NC     brændselscelle  0.000001\n",
       "20004  NC      møbelarkitekt  0.000001\n",
       "\n",
       "[13705 rows x 3 columns]"
      ]
     },
     "execution_count": 124,
     "metadata": {},
     "output_type": "execute_result"
    }
   ],
   "source": [
    "lemmas_noasent"
   ]
  },
  {
   "cell_type": "markdown",
   "id": "ce58675f-85d4-4d57-86a2-779d64f64ca6",
   "metadata": {},
   "source": [
    "__Find word embeddings for lemmas__"
   ]
  },
  {
   "cell_type": "code",
   "execution_count": 135,
   "id": "6e93a496-deed-4848-b1c6-ce8670a31d91",
   "metadata": {
    "execution": {
     "iopub.execute_input": "2021-12-17T11:04:02.570941Z",
     "iopub.status.busy": "2021-12-17T11:04:02.570421Z",
     "iopub.status.idle": "2021-12-17T11:04:08.856023Z",
     "shell.execute_reply": "2021-12-17T11:04:08.855376Z",
     "shell.execute_reply.started": "2021-12-17T11:04:02.570895Z"
    },
    "tags": []
   },
   "outputs": [],
   "source": [
    "word2vec = KeyedVectors.load_word2vec_format('../../DAGW-model-300dm.bin', binary=True)"
   ]
  },
  {
   "cell_type": "code",
   "execution_count": 136,
   "id": "9cfb0995-49a8-4636-989c-8351bbe7a998",
   "metadata": {
    "execution": {
     "iopub.execute_input": "2021-12-17T11:06:18.313418Z",
     "iopub.status.busy": "2021-12-17T11:06:18.313217Z",
     "iopub.status.idle": "2021-12-17T11:06:19.809306Z",
     "shell.execute_reply": "2021-12-17T11:06:19.808680Z",
     "shell.execute_reply.started": "2021-12-17T11:06:18.313401Z"
    },
    "tags": []
   },
   "outputs": [],
   "source": [
    "word2vec_dict = dict({})\n",
    "for idx, key in enumerate(word2vec.key_to_index):\n",
    "    word2vec_dict[key] = word2vec[key]"
   ]
  },
  {
   "cell_type": "code",
   "execution_count": 158,
   "id": "205fa8e5-1d2f-479b-abe7-75ad9298b85b",
   "metadata": {
    "execution": {
     "iopub.execute_input": "2021-12-17T11:32:30.867231Z",
     "iopub.status.busy": "2021-12-17T11:32:30.867080Z",
     "iopub.status.idle": "2021-12-17T11:32:30.870895Z",
     "shell.execute_reply": "2021-12-17T11:32:30.870374Z",
     "shell.execute_reply.started": "2021-12-17T11:32:30.867216Z"
    },
    "tags": []
   },
   "outputs": [],
   "source": [
    "embeddings_to_predict = np.zeros(len(lemmas_noasent))"
   ]
  },
  {
   "cell_type": "code",
   "execution_count": 162,
   "id": "4934ddb5-bc98-4101-973f-84ac9fde3e32",
   "metadata": {
    "execution": {
     "iopub.execute_input": "2021-12-17T11:42:52.803846Z",
     "iopub.status.busy": "2021-12-17T11:42:52.803633Z",
     "iopub.status.idle": "2021-12-17T11:42:53.216416Z",
     "shell.execute_reply": "2021-12-17T11:42:53.215348Z",
     "shell.execute_reply.started": "2021-12-17T11:42:52.803830Z"
    },
    "tags": []
   },
   "outputs": [],
   "source": [
    "embeddings_to_predict = []\n",
    "words_to_predict = []\n",
    "\n",
    "for idx, row in lemmas_noasent.iterrows():\n",
    "    # get word from lemma df\n",
    "    word = row[\"word\"]\n",
    "    # get embedding of corresponding word\n",
    "    if word in word2vec_dict:\n",
    "        embedding = word2vec_dict[word]\n",
    "        # append word to word list\n",
    "        words_to_predict.append(word)\n",
    "        # append embedding to embedding list\n",
    "        embeddings_to_predict.append(embedding)"
   ]
  },
  {
   "cell_type": "markdown",
   "id": "6307d4af-16d7-4b63-b3be-eefccdc1eb0b",
   "metadata": {},
   "source": [
    "__Convert to array and save__"
   ]
  },
  {
   "cell_type": "code",
   "execution_count": 165,
   "id": "f18bb07a-1878-4dd5-8fb3-40bbc36b313f",
   "metadata": {
    "execution": {
     "iopub.execute_input": "2021-12-17T11:44:17.354485Z",
     "iopub.status.busy": "2021-12-17T11:44:17.354327Z",
     "iopub.status.idle": "2021-12-17T11:44:17.371137Z",
     "shell.execute_reply": "2021-12-17T11:44:17.370606Z",
     "shell.execute_reply.started": "2021-12-17T11:44:17.354467Z"
    },
    "tags": []
   },
   "outputs": [],
   "source": [
    "embeddings_array = np.array(embeddings_to_predict)"
   ]
  },
  {
   "cell_type": "code",
   "execution_count": 169,
   "id": "73e1db3f-1bec-4b16-b00d-9bd125932ab0",
   "metadata": {
    "execution": {
     "iopub.execute_input": "2021-12-17T11:47:07.337258Z",
     "iopub.status.busy": "2021-12-17T11:47:07.337070Z",
     "iopub.status.idle": "2021-12-17T11:47:07.342328Z",
     "shell.execute_reply": "2021-12-17T11:47:07.341793Z",
     "shell.execute_reply.started": "2021-12-17T11:47:07.337241Z"
    },
    "tags": []
   },
   "outputs": [],
   "source": [
    "words_array = np.array(words_to_predict)"
   ]
  },
  {
   "cell_type": "code",
   "execution_count": 170,
   "id": "55774422-3228-45e7-a8da-7bc7e7f25f46",
   "metadata": {
    "execution": {
     "iopub.execute_input": "2021-12-17T11:47:21.201351Z",
     "iopub.status.busy": "2021-12-17T11:47:21.201113Z",
     "iopub.status.idle": "2021-12-17T11:47:21.268914Z",
     "shell.execute_reply": "2021-12-17T11:47:21.268219Z",
     "shell.execute_reply.started": "2021-12-17T11:47:21.201330Z"
    },
    "tags": []
   },
   "outputs": [],
   "source": [
    "np.save(\"../output/X_array_embeds_to_predict.npy\", embeddings_array)"
   ]
  },
  {
   "cell_type": "code",
   "execution_count": 171,
   "id": "5f83c922-25b8-44ad-8b8d-fdbb8a70a7b7",
   "metadata": {
    "execution": {
     "iopub.execute_input": "2021-12-17T11:47:35.056982Z",
     "iopub.status.busy": "2021-12-17T11:47:35.056840Z",
     "iopub.status.idle": "2021-12-17T11:47:35.060583Z",
     "shell.execute_reply": "2021-12-17T11:47:35.060055Z",
     "shell.execute_reply.started": "2021-12-17T11:47:35.056968Z"
    },
    "tags": []
   },
   "outputs": [],
   "source": [
    "np.save(\"../output/X_array_words_to_predict.npy\", words_array)"
   ]
  },
  {
   "cell_type": "code",
   "execution_count": 187,
   "id": "87fa07ee-6e64-4c13-bdb6-70063fcd9d80",
   "metadata": {
    "execution": {
     "iopub.execute_input": "2021-12-17T12:32:48.898474Z",
     "iopub.status.busy": "2021-12-17T12:32:48.898319Z",
     "iopub.status.idle": "2021-12-17T12:32:48.912555Z",
     "shell.execute_reply": "2021-12-17T12:32:48.911824Z",
     "shell.execute_reply.started": "2021-12-17T12:32:48.898458Z"
    },
    "tags": []
   },
   "outputs": [],
   "source": [
    "sentiment_predictions = pd.read_csv(\"../output/sentiment_predictions.csv\")"
   ]
  },
  {
   "cell_type": "code",
   "execution_count": 188,
   "id": "6b8d31fe-442c-4951-8a8e-e6190838fd9d",
   "metadata": {
    "execution": {
     "iopub.execute_input": "2021-12-17T12:32:48.913891Z",
     "iopub.status.busy": "2021-12-17T12:32:48.913611Z",
     "iopub.status.idle": "2021-12-17T12:32:48.940603Z",
     "shell.execute_reply": "2021-12-17T12:32:48.940025Z",
     "shell.execute_reply.started": "2021-12-17T12:32:48.913859Z"
    },
    "tags": []
   },
   "outputs": [
    {
     "data": {
      "text/html": [
       "<div>\n",
       "<style scoped>\n",
       "    .dataframe tbody tr th:only-of-type {\n",
       "        vertical-align: middle;\n",
       "    }\n",
       "\n",
       "    .dataframe tbody tr th {\n",
       "        vertical-align: top;\n",
       "    }\n",
       "\n",
       "    .dataframe thead th {\n",
       "        text-align: right;\n",
       "    }\n",
       "</style>\n",
       "<table border=\"1\" class=\"dataframe\">\n",
       "  <thead>\n",
       "    <tr style=\"text-align: right;\">\n",
       "      <th></th>\n",
       "      <th>Unnamed: 0</th>\n",
       "      <th>word</th>\n",
       "      <th>predicted_sentiment</th>\n",
       "      <th>restricted_sentiments</th>\n",
       "    </tr>\n",
       "  </thead>\n",
       "  <tbody>\n",
       "    <tr>\n",
       "      <th>2931</th>\n",
       "      <td>2931</td>\n",
       "      <td>indland</td>\n",
       "      <td>-6.490899</td>\n",
       "      <td>-5.000000</td>\n",
       "    </tr>\n",
       "    <tr>\n",
       "      <th>4202</th>\n",
       "      <td>4202</td>\n",
       "      <td>flyrejse</td>\n",
       "      <td>-5.140041</td>\n",
       "      <td>-5.000000</td>\n",
       "    </tr>\n",
       "    <tr>\n",
       "      <th>7811</th>\n",
       "      <td>7811</td>\n",
       "      <td>torden</td>\n",
       "      <td>-4.624526</td>\n",
       "      <td>-4.624526</td>\n",
       "    </tr>\n",
       "    <tr>\n",
       "      <th>9212</th>\n",
       "      <td>9212</td>\n",
       "      <td>lydbog</td>\n",
       "      <td>-4.616482</td>\n",
       "      <td>-4.616482</td>\n",
       "    </tr>\n",
       "    <tr>\n",
       "      <th>3746</th>\n",
       "      <td>3746</td>\n",
       "      <td>grundskyld</td>\n",
       "      <td>-4.417791</td>\n",
       "      <td>-4.417791</td>\n",
       "    </tr>\n",
       "    <tr>\n",
       "      <th>...</th>\n",
       "      <td>...</td>\n",
       "      <td>...</td>\n",
       "      <td>...</td>\n",
       "      <td>...</td>\n",
       "    </tr>\n",
       "    <tr>\n",
       "      <th>4337</th>\n",
       "      <td>4337</td>\n",
       "      <td>tilvejebringe</td>\n",
       "      <td>4.641769</td>\n",
       "      <td>4.641768</td>\n",
       "    </tr>\n",
       "    <tr>\n",
       "      <th>1622</th>\n",
       "      <td>1622</td>\n",
       "      <td>udveksle</td>\n",
       "      <td>4.728841</td>\n",
       "      <td>4.728841</td>\n",
       "    </tr>\n",
       "    <tr>\n",
       "      <th>3166</th>\n",
       "      <td>3166</td>\n",
       "      <td>ejendomsret</td>\n",
       "      <td>4.832168</td>\n",
       "      <td>4.832168</td>\n",
       "    </tr>\n",
       "    <tr>\n",
       "      <th>12188</th>\n",
       "      <td>12188</td>\n",
       "      <td>personoplysning</td>\n",
       "      <td>5.025722</td>\n",
       "      <td>5.000000</td>\n",
       "    </tr>\n",
       "    <tr>\n",
       "      <th>1992</th>\n",
       "      <td>1992</td>\n",
       "      <td>udveksling</td>\n",
       "      <td>5.800722</td>\n",
       "      <td>5.000000</td>\n",
       "    </tr>\n",
       "  </tbody>\n",
       "</table>\n",
       "<p>12784 rows × 4 columns</p>\n",
       "</div>"
      ],
      "text/plain": [
       "       Unnamed: 0             word  predicted_sentiment  restricted_sentiments\n",
       "2931         2931          indland            -6.490899              -5.000000\n",
       "4202         4202         flyrejse            -5.140041              -5.000000\n",
       "7811         7811           torden            -4.624526              -4.624526\n",
       "9212         9212           lydbog            -4.616482              -4.616482\n",
       "3746         3746       grundskyld            -4.417791              -4.417791\n",
       "...           ...              ...                  ...                    ...\n",
       "4337         4337    tilvejebringe             4.641769               4.641768\n",
       "1622         1622         udveksle             4.728841               4.728841\n",
       "3166         3166      ejendomsret             4.832168               4.832168\n",
       "12188       12188  personoplysning             5.025722               5.000000\n",
       "1992         1992       udveksling             5.800722               5.000000\n",
       "\n",
       "[12784 rows x 4 columns]"
      ]
     },
     "execution_count": 188,
     "metadata": {},
     "output_type": "execute_result"
    }
   ],
   "source": [
    "sentiment_predictions.sort_values(\"predicted_sentiment\", ascending = True)"
   ]
  },
  {
   "cell_type": "code",
   "execution_count": 196,
   "id": "0471f9d3-84b2-47dd-aa9a-8e4e29f4d282",
   "metadata": {
    "execution": {
     "iopub.execute_input": "2021-12-17T12:44:59.199593Z",
     "iopub.status.busy": "2021-12-17T12:44:59.199317Z",
     "iopub.status.idle": "2021-12-17T12:44:59.209034Z",
     "shell.execute_reply": "2021-12-17T12:44:59.208486Z",
     "shell.execute_reply.started": "2021-12-17T12:44:59.199574Z"
    },
    "tags": []
   },
   "outputs": [],
   "source": [
    "freq_preds = lemmas_noasent[lemmas_noasent['word'].isin(words_to_predict)]\n",
    "sentiment_predictions[\"freq\"] = freq_preds[\"freq\"].tolist()"
   ]
  },
  {
   "cell_type": "code",
   "execution_count": 197,
   "id": "8e7fff53-d309-4bbc-a19a-6ed5dd958cbb",
   "metadata": {
    "execution": {
     "iopub.execute_input": "2021-12-17T12:45:03.859231Z",
     "iopub.status.busy": "2021-12-17T12:45:03.859092Z",
     "iopub.status.idle": "2021-12-17T12:45:03.869978Z",
     "shell.execute_reply": "2021-12-17T12:45:03.869475Z",
     "shell.execute_reply.started": "2021-12-17T12:45:03.859216Z"
    },
    "tags": []
   },
   "outputs": [
    {
     "data": {
      "text/html": [
       "<div>\n",
       "<style scoped>\n",
       "    .dataframe tbody tr th:only-of-type {\n",
       "        vertical-align: middle;\n",
       "    }\n",
       "\n",
       "    .dataframe tbody tr th {\n",
       "        vertical-align: top;\n",
       "    }\n",
       "\n",
       "    .dataframe thead th {\n",
       "        text-align: right;\n",
       "    }\n",
       "</style>\n",
       "<table border=\"1\" class=\"dataframe\">\n",
       "  <thead>\n",
       "    <tr style=\"text-align: right;\">\n",
       "      <th></th>\n",
       "      <th>Unnamed: 0</th>\n",
       "      <th>word</th>\n",
       "      <th>predicted_sentiment</th>\n",
       "      <th>restricted_sentiments</th>\n",
       "      <th>freq</th>\n",
       "    </tr>\n",
       "  </thead>\n",
       "  <tbody>\n",
       "    <tr>\n",
       "      <th>0</th>\n",
       "      <td>0</td>\n",
       "      <td>være</td>\n",
       "      <td>0.075997</td>\n",
       "      <td>0.075997</td>\n",
       "      <td>0.030935</td>\n",
       "    </tr>\n",
       "    <tr>\n",
       "      <th>1</th>\n",
       "      <td>1</td>\n",
       "      <td>og</td>\n",
       "      <td>1.065916</td>\n",
       "      <td>1.065916</td>\n",
       "      <td>0.029601</td>\n",
       "    </tr>\n",
       "    <tr>\n",
       "      <th>2</th>\n",
       "      <td>2</td>\n",
       "      <td>en</td>\n",
       "      <td>-0.034691</td>\n",
       "      <td>-0.034691</td>\n",
       "      <td>0.025359</td>\n",
       "    </tr>\n",
       "    <tr>\n",
       "      <th>3</th>\n",
       "      <td>3</td>\n",
       "      <td>den</td>\n",
       "      <td>-0.255576</td>\n",
       "      <td>-0.255576</td>\n",
       "      <td>0.024853</td>\n",
       "    </tr>\n",
       "    <tr>\n",
       "      <th>4</th>\n",
       "      <td>4</td>\n",
       "      <td>på</td>\n",
       "      <td>-0.744279</td>\n",
       "      <td>-0.744280</td>\n",
       "      <td>0.015318</td>\n",
       "    </tr>\n",
       "    <tr>\n",
       "      <th>...</th>\n",
       "      <td>...</td>\n",
       "      <td>...</td>\n",
       "      <td>...</td>\n",
       "      <td>...</td>\n",
       "      <td>...</td>\n",
       "    </tr>\n",
       "    <tr>\n",
       "      <th>12779</th>\n",
       "      <td>12779</td>\n",
       "      <td>klarinettist</td>\n",
       "      <td>-0.495826</td>\n",
       "      <td>-0.495826</td>\n",
       "      <td>0.000001</td>\n",
       "    </tr>\n",
       "    <tr>\n",
       "      <th>12780</th>\n",
       "      <td>12780</td>\n",
       "      <td>jovist</td>\n",
       "      <td>-0.868193</td>\n",
       "      <td>-0.868193</td>\n",
       "      <td>0.000001</td>\n",
       "    </tr>\n",
       "    <tr>\n",
       "      <th>12781</th>\n",
       "      <td>12781</td>\n",
       "      <td>gennemprøve</td>\n",
       "      <td>0.409137</td>\n",
       "      <td>0.409137</td>\n",
       "      <td>0.000001</td>\n",
       "    </tr>\n",
       "    <tr>\n",
       "      <th>12782</th>\n",
       "      <td>12782</td>\n",
       "      <td>brændselscelle</td>\n",
       "      <td>-0.515832</td>\n",
       "      <td>-0.515832</td>\n",
       "      <td>0.000001</td>\n",
       "    </tr>\n",
       "    <tr>\n",
       "      <th>12783</th>\n",
       "      <td>12783</td>\n",
       "      <td>møbelarkitekt</td>\n",
       "      <td>-0.276785</td>\n",
       "      <td>-0.276785</td>\n",
       "      <td>0.000001</td>\n",
       "    </tr>\n",
       "  </tbody>\n",
       "</table>\n",
       "<p>12784 rows × 5 columns</p>\n",
       "</div>"
      ],
      "text/plain": [
       "       Unnamed: 0            word  predicted_sentiment  restricted_sentiments  \\\n",
       "0               0            være             0.075997               0.075997   \n",
       "1               1              og             1.065916               1.065916   \n",
       "2               2              en            -0.034691              -0.034691   \n",
       "3               3             den            -0.255576              -0.255576   \n",
       "4               4              på            -0.744279              -0.744280   \n",
       "...           ...             ...                  ...                    ...   \n",
       "12779       12779    klarinettist            -0.495826              -0.495826   \n",
       "12780       12780          jovist            -0.868193              -0.868193   \n",
       "12781       12781     gennemprøve             0.409137               0.409137   \n",
       "12782       12782  brændselscelle            -0.515832              -0.515832   \n",
       "12783       12783   møbelarkitekt            -0.276785              -0.276785   \n",
       "\n",
       "           freq  \n",
       "0      0.030935  \n",
       "1      0.029601  \n",
       "2      0.025359  \n",
       "3      0.024853  \n",
       "4      0.015318  \n",
       "...         ...  \n",
       "12779  0.000001  \n",
       "12780  0.000001  \n",
       "12781  0.000001  \n",
       "12782  0.000001  \n",
       "12783  0.000001  \n",
       "\n",
       "[12784 rows x 5 columns]"
      ]
     },
     "execution_count": 197,
     "metadata": {},
     "output_type": "execute_result"
    }
   ],
   "source": [
    "sentiment_predictions"
   ]
  },
  {
   "cell_type": "code",
   "execution_count": 201,
   "id": "7a6151ee-e0e2-405a-9516-f35ae50a0d7b",
   "metadata": {
    "execution": {
     "iopub.execute_input": "2021-12-17T12:48:47.695596Z",
     "iopub.status.busy": "2021-12-17T12:48:47.695460Z",
     "iopub.status.idle": "2021-12-17T12:48:47.794660Z",
     "shell.execute_reply": "2021-12-17T12:48:47.794139Z",
     "shell.execute_reply.started": "2021-12-17T12:48:47.695580Z"
    },
    "tags": []
   },
   "outputs": [
    {
     "data": {
      "text/plain": [
       "[<matplotlib.lines.Line2D at 0x7f1831e4ea90>]"
      ]
     },
     "execution_count": 201,
     "metadata": {},
     "output_type": "execute_result"
    },
    {
     "data": {
      "image/png": "[encoded data removed]",
      "text/plain": [
       "<Figure size 432x288 with 1 Axes>"
      ]
     },
     "metadata": {
      "needs_background": "light"
     },
     "output_type": "display_data"
    }
   ],
   "source": [
    "plt.plot(sentiment_predictions[\"restricted_sentiments\"], sentiment_predictions[\"freq\"], marker=\"o\", linestyle = \"\")"
   ]
  },
  {
   "cell_type": "code",
   "execution_count": 186,
   "id": "40fc636f-aa3c-45c4-b509-ef5aafb998f6",
   "metadata": {
    "execution": {
     "iopub.execute_input": "2021-12-17T12:13:14.839193Z",
     "iopub.status.busy": "2021-12-17T12:13:14.839034Z",
     "iopub.status.idle": "2021-12-17T12:13:14.848260Z",
     "shell.execute_reply": "2021-12-17T12:13:14.847782Z",
     "shell.execute_reply.started": "2021-12-17T12:13:14.839176Z"
    },
    "tags": []
   },
   "outputs": [
    {
     "data": {
      "text/plain": [
       "-0.053233399896836654"
      ]
     },
     "execution_count": 186,
     "metadata": {},
     "output_type": "execute_result"
    }
   ],
   "source": [
    "np.mean(sentiment_predictions[\"predicted_sentiment\"])"
   ]
  },
  {
   "cell_type": "code",
   "execution_count": null,
   "id": "8eba4982-3aec-42b9-a94d-f1bd33fbc44d",
   "metadata": {},
   "outputs": [],
   "source": []
  }
 ],
 "metadata": {
  "kernelspec": {
   "display_name": "Python 3 ",
   "language": "python",
   "name": "python3"
  },
  "language_info": {
   "codemirror_mode": {
    "name": "ipython",
    "version": 3
   },
   "file_extension": ".py",
   "mimetype": "text/x-python",
   "name": "python",
   "nbconvert_exporter": "python",
   "pygments_lexer": "ipython3",
   "version": "3.9.6"
  }
 },
 "nbformat": 4,
 "nbformat_minor": 5
}
